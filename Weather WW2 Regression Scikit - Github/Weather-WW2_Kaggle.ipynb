{
 "cells": [
  {
   "cell_type": "markdown",
   "metadata": {},
   "source": [
    "## Multiple Linear Regression - Scikit Implementation\n",
    "\n",
    "\n",
    "    ###Data: Weather Summary-WW2:Kaggle"
   ]
  },
  {
   "cell_type": "code",
   "execution_count": 2,
   "metadata": {
    "collapsed": true
   },
   "outputs": [],
   "source": [
    "#importing necessary packages\n",
    "import pandas as pd"
   ]
  },
  {
   "cell_type": "code",
   "execution_count": 3,
   "metadata": {},
   "outputs": [],
   "source": [
    "#importing WW2 weather data set\n",
    "path = 'C:\\\\Users\\\\Rakib\\\\Downloads\\\\Completed Projects -- Machine Learning IBM\\Regression Data Set Kaggle\\\n",
    "\\Weather WW2 Regression Scikit - Github\\\\Summary of Weather.csv'\n",
    "weather = pd.read_csv(path, low_memory=False)"
   ]
  },
  {
   "cell_type": "code",
   "execution_count": 5,
   "metadata": {},
   "outputs": [
    {
     "data": {
      "text/plain": [
       "Index(['STA', 'Date', 'Precip', 'WindGustSpd', 'MaxTemp', 'MinTemp',\n",
       "       'MeanTemp', 'Snowfall', 'PoorWeather', 'YR', 'MO', 'DA', 'PRCP', 'DR',\n",
       "       'SPD', 'MAX', 'MIN', 'MEA', 'SNF', 'SND', 'FT', 'FB', 'FTI', 'ITH',\n",
       "       'PGT', 'TSHDSBRSGF', 'SD3', 'RHX', 'RHN', 'RVG', 'WTE'],\n",
       "      dtype='object')"
      ]
     },
     "execution_count": 5,
     "metadata": {},
     "output_type": "execute_result"
    }
   ],
   "source": [
    "#name of columns\n",
    "weather.columns"
   ]
  },
  {
   "cell_type": "code",
   "execution_count": 6,
   "metadata": {},
   "outputs": [
    {
     "data": {
      "text/html": [
       "<div>\n",
       "<style>\n",
       "    .dataframe thead tr:only-child th {\n",
       "        text-align: right;\n",
       "    }\n",
       "\n",
       "    .dataframe thead th {\n",
       "        text-align: left;\n",
       "    }\n",
       "\n",
       "    .dataframe tbody tr th {\n",
       "        vertical-align: top;\n",
       "    }\n",
       "</style>\n",
       "<table border=\"1\" class=\"dataframe\">\n",
       "  <thead>\n",
       "    <tr style=\"text-align: right;\">\n",
       "      <th></th>\n",
       "      <th>STA</th>\n",
       "      <th>Date</th>\n",
       "      <th>Precip</th>\n",
       "      <th>WindGustSpd</th>\n",
       "      <th>MaxTemp</th>\n",
       "      <th>MinTemp</th>\n",
       "      <th>MeanTemp</th>\n",
       "      <th>Snowfall</th>\n",
       "      <th>PoorWeather</th>\n",
       "      <th>YR</th>\n",
       "      <th>...</th>\n",
       "      <th>FB</th>\n",
       "      <th>FTI</th>\n",
       "      <th>ITH</th>\n",
       "      <th>PGT</th>\n",
       "      <th>TSHDSBRSGF</th>\n",
       "      <th>SD3</th>\n",
       "      <th>RHX</th>\n",
       "      <th>RHN</th>\n",
       "      <th>RVG</th>\n",
       "      <th>WTE</th>\n",
       "    </tr>\n",
       "  </thead>\n",
       "  <tbody>\n",
       "    <tr>\n",
       "      <th>0</th>\n",
       "      <td>10001</td>\n",
       "      <td>1942-7-1</td>\n",
       "      <td>1.016</td>\n",
       "      <td>NaN</td>\n",
       "      <td>25.555556</td>\n",
       "      <td>22.222222</td>\n",
       "      <td>23.888889</td>\n",
       "      <td>0</td>\n",
       "      <td>NaN</td>\n",
       "      <td>42</td>\n",
       "      <td>...</td>\n",
       "      <td>NaN</td>\n",
       "      <td>NaN</td>\n",
       "      <td>NaN</td>\n",
       "      <td>NaN</td>\n",
       "      <td>NaN</td>\n",
       "      <td>NaN</td>\n",
       "      <td>NaN</td>\n",
       "      <td>NaN</td>\n",
       "      <td>NaN</td>\n",
       "      <td>NaN</td>\n",
       "    </tr>\n",
       "    <tr>\n",
       "      <th>1</th>\n",
       "      <td>10001</td>\n",
       "      <td>1942-7-2</td>\n",
       "      <td>0</td>\n",
       "      <td>NaN</td>\n",
       "      <td>28.888889</td>\n",
       "      <td>21.666667</td>\n",
       "      <td>25.555556</td>\n",
       "      <td>0</td>\n",
       "      <td>NaN</td>\n",
       "      <td>42</td>\n",
       "      <td>...</td>\n",
       "      <td>NaN</td>\n",
       "      <td>NaN</td>\n",
       "      <td>NaN</td>\n",
       "      <td>NaN</td>\n",
       "      <td>NaN</td>\n",
       "      <td>NaN</td>\n",
       "      <td>NaN</td>\n",
       "      <td>NaN</td>\n",
       "      <td>NaN</td>\n",
       "      <td>NaN</td>\n",
       "    </tr>\n",
       "    <tr>\n",
       "      <th>2</th>\n",
       "      <td>10001</td>\n",
       "      <td>1942-7-3</td>\n",
       "      <td>2.54</td>\n",
       "      <td>NaN</td>\n",
       "      <td>26.111111</td>\n",
       "      <td>22.222222</td>\n",
       "      <td>24.444444</td>\n",
       "      <td>0</td>\n",
       "      <td>NaN</td>\n",
       "      <td>42</td>\n",
       "      <td>...</td>\n",
       "      <td>NaN</td>\n",
       "      <td>NaN</td>\n",
       "      <td>NaN</td>\n",
       "      <td>NaN</td>\n",
       "      <td>NaN</td>\n",
       "      <td>NaN</td>\n",
       "      <td>NaN</td>\n",
       "      <td>NaN</td>\n",
       "      <td>NaN</td>\n",
       "      <td>NaN</td>\n",
       "    </tr>\n",
       "    <tr>\n",
       "      <th>3</th>\n",
       "      <td>10001</td>\n",
       "      <td>1942-7-4</td>\n",
       "      <td>2.54</td>\n",
       "      <td>NaN</td>\n",
       "      <td>26.666667</td>\n",
       "      <td>22.222222</td>\n",
       "      <td>24.444444</td>\n",
       "      <td>0</td>\n",
       "      <td>NaN</td>\n",
       "      <td>42</td>\n",
       "      <td>...</td>\n",
       "      <td>NaN</td>\n",
       "      <td>NaN</td>\n",
       "      <td>NaN</td>\n",
       "      <td>NaN</td>\n",
       "      <td>NaN</td>\n",
       "      <td>NaN</td>\n",
       "      <td>NaN</td>\n",
       "      <td>NaN</td>\n",
       "      <td>NaN</td>\n",
       "      <td>NaN</td>\n",
       "    </tr>\n",
       "    <tr>\n",
       "      <th>4</th>\n",
       "      <td>10001</td>\n",
       "      <td>1942-7-5</td>\n",
       "      <td>0</td>\n",
       "      <td>NaN</td>\n",
       "      <td>26.666667</td>\n",
       "      <td>21.666667</td>\n",
       "      <td>24.444444</td>\n",
       "      <td>0</td>\n",
       "      <td>NaN</td>\n",
       "      <td>42</td>\n",
       "      <td>...</td>\n",
       "      <td>NaN</td>\n",
       "      <td>NaN</td>\n",
       "      <td>NaN</td>\n",
       "      <td>NaN</td>\n",
       "      <td>NaN</td>\n",
       "      <td>NaN</td>\n",
       "      <td>NaN</td>\n",
       "      <td>NaN</td>\n",
       "      <td>NaN</td>\n",
       "      <td>NaN</td>\n",
       "    </tr>\n",
       "  </tbody>\n",
       "</table>\n",
       "<p>5 rows × 31 columns</p>\n",
       "</div>"
      ],
      "text/plain": [
       "     STA      Date Precip  WindGustSpd    MaxTemp    MinTemp   MeanTemp  \\\n",
       "0  10001  1942-7-1  1.016          NaN  25.555556  22.222222  23.888889   \n",
       "1  10001  1942-7-2      0          NaN  28.888889  21.666667  25.555556   \n",
       "2  10001  1942-7-3   2.54          NaN  26.111111  22.222222  24.444444   \n",
       "3  10001  1942-7-4   2.54          NaN  26.666667  22.222222  24.444444   \n",
       "4  10001  1942-7-5      0          NaN  26.666667  21.666667  24.444444   \n",
       "\n",
       "  Snowfall PoorWeather  YR ...   FB  FTI ITH  PGT  TSHDSBRSGF  SD3  RHX  RHN  \\\n",
       "0        0         NaN  42 ...  NaN  NaN NaN  NaN         NaN  NaN  NaN  NaN   \n",
       "1        0         NaN  42 ...  NaN  NaN NaN  NaN         NaN  NaN  NaN  NaN   \n",
       "2        0         NaN  42 ...  NaN  NaN NaN  NaN         NaN  NaN  NaN  NaN   \n",
       "3        0         NaN  42 ...  NaN  NaN NaN  NaN         NaN  NaN  NaN  NaN   \n",
       "4        0         NaN  42 ...  NaN  NaN NaN  NaN         NaN  NaN  NaN  NaN   \n",
       "\n",
       "  RVG  WTE  \n",
       "0 NaN  NaN  \n",
       "1 NaN  NaN  \n",
       "2 NaN  NaN  \n",
       "3 NaN  NaN  \n",
       "4 NaN  NaN  \n",
       "\n",
       "[5 rows x 31 columns]"
      ]
     },
     "execution_count": 6,
     "metadata": {},
     "output_type": "execute_result"
    }
   ],
   "source": [
    "#headings\n",
    "weather.head()"
   ]
  },
  {
   "cell_type": "code",
   "execution_count": 7,
   "metadata": {},
   "outputs": [
    {
     "data": {
      "text/html": [
       "<div>\n",
       "<style>\n",
       "    .dataframe thead tr:only-child th {\n",
       "        text-align: right;\n",
       "    }\n",
       "\n",
       "    .dataframe thead th {\n",
       "        text-align: left;\n",
       "    }\n",
       "\n",
       "    .dataframe tbody tr th {\n",
       "        vertical-align: top;\n",
       "    }\n",
       "</style>\n",
       "<table border=\"1\" class=\"dataframe\">\n",
       "  <thead>\n",
       "    <tr style=\"text-align: right;\">\n",
       "      <th></th>\n",
       "      <th>count</th>\n",
       "      <th>mean</th>\n",
       "      <th>std</th>\n",
       "      <th>min</th>\n",
       "      <th>25%</th>\n",
       "      <th>50%</th>\n",
       "      <th>75%</th>\n",
       "      <th>max</th>\n",
       "    </tr>\n",
       "  </thead>\n",
       "  <tbody>\n",
       "    <tr>\n",
       "      <th>STA</th>\n",
       "      <td>119040.0</td>\n",
       "      <td>29659.435795</td>\n",
       "      <td>20953.209402</td>\n",
       "      <td>10001.000000</td>\n",
       "      <td>11801.000000</td>\n",
       "      <td>22508.000000</td>\n",
       "      <td>33501.000000</td>\n",
       "      <td>82506.000000</td>\n",
       "    </tr>\n",
       "    <tr>\n",
       "      <th>WindGustSpd</th>\n",
       "      <td>532.0</td>\n",
       "      <td>37.774534</td>\n",
       "      <td>10.297808</td>\n",
       "      <td>18.520000</td>\n",
       "      <td>29.632000</td>\n",
       "      <td>37.040000</td>\n",
       "      <td>43.059000</td>\n",
       "      <td>75.932000</td>\n",
       "    </tr>\n",
       "    <tr>\n",
       "      <th>MaxTemp</th>\n",
       "      <td>119040.0</td>\n",
       "      <td>27.045111</td>\n",
       "      <td>8.717817</td>\n",
       "      <td>-33.333333</td>\n",
       "      <td>25.555556</td>\n",
       "      <td>29.444444</td>\n",
       "      <td>31.666667</td>\n",
       "      <td>50.000000</td>\n",
       "    </tr>\n",
       "    <tr>\n",
       "      <th>MinTemp</th>\n",
       "      <td>119040.0</td>\n",
       "      <td>17.789511</td>\n",
       "      <td>8.334572</td>\n",
       "      <td>-38.333333</td>\n",
       "      <td>15.000000</td>\n",
       "      <td>21.111111</td>\n",
       "      <td>23.333333</td>\n",
       "      <td>34.444444</td>\n",
       "    </tr>\n",
       "    <tr>\n",
       "      <th>MeanTemp</th>\n",
       "      <td>119040.0</td>\n",
       "      <td>22.411631</td>\n",
       "      <td>8.297982</td>\n",
       "      <td>-35.555556</td>\n",
       "      <td>20.555556</td>\n",
       "      <td>25.555556</td>\n",
       "      <td>27.222222</td>\n",
       "      <td>40.000000</td>\n",
       "    </tr>\n",
       "    <tr>\n",
       "      <th>YR</th>\n",
       "      <td>119040.0</td>\n",
       "      <td>43.805284</td>\n",
       "      <td>1.136718</td>\n",
       "      <td>40.000000</td>\n",
       "      <td>43.000000</td>\n",
       "      <td>44.000000</td>\n",
       "      <td>45.000000</td>\n",
       "      <td>45.000000</td>\n",
       "    </tr>\n",
       "    <tr>\n",
       "      <th>MO</th>\n",
       "      <td>119040.0</td>\n",
       "      <td>6.726016</td>\n",
       "      <td>3.425561</td>\n",
       "      <td>1.000000</td>\n",
       "      <td>4.000000</td>\n",
       "      <td>7.000000</td>\n",
       "      <td>10.000000</td>\n",
       "      <td>12.000000</td>\n",
       "    </tr>\n",
       "    <tr>\n",
       "      <th>DA</th>\n",
       "      <td>119040.0</td>\n",
       "      <td>15.797530</td>\n",
       "      <td>8.794541</td>\n",
       "      <td>1.000000</td>\n",
       "      <td>8.000000</td>\n",
       "      <td>16.000000</td>\n",
       "      <td>23.000000</td>\n",
       "      <td>31.000000</td>\n",
       "    </tr>\n",
       "    <tr>\n",
       "      <th>DR</th>\n",
       "      <td>533.0</td>\n",
       "      <td>26.998124</td>\n",
       "      <td>15.221732</td>\n",
       "      <td>2.000000</td>\n",
       "      <td>11.000000</td>\n",
       "      <td>32.000000</td>\n",
       "      <td>34.000000</td>\n",
       "      <td>78.000000</td>\n",
       "    </tr>\n",
       "    <tr>\n",
       "      <th>SPD</th>\n",
       "      <td>532.0</td>\n",
       "      <td>20.396617</td>\n",
       "      <td>5.560371</td>\n",
       "      <td>10.000000</td>\n",
       "      <td>16.000000</td>\n",
       "      <td>20.000000</td>\n",
       "      <td>23.250000</td>\n",
       "      <td>41.000000</td>\n",
       "    </tr>\n",
       "    <tr>\n",
       "      <th>MAX</th>\n",
       "      <td>118566.0</td>\n",
       "      <td>81.003745</td>\n",
       "      <td>14.869361</td>\n",
       "      <td>-28.000000</td>\n",
       "      <td>78.000000</td>\n",
       "      <td>85.000000</td>\n",
       "      <td>89.000000</td>\n",
       "      <td>122.000000</td>\n",
       "    </tr>\n",
       "    <tr>\n",
       "      <th>MIN</th>\n",
       "      <td>118572.0</td>\n",
       "      <td>64.273808</td>\n",
       "      <td>14.481498</td>\n",
       "      <td>-37.000000</td>\n",
       "      <td>59.000000</td>\n",
       "      <td>70.000000</td>\n",
       "      <td>74.000000</td>\n",
       "      <td>94.000000</td>\n",
       "    </tr>\n",
       "    <tr>\n",
       "      <th>MEA</th>\n",
       "      <td>118542.0</td>\n",
       "      <td>72.644843</td>\n",
       "      <td>14.211082</td>\n",
       "      <td>-32.000000</td>\n",
       "      <td>69.000000</td>\n",
       "      <td>78.000000</td>\n",
       "      <td>81.000000</td>\n",
       "      <td>104.000000</td>\n",
       "    </tr>\n",
       "    <tr>\n",
       "      <th>SND</th>\n",
       "      <td>5563.0</td>\n",
       "      <td>0.000000</td>\n",
       "      <td>0.000000</td>\n",
       "      <td>0.000000</td>\n",
       "      <td>0.000000</td>\n",
       "      <td>0.000000</td>\n",
       "      <td>0.000000</td>\n",
       "      <td>0.000000</td>\n",
       "    </tr>\n",
       "    <tr>\n",
       "      <th>FT</th>\n",
       "      <td>0.0</td>\n",
       "      <td>NaN</td>\n",
       "      <td>NaN</td>\n",
       "      <td>NaN</td>\n",
       "      <td>NaN</td>\n",
       "      <td>NaN</td>\n",
       "      <td>NaN</td>\n",
       "      <td>NaN</td>\n",
       "    </tr>\n",
       "    <tr>\n",
       "      <th>FB</th>\n",
       "      <td>0.0</td>\n",
       "      <td>NaN</td>\n",
       "      <td>NaN</td>\n",
       "      <td>NaN</td>\n",
       "      <td>NaN</td>\n",
       "      <td>NaN</td>\n",
       "      <td>NaN</td>\n",
       "      <td>NaN</td>\n",
       "    </tr>\n",
       "    <tr>\n",
       "      <th>FTI</th>\n",
       "      <td>0.0</td>\n",
       "      <td>NaN</td>\n",
       "      <td>NaN</td>\n",
       "      <td>NaN</td>\n",
       "      <td>NaN</td>\n",
       "      <td>NaN</td>\n",
       "      <td>NaN</td>\n",
       "      <td>NaN</td>\n",
       "    </tr>\n",
       "    <tr>\n",
       "      <th>ITH</th>\n",
       "      <td>0.0</td>\n",
       "      <td>NaN</td>\n",
       "      <td>NaN</td>\n",
       "      <td>NaN</td>\n",
       "      <td>NaN</td>\n",
       "      <td>NaN</td>\n",
       "      <td>NaN</td>\n",
       "      <td>NaN</td>\n",
       "    </tr>\n",
       "    <tr>\n",
       "      <th>PGT</th>\n",
       "      <td>525.0</td>\n",
       "      <td>12.085333</td>\n",
       "      <td>5.731328</td>\n",
       "      <td>0.000000</td>\n",
       "      <td>8.500000</td>\n",
       "      <td>11.600000</td>\n",
       "      <td>15.000000</td>\n",
       "      <td>23.900000</td>\n",
       "    </tr>\n",
       "    <tr>\n",
       "      <th>SD3</th>\n",
       "      <td>0.0</td>\n",
       "      <td>NaN</td>\n",
       "      <td>NaN</td>\n",
       "      <td>NaN</td>\n",
       "      <td>NaN</td>\n",
       "      <td>NaN</td>\n",
       "      <td>NaN</td>\n",
       "      <td>NaN</td>\n",
       "    </tr>\n",
       "    <tr>\n",
       "      <th>RHX</th>\n",
       "      <td>0.0</td>\n",
       "      <td>NaN</td>\n",
       "      <td>NaN</td>\n",
       "      <td>NaN</td>\n",
       "      <td>NaN</td>\n",
       "      <td>NaN</td>\n",
       "      <td>NaN</td>\n",
       "      <td>NaN</td>\n",
       "    </tr>\n",
       "    <tr>\n",
       "      <th>RHN</th>\n",
       "      <td>0.0</td>\n",
       "      <td>NaN</td>\n",
       "      <td>NaN</td>\n",
       "      <td>NaN</td>\n",
       "      <td>NaN</td>\n",
       "      <td>NaN</td>\n",
       "      <td>NaN</td>\n",
       "      <td>NaN</td>\n",
       "    </tr>\n",
       "    <tr>\n",
       "      <th>RVG</th>\n",
       "      <td>0.0</td>\n",
       "      <td>NaN</td>\n",
       "      <td>NaN</td>\n",
       "      <td>NaN</td>\n",
       "      <td>NaN</td>\n",
       "      <td>NaN</td>\n",
       "      <td>NaN</td>\n",
       "      <td>NaN</td>\n",
       "    </tr>\n",
       "    <tr>\n",
       "      <th>WTE</th>\n",
       "      <td>0.0</td>\n",
       "      <td>NaN</td>\n",
       "      <td>NaN</td>\n",
       "      <td>NaN</td>\n",
       "      <td>NaN</td>\n",
       "      <td>NaN</td>\n",
       "      <td>NaN</td>\n",
       "      <td>NaN</td>\n",
       "    </tr>\n",
       "  </tbody>\n",
       "</table>\n",
       "</div>"
      ],
      "text/plain": [
       "                count          mean           std           min           25%  \\\n",
       "STA          119040.0  29659.435795  20953.209402  10001.000000  11801.000000   \n",
       "WindGustSpd     532.0     37.774534     10.297808     18.520000     29.632000   \n",
       "MaxTemp      119040.0     27.045111      8.717817    -33.333333     25.555556   \n",
       "MinTemp      119040.0     17.789511      8.334572    -38.333333     15.000000   \n",
       "MeanTemp     119040.0     22.411631      8.297982    -35.555556     20.555556   \n",
       "YR           119040.0     43.805284      1.136718     40.000000     43.000000   \n",
       "MO           119040.0      6.726016      3.425561      1.000000      4.000000   \n",
       "DA           119040.0     15.797530      8.794541      1.000000      8.000000   \n",
       "DR              533.0     26.998124     15.221732      2.000000     11.000000   \n",
       "SPD             532.0     20.396617      5.560371     10.000000     16.000000   \n",
       "MAX          118566.0     81.003745     14.869361    -28.000000     78.000000   \n",
       "MIN          118572.0     64.273808     14.481498    -37.000000     59.000000   \n",
       "MEA          118542.0     72.644843     14.211082    -32.000000     69.000000   \n",
       "SND            5563.0      0.000000      0.000000      0.000000      0.000000   \n",
       "FT                0.0           NaN           NaN           NaN           NaN   \n",
       "FB                0.0           NaN           NaN           NaN           NaN   \n",
       "FTI               0.0           NaN           NaN           NaN           NaN   \n",
       "ITH               0.0           NaN           NaN           NaN           NaN   \n",
       "PGT             525.0     12.085333      5.731328      0.000000      8.500000   \n",
       "SD3               0.0           NaN           NaN           NaN           NaN   \n",
       "RHX               0.0           NaN           NaN           NaN           NaN   \n",
       "RHN               0.0           NaN           NaN           NaN           NaN   \n",
       "RVG               0.0           NaN           NaN           NaN           NaN   \n",
       "WTE               0.0           NaN           NaN           NaN           NaN   \n",
       "\n",
       "                      50%           75%           max  \n",
       "STA          22508.000000  33501.000000  82506.000000  \n",
       "WindGustSpd     37.040000     43.059000     75.932000  \n",
       "MaxTemp         29.444444     31.666667     50.000000  \n",
       "MinTemp         21.111111     23.333333     34.444444  \n",
       "MeanTemp        25.555556     27.222222     40.000000  \n",
       "YR              44.000000     45.000000     45.000000  \n",
       "MO               7.000000     10.000000     12.000000  \n",
       "DA              16.000000     23.000000     31.000000  \n",
       "DR              32.000000     34.000000     78.000000  \n",
       "SPD             20.000000     23.250000     41.000000  \n",
       "MAX             85.000000     89.000000    122.000000  \n",
       "MIN             70.000000     74.000000     94.000000  \n",
       "MEA             78.000000     81.000000    104.000000  \n",
       "SND              0.000000      0.000000      0.000000  \n",
       "FT                    NaN           NaN           NaN  \n",
       "FB                    NaN           NaN           NaN  \n",
       "FTI                   NaN           NaN           NaN  \n",
       "ITH                   NaN           NaN           NaN  \n",
       "PGT             11.600000     15.000000     23.900000  \n",
       "SD3                   NaN           NaN           NaN  \n",
       "RHX                   NaN           NaN           NaN  \n",
       "RHN                   NaN           NaN           NaN  \n",
       "RVG                   NaN           NaN           NaN  \n",
       "WTE                   NaN           NaN           NaN  "
      ]
     },
     "execution_count": 7,
     "metadata": {},
     "output_type": "execute_result"
    }
   ],
   "source": [
    "#some statistics\n",
    "weather.describe().transpose()"
   ]
  },
  {
   "cell_type": "code",
   "execution_count": 9,
   "metadata": {
    "collapsed": true
   },
   "outputs": [],
   "source": [
    "#keeping few columns\n",
    "weather = weather[['STA', 'Precip', 'WindGustSpd','MeanTemp', 'YR', 'MO', 'DA', 'DR', 'SPD', 'MAX', 'MIN', 'MEA', 'PGT']]"
   ]
  },
  {
   "cell_type": "code",
   "execution_count": 10,
   "metadata": {},
   "outputs": [
    {
     "name": "stdout",
     "output_type": "stream",
     "text": [
      "<class 'pandas.core.frame.DataFrame'>\n",
      "RangeIndex: 119040 entries, 0 to 119039\n",
      "Data columns (total 13 columns):\n",
      "STA            119040 non-null int64\n",
      "Precip         119040 non-null object\n",
      "WindGustSpd    532 non-null float64\n",
      "MeanTemp       119040 non-null float64\n",
      "YR             119040 non-null int64\n",
      "MO             119040 non-null int64\n",
      "DA             119040 non-null int64\n",
      "DR             533 non-null float64\n",
      "SPD            532 non-null float64\n",
      "MAX            118566 non-null float64\n",
      "MIN            118572 non-null float64\n",
      "MEA            118542 non-null float64\n",
      "PGT            525 non-null float64\n",
      "dtypes: float64(8), int64(4), object(1)\n",
      "memory usage: 11.8+ MB\n"
     ]
    }
   ],
   "source": [
    "weather.info()"
   ]
  },
  {
   "cell_type": "code",
   "execution_count": 11,
   "metadata": {},
   "outputs": [
    {
     "data": {
      "text/html": [
       "<div>\n",
       "<style>\n",
       "    .dataframe thead tr:only-child th {\n",
       "        text-align: right;\n",
       "    }\n",
       "\n",
       "    .dataframe thead th {\n",
       "        text-align: left;\n",
       "    }\n",
       "\n",
       "    .dataframe tbody tr th {\n",
       "        vertical-align: top;\n",
       "    }\n",
       "</style>\n",
       "<table border=\"1\" class=\"dataframe\">\n",
       "  <thead>\n",
       "    <tr style=\"text-align: right;\">\n",
       "      <th></th>\n",
       "      <th>STA</th>\n",
       "      <th>Precip</th>\n",
       "      <th>WindGustSpd</th>\n",
       "      <th>MeanTemp</th>\n",
       "      <th>YR</th>\n",
       "      <th>MO</th>\n",
       "      <th>DA</th>\n",
       "      <th>DR</th>\n",
       "      <th>SPD</th>\n",
       "      <th>MAX</th>\n",
       "      <th>MIN</th>\n",
       "      <th>MEA</th>\n",
       "      <th>PGT</th>\n",
       "    </tr>\n",
       "  </thead>\n",
       "  <tbody>\n",
       "    <tr>\n",
       "      <th>0</th>\n",
       "      <td>False</td>\n",
       "      <td>False</td>\n",
       "      <td>True</td>\n",
       "      <td>False</td>\n",
       "      <td>False</td>\n",
       "      <td>False</td>\n",
       "      <td>False</td>\n",
       "      <td>True</td>\n",
       "      <td>True</td>\n",
       "      <td>False</td>\n",
       "      <td>False</td>\n",
       "      <td>False</td>\n",
       "      <td>True</td>\n",
       "    </tr>\n",
       "    <tr>\n",
       "      <th>1</th>\n",
       "      <td>False</td>\n",
       "      <td>False</td>\n",
       "      <td>True</td>\n",
       "      <td>False</td>\n",
       "      <td>False</td>\n",
       "      <td>False</td>\n",
       "      <td>False</td>\n",
       "      <td>True</td>\n",
       "      <td>True</td>\n",
       "      <td>False</td>\n",
       "      <td>False</td>\n",
       "      <td>False</td>\n",
       "      <td>True</td>\n",
       "    </tr>\n",
       "    <tr>\n",
       "      <th>2</th>\n",
       "      <td>False</td>\n",
       "      <td>False</td>\n",
       "      <td>True</td>\n",
       "      <td>False</td>\n",
       "      <td>False</td>\n",
       "      <td>False</td>\n",
       "      <td>False</td>\n",
       "      <td>True</td>\n",
       "      <td>True</td>\n",
       "      <td>False</td>\n",
       "      <td>False</td>\n",
       "      <td>False</td>\n",
       "      <td>True</td>\n",
       "    </tr>\n",
       "    <tr>\n",
       "      <th>3</th>\n",
       "      <td>False</td>\n",
       "      <td>False</td>\n",
       "      <td>True</td>\n",
       "      <td>False</td>\n",
       "      <td>False</td>\n",
       "      <td>False</td>\n",
       "      <td>False</td>\n",
       "      <td>True</td>\n",
       "      <td>True</td>\n",
       "      <td>False</td>\n",
       "      <td>False</td>\n",
       "      <td>False</td>\n",
       "      <td>True</td>\n",
       "    </tr>\n",
       "    <tr>\n",
       "      <th>4</th>\n",
       "      <td>False</td>\n",
       "      <td>False</td>\n",
       "      <td>True</td>\n",
       "      <td>False</td>\n",
       "      <td>False</td>\n",
       "      <td>False</td>\n",
       "      <td>False</td>\n",
       "      <td>True</td>\n",
       "      <td>True</td>\n",
       "      <td>False</td>\n",
       "      <td>False</td>\n",
       "      <td>False</td>\n",
       "      <td>True</td>\n",
       "    </tr>\n",
       "  </tbody>\n",
       "</table>\n",
       "</div>"
      ],
      "text/plain": [
       "     STA  Precip  WindGustSpd  MeanTemp     YR     MO     DA    DR   SPD  \\\n",
       "0  False   False         True     False  False  False  False  True  True   \n",
       "1  False   False         True     False  False  False  False  True  True   \n",
       "2  False   False         True     False  False  False  False  True  True   \n",
       "3  False   False         True     False  False  False  False  True  True   \n",
       "4  False   False         True     False  False  False  False  True  True   \n",
       "\n",
       "     MAX    MIN    MEA   PGT  \n",
       "0  False  False  False  True  \n",
       "1  False  False  False  True  \n",
       "2  False  False  False  True  \n",
       "3  False  False  False  True  \n",
       "4  False  False  False  True  "
      ]
     },
     "execution_count": 11,
     "metadata": {},
     "output_type": "execute_result"
    }
   ],
   "source": [
    "#deal with missing values\n",
    "import numpy as np\n",
    "missing_data = weather.isnull()\n",
    "missing_data.head()"
   ]
  },
  {
   "cell_type": "code",
   "execution_count": 12,
   "metadata": {},
   "outputs": [
    {
     "name": "stdout",
     "output_type": "stream",
     "text": [
      "STA\n",
      "False    119040\n",
      "Name: STA, dtype: int64\n",
      "\n",
      "Precip\n",
      "False    119040\n",
      "Name: Precip, dtype: int64\n",
      "\n",
      "WindGustSpd\n",
      "True     118508\n",
      "False       532\n",
      "Name: WindGustSpd, dtype: int64\n",
      "\n",
      "MeanTemp\n",
      "False    119040\n",
      "Name: MeanTemp, dtype: int64\n",
      "\n",
      "YR\n",
      "False    119040\n",
      "Name: YR, dtype: int64\n",
      "\n",
      "MO\n",
      "False    119040\n",
      "Name: MO, dtype: int64\n",
      "\n",
      "DA\n",
      "False    119040\n",
      "Name: DA, dtype: int64\n",
      "\n",
      "DR\n",
      "True     118507\n",
      "False       533\n",
      "Name: DR, dtype: int64\n",
      "\n",
      "SPD\n",
      "True     118508\n",
      "False       532\n",
      "Name: SPD, dtype: int64\n",
      "\n",
      "MAX\n",
      "False    118566\n",
      "True        474\n",
      "Name: MAX, dtype: int64\n",
      "\n",
      "MIN\n",
      "False    118572\n",
      "True        468\n",
      "Name: MIN, dtype: int64\n",
      "\n",
      "MEA\n",
      "False    118542\n",
      "True        498\n",
      "Name: MEA, dtype: int64\n",
      "\n",
      "PGT\n",
      "True     118515\n",
      "False       525\n",
      "Name: PGT, dtype: int64\n",
      "\n"
     ]
    }
   ],
   "source": [
    "#count missing values in each column\n",
    "for column in missing_data.columns.values.tolist(): \n",
    "    print(column)\n",
    "    print(missing_data[column].value_counts())\n",
    "    print(\"\")"
   ]
  },
  {
   "cell_type": "code",
   "execution_count": 13,
   "metadata": {
    "collapsed": true
   },
   "outputs": [],
   "source": [
    "#excluding columns with way too many missing values\n",
    "weather = weather[['STA', 'Precip','MeanTemp', 'YR', 'MO', 'DA', 'MAX', 'MIN', 'MEA']]"
   ]
  },
  {
   "cell_type": "code",
   "execution_count": 14,
   "metadata": {},
   "outputs": [],
   "source": [
    "#replacing missing values with mean\n",
    "avg_1 = weather['MAX'].astype('float').mean(axis=0)\n",
    "weather['MAX'].replace(np.nan,avg_1,inplace=True)"
   ]
  },
  {
   "cell_type": "code",
   "execution_count": 15,
   "metadata": {
    "collapsed": true
   },
   "outputs": [],
   "source": [
    "#replacing missing values with with mean\n",
    "avg_2 = weather['MIN'].astype('float').mean(axis=0)\n",
    "weather['MIN'].replace(np.nan,avg_2,inplace=True)"
   ]
  },
  {
   "cell_type": "code",
   "execution_count": 16,
   "metadata": {},
   "outputs": [],
   "source": [
    "#replacing missing values with mean\n",
    "avg_3 = weather['MEA'].astype('float').mean(axis=0)\n",
    "weather['MEA'].replace(np.nan,avg_3,inplace=True)"
   ]
  },
  {
   "cell_type": "code",
   "execution_count": 17,
   "metadata": {},
   "outputs": [
    {
     "data": {
      "text/html": [
       "<div>\n",
       "<style>\n",
       "    .dataframe thead tr:only-child th {\n",
       "        text-align: right;\n",
       "    }\n",
       "\n",
       "    .dataframe thead th {\n",
       "        text-align: left;\n",
       "    }\n",
       "\n",
       "    .dataframe tbody tr th {\n",
       "        vertical-align: top;\n",
       "    }\n",
       "</style>\n",
       "<table border=\"1\" class=\"dataframe\">\n",
       "  <thead>\n",
       "    <tr style=\"text-align: right;\">\n",
       "      <th></th>\n",
       "      <th>STA</th>\n",
       "      <th>Precip</th>\n",
       "      <th>MeanTemp</th>\n",
       "      <th>YR</th>\n",
       "      <th>MO</th>\n",
       "      <th>DA</th>\n",
       "      <th>MAX</th>\n",
       "      <th>MIN</th>\n",
       "      <th>MEA</th>\n",
       "    </tr>\n",
       "  </thead>\n",
       "  <tbody>\n",
       "    <tr>\n",
       "      <th>0</th>\n",
       "      <td>False</td>\n",
       "      <td>False</td>\n",
       "      <td>False</td>\n",
       "      <td>False</td>\n",
       "      <td>False</td>\n",
       "      <td>False</td>\n",
       "      <td>False</td>\n",
       "      <td>False</td>\n",
       "      <td>False</td>\n",
       "    </tr>\n",
       "    <tr>\n",
       "      <th>1</th>\n",
       "      <td>False</td>\n",
       "      <td>False</td>\n",
       "      <td>False</td>\n",
       "      <td>False</td>\n",
       "      <td>False</td>\n",
       "      <td>False</td>\n",
       "      <td>False</td>\n",
       "      <td>False</td>\n",
       "      <td>False</td>\n",
       "    </tr>\n",
       "    <tr>\n",
       "      <th>2</th>\n",
       "      <td>False</td>\n",
       "      <td>False</td>\n",
       "      <td>False</td>\n",
       "      <td>False</td>\n",
       "      <td>False</td>\n",
       "      <td>False</td>\n",
       "      <td>False</td>\n",
       "      <td>False</td>\n",
       "      <td>False</td>\n",
       "    </tr>\n",
       "    <tr>\n",
       "      <th>3</th>\n",
       "      <td>False</td>\n",
       "      <td>False</td>\n",
       "      <td>False</td>\n",
       "      <td>False</td>\n",
       "      <td>False</td>\n",
       "      <td>False</td>\n",
       "      <td>False</td>\n",
       "      <td>False</td>\n",
       "      <td>False</td>\n",
       "    </tr>\n",
       "    <tr>\n",
       "      <th>4</th>\n",
       "      <td>False</td>\n",
       "      <td>False</td>\n",
       "      <td>False</td>\n",
       "      <td>False</td>\n",
       "      <td>False</td>\n",
       "      <td>False</td>\n",
       "      <td>False</td>\n",
       "      <td>False</td>\n",
       "      <td>False</td>\n",
       "    </tr>\n",
       "  </tbody>\n",
       "</table>\n",
       "</div>"
      ],
      "text/plain": [
       "     STA  Precip  MeanTemp     YR     MO     DA    MAX    MIN    MEA\n",
       "0  False   False     False  False  False  False  False  False  False\n",
       "1  False   False     False  False  False  False  False  False  False\n",
       "2  False   False     False  False  False  False  False  False  False\n",
       "3  False   False     False  False  False  False  False  False  False\n",
       "4  False   False     False  False  False  False  False  False  False"
      ]
     },
     "execution_count": 17,
     "metadata": {},
     "output_type": "execute_result"
    }
   ],
   "source": [
    "#recounting missing values again\n",
    "missing_data = weather.isnull()\n",
    "missing_data.head()"
   ]
  },
  {
   "cell_type": "code",
   "execution_count": 18,
   "metadata": {},
   "outputs": [
    {
     "name": "stdout",
     "output_type": "stream",
     "text": [
      "STA\n",
      "False    119040\n",
      "Name: STA, dtype: int64\n",
      "\n",
      "Precip\n",
      "False    119040\n",
      "Name: Precip, dtype: int64\n",
      "\n",
      "MeanTemp\n",
      "False    119040\n",
      "Name: MeanTemp, dtype: int64\n",
      "\n",
      "YR\n",
      "False    119040\n",
      "Name: YR, dtype: int64\n",
      "\n",
      "MO\n",
      "False    119040\n",
      "Name: MO, dtype: int64\n",
      "\n",
      "DA\n",
      "False    119040\n",
      "Name: DA, dtype: int64\n",
      "\n",
      "MAX\n",
      "False    119040\n",
      "Name: MAX, dtype: int64\n",
      "\n",
      "MIN\n",
      "False    119040\n",
      "Name: MIN, dtype: int64\n",
      "\n",
      "MEA\n",
      "False    119040\n",
      "Name: MEA, dtype: int64\n",
      "\n"
     ]
    }
   ],
   "source": [
    "#recounting missing values in each column again\n",
    "for column in missing_data.columns.values.tolist(): \n",
    "    print(column)\n",
    "    print(missing_data[column].value_counts())\n",
    "    print(\"\")"
   ]
  },
  {
   "cell_type": "markdown",
   "metadata": {},
   "source": [
    "    ## We have taken care of all missing values"
   ]
  },
  {
   "cell_type": "markdown",
   "metadata": {},
   "source": [
    "### Starting in a new data frame - a new start! "
   ]
  },
  {
   "cell_type": "code",
   "execution_count": 21,
   "metadata": {
    "collapsed": true
   },
   "outputs": [],
   "source": [
    "df = weather"
   ]
  },
  {
   "cell_type": "code",
   "execution_count": 23,
   "metadata": {},
   "outputs": [
    {
     "data": {
      "text/html": [
       "<div>\n",
       "<style>\n",
       "    .dataframe thead tr:only-child th {\n",
       "        text-align: right;\n",
       "    }\n",
       "\n",
       "    .dataframe thead th {\n",
       "        text-align: left;\n",
       "    }\n",
       "\n",
       "    .dataframe tbody tr th {\n",
       "        vertical-align: top;\n",
       "    }\n",
       "</style>\n",
       "<table border=\"1\" class=\"dataframe\">\n",
       "  <thead>\n",
       "    <tr style=\"text-align: right;\">\n",
       "      <th></th>\n",
       "      <th>STA</th>\n",
       "      <th>Precip</th>\n",
       "      <th>MeanTemp</th>\n",
       "      <th>YR</th>\n",
       "      <th>MO</th>\n",
       "      <th>DA</th>\n",
       "      <th>MAX</th>\n",
       "      <th>MIN</th>\n",
       "      <th>MEA</th>\n",
       "    </tr>\n",
       "  </thead>\n",
       "  <tbody>\n",
       "    <tr>\n",
       "      <th>0</th>\n",
       "      <td>10001</td>\n",
       "      <td>1.016</td>\n",
       "      <td>23.888889</td>\n",
       "      <td>42</td>\n",
       "      <td>7</td>\n",
       "      <td>1</td>\n",
       "      <td>78.0</td>\n",
       "      <td>72.0</td>\n",
       "      <td>75.0</td>\n",
       "    </tr>\n",
       "    <tr>\n",
       "      <th>1</th>\n",
       "      <td>10001</td>\n",
       "      <td>0</td>\n",
       "      <td>25.555556</td>\n",
       "      <td>42</td>\n",
       "      <td>7</td>\n",
       "      <td>2</td>\n",
       "      <td>84.0</td>\n",
       "      <td>71.0</td>\n",
       "      <td>78.0</td>\n",
       "    </tr>\n",
       "    <tr>\n",
       "      <th>2</th>\n",
       "      <td>10001</td>\n",
       "      <td>2.54</td>\n",
       "      <td>24.444444</td>\n",
       "      <td>42</td>\n",
       "      <td>7</td>\n",
       "      <td>3</td>\n",
       "      <td>79.0</td>\n",
       "      <td>72.0</td>\n",
       "      <td>76.0</td>\n",
       "    </tr>\n",
       "    <tr>\n",
       "      <th>3</th>\n",
       "      <td>10001</td>\n",
       "      <td>2.54</td>\n",
       "      <td>24.444444</td>\n",
       "      <td>42</td>\n",
       "      <td>7</td>\n",
       "      <td>4</td>\n",
       "      <td>80.0</td>\n",
       "      <td>72.0</td>\n",
       "      <td>76.0</td>\n",
       "    </tr>\n",
       "    <tr>\n",
       "      <th>4</th>\n",
       "      <td>10001</td>\n",
       "      <td>0</td>\n",
       "      <td>24.444444</td>\n",
       "      <td>42</td>\n",
       "      <td>7</td>\n",
       "      <td>5</td>\n",
       "      <td>80.0</td>\n",
       "      <td>71.0</td>\n",
       "      <td>76.0</td>\n",
       "    </tr>\n",
       "  </tbody>\n",
       "</table>\n",
       "</div>"
      ],
      "text/plain": [
       "     STA Precip   MeanTemp  YR  MO  DA   MAX   MIN   MEA\n",
       "0  10001  1.016  23.888889  42   7   1  78.0  72.0  75.0\n",
       "1  10001      0  25.555556  42   7   2  84.0  71.0  78.0\n",
       "2  10001   2.54  24.444444  42   7   3  79.0  72.0  76.0\n",
       "3  10001   2.54  24.444444  42   7   4  80.0  72.0  76.0\n",
       "4  10001      0  24.444444  42   7   5  80.0  71.0  76.0"
      ]
     },
     "execution_count": 23,
     "metadata": {},
     "output_type": "execute_result"
    }
   ],
   "source": [
    "#exploring the data againa\n",
    "df.head()"
   ]
  },
  {
   "cell_type": "code",
   "execution_count": 24,
   "metadata": {},
   "outputs": [
    {
     "data": {
      "text/html": [
       "<div>\n",
       "<style>\n",
       "    .dataframe thead tr:only-child th {\n",
       "        text-align: right;\n",
       "    }\n",
       "\n",
       "    .dataframe thead th {\n",
       "        text-align: left;\n",
       "    }\n",
       "\n",
       "    .dataframe tbody tr th {\n",
       "        vertical-align: top;\n",
       "    }\n",
       "</style>\n",
       "<table border=\"1\" class=\"dataframe\">\n",
       "  <thead>\n",
       "    <tr style=\"text-align: right;\">\n",
       "      <th></th>\n",
       "      <th>count</th>\n",
       "      <th>mean</th>\n",
       "      <th>std</th>\n",
       "      <th>min</th>\n",
       "      <th>25%</th>\n",
       "      <th>50%</th>\n",
       "      <th>75%</th>\n",
       "      <th>max</th>\n",
       "    </tr>\n",
       "  </thead>\n",
       "  <tbody>\n",
       "    <tr>\n",
       "      <th>STA</th>\n",
       "      <td>119040.0</td>\n",
       "      <td>29659.435795</td>\n",
       "      <td>20953.209402</td>\n",
       "      <td>10001.000000</td>\n",
       "      <td>11801.000000</td>\n",
       "      <td>22508.000000</td>\n",
       "      <td>33501.000000</td>\n",
       "      <td>82506.0</td>\n",
       "    </tr>\n",
       "    <tr>\n",
       "      <th>MeanTemp</th>\n",
       "      <td>119040.0</td>\n",
       "      <td>22.411631</td>\n",
       "      <td>8.297982</td>\n",
       "      <td>-35.555556</td>\n",
       "      <td>20.555556</td>\n",
       "      <td>25.555556</td>\n",
       "      <td>27.222222</td>\n",
       "      <td>40.0</td>\n",
       "    </tr>\n",
       "    <tr>\n",
       "      <th>YR</th>\n",
       "      <td>119040.0</td>\n",
       "      <td>43.805284</td>\n",
       "      <td>1.136718</td>\n",
       "      <td>40.000000</td>\n",
       "      <td>43.000000</td>\n",
       "      <td>44.000000</td>\n",
       "      <td>45.000000</td>\n",
       "      <td>45.0</td>\n",
       "    </tr>\n",
       "    <tr>\n",
       "      <th>MO</th>\n",
       "      <td>119040.0</td>\n",
       "      <td>6.726016</td>\n",
       "      <td>3.425561</td>\n",
       "      <td>1.000000</td>\n",
       "      <td>4.000000</td>\n",
       "      <td>7.000000</td>\n",
       "      <td>10.000000</td>\n",
       "      <td>12.0</td>\n",
       "    </tr>\n",
       "    <tr>\n",
       "      <th>DA</th>\n",
       "      <td>119040.0</td>\n",
       "      <td>15.797530</td>\n",
       "      <td>8.794541</td>\n",
       "      <td>1.000000</td>\n",
       "      <td>8.000000</td>\n",
       "      <td>16.000000</td>\n",
       "      <td>23.000000</td>\n",
       "      <td>31.0</td>\n",
       "    </tr>\n",
       "    <tr>\n",
       "      <th>MAX</th>\n",
       "      <td>119040.0</td>\n",
       "      <td>81.003745</td>\n",
       "      <td>14.839727</td>\n",
       "      <td>-28.000000</td>\n",
       "      <td>78.000000</td>\n",
       "      <td>85.000000</td>\n",
       "      <td>89.000000</td>\n",
       "      <td>122.0</td>\n",
       "    </tr>\n",
       "    <tr>\n",
       "      <th>MIN</th>\n",
       "      <td>119040.0</td>\n",
       "      <td>64.273808</td>\n",
       "      <td>14.453003</td>\n",
       "      <td>-37.000000</td>\n",
       "      <td>59.000000</td>\n",
       "      <td>70.000000</td>\n",
       "      <td>74.000000</td>\n",
       "      <td>94.0</td>\n",
       "    </tr>\n",
       "    <tr>\n",
       "      <th>MEA</th>\n",
       "      <td>119040.0</td>\n",
       "      <td>72.644843</td>\n",
       "      <td>14.181324</td>\n",
       "      <td>-32.000000</td>\n",
       "      <td>69.000000</td>\n",
       "      <td>78.000000</td>\n",
       "      <td>81.000000</td>\n",
       "      <td>104.0</td>\n",
       "    </tr>\n",
       "  </tbody>\n",
       "</table>\n",
       "</div>"
      ],
      "text/plain": [
       "             count          mean           std           min           25%  \\\n",
       "STA       119040.0  29659.435795  20953.209402  10001.000000  11801.000000   \n",
       "MeanTemp  119040.0     22.411631      8.297982    -35.555556     20.555556   \n",
       "YR        119040.0     43.805284      1.136718     40.000000     43.000000   \n",
       "MO        119040.0      6.726016      3.425561      1.000000      4.000000   \n",
       "DA        119040.0     15.797530      8.794541      1.000000      8.000000   \n",
       "MAX       119040.0     81.003745     14.839727    -28.000000     78.000000   \n",
       "MIN       119040.0     64.273808     14.453003    -37.000000     59.000000   \n",
       "MEA       119040.0     72.644843     14.181324    -32.000000     69.000000   \n",
       "\n",
       "                   50%           75%      max  \n",
       "STA       22508.000000  33501.000000  82506.0  \n",
       "MeanTemp     25.555556     27.222222     40.0  \n",
       "YR           44.000000     45.000000     45.0  \n",
       "MO            7.000000     10.000000     12.0  \n",
       "DA           16.000000     23.000000     31.0  \n",
       "MAX          85.000000     89.000000    122.0  \n",
       "MIN          70.000000     74.000000     94.0  \n",
       "MEA          78.000000     81.000000    104.0  "
      ]
     },
     "execution_count": 24,
     "metadata": {},
     "output_type": "execute_result"
    }
   ],
   "source": [
    "# Summary statistics\n",
    "df.describe().transpose()"
   ]
  },
  {
   "cell_type": "code",
   "execution_count": 25,
   "metadata": {},
   "outputs": [
    {
     "data": {
      "text/plain": [
       "Index(['STA', 'Precip', 'MeanTemp', 'YR', 'MO', 'DA', 'MAX', 'MIN', 'MEA'], dtype='object')"
      ]
     },
     "execution_count": 25,
     "metadata": {},
     "output_type": "execute_result"
    }
   ],
   "source": [
    "#name of columns\n",
    "df.columns"
   ]
  },
  {
   "cell_type": "code",
   "execution_count": 26,
   "metadata": {},
   "outputs": [
    {
     "name": "stdout",
     "output_type": "stream",
     "text": [
      "<class 'pandas.core.frame.DataFrame'>\n",
      "RangeIndex: 119040 entries, 0 to 119039\n",
      "Data columns (total 9 columns):\n",
      "STA         119040 non-null int64\n",
      "Precip      119040 non-null object\n",
      "MeanTemp    119040 non-null float64\n",
      "YR          119040 non-null int64\n",
      "MO          119040 non-null int64\n",
      "DA          119040 non-null int64\n",
      "MAX         119040 non-null float64\n",
      "MIN         119040 non-null float64\n",
      "MEA         119040 non-null float64\n",
      "dtypes: float64(4), int64(4), object(1)\n",
      "memory usage: 8.2+ MB\n"
     ]
    }
   ],
   "source": [
    "#explore further\n",
    "df.info()"
   ]
  },
  {
   "cell_type": "markdown",
   "metadata": {},
   "source": [
    "    ## While trying to conver Precip into float - noticed some data entered as 'T'. \n",
    "    ## Replacing those 'T' with missing values then filling those missing values with mean"
   ]
  },
  {
   "cell_type": "code",
   "execution_count": 28,
   "metadata": {
    "scrolled": true
   },
   "outputs": [],
   "source": [
    "#replacing 'T' values in Precip columns into NaN\n",
    "df['Precip'].replace('T', np.nan, inplace=True)"
   ]
  },
  {
   "cell_type": "code",
   "execution_count": 31,
   "metadata": {
    "collapsed": true
   },
   "outputs": [],
   "source": [
    "#Converting Precip into float\n",
    "df[['Precip']] =df[['Precip']].astype(\"float\")"
   ]
  },
  {
   "cell_type": "code",
   "execution_count": 34,
   "metadata": {
    "scrolled": true
   },
   "outputs": [],
   "source": [
    "#replacing missing values with Mean for the columns\n",
    "avg_5 = df['Precip'].astype('float').mean(axis=0)\n",
    "df['Precip'].replace(np.nan,avg_5,inplace=True)"
   ]
  },
  {
   "cell_type": "code",
   "execution_count": 35,
   "metadata": {},
   "outputs": [
    {
     "data": {
      "text/plain": [
       "STA           int64\n",
       "Precip      float64\n",
       "MeanTemp    float64\n",
       "YR            int64\n",
       "MO            int64\n",
       "DA            int64\n",
       "MAX         float64\n",
       "MIN         float64\n",
       "MEA         float64\n",
       "dtype: object"
      ]
     },
     "execution_count": 35,
     "metadata": {},
     "output_type": "execute_result"
    }
   ],
   "source": [
    "df.dtypes"
   ]
  },
  {
   "cell_type": "markdown",
   "metadata": {},
   "source": [
    "    ## Seems like data is ready for Linear Regression modelling\n",
    "    ## Let's explore some correlation\n",
    "    ## Goal is to predict Precipication based on other factors! "
   ]
  },
  {
   "cell_type": "code",
   "execution_count": 36,
   "metadata": {},
   "outputs": [
    {
     "data": {
      "text/html": [
       "<div>\n",
       "<style>\n",
       "    .dataframe thead tr:only-child th {\n",
       "        text-align: right;\n",
       "    }\n",
       "\n",
       "    .dataframe thead th {\n",
       "        text-align: left;\n",
       "    }\n",
       "\n",
       "    .dataframe tbody tr th {\n",
       "        vertical-align: top;\n",
       "    }\n",
       "</style>\n",
       "<table border=\"1\" class=\"dataframe\">\n",
       "  <thead>\n",
       "    <tr style=\"text-align: right;\">\n",
       "      <th></th>\n",
       "      <th>STA</th>\n",
       "      <th>Precip</th>\n",
       "      <th>MeanTemp</th>\n",
       "      <th>YR</th>\n",
       "      <th>MO</th>\n",
       "      <th>DA</th>\n",
       "      <th>MAX</th>\n",
       "      <th>MIN</th>\n",
       "      <th>MEA</th>\n",
       "    </tr>\n",
       "  </thead>\n",
       "  <tbody>\n",
       "    <tr>\n",
       "      <th>STA</th>\n",
       "      <td>1.000000</td>\n",
       "      <td>0.012274</td>\n",
       "      <td>0.078112</td>\n",
       "      <td>0.121408</td>\n",
       "      <td>-0.008592</td>\n",
       "      <td>0.000903</td>\n",
       "      <td>0.083798</td>\n",
       "      <td>0.050715</td>\n",
       "      <td>0.069647</td>\n",
       "    </tr>\n",
       "    <tr>\n",
       "      <th>Precip</th>\n",
       "      <td>0.012274</td>\n",
       "      <td>1.000000</td>\n",
       "      <td>0.043855</td>\n",
       "      <td>0.003927</td>\n",
       "      <td>0.038246</td>\n",
       "      <td>0.000751</td>\n",
       "      <td>-0.003676</td>\n",
       "      <td>0.092629</td>\n",
       "      <td>0.045437</td>\n",
       "    </tr>\n",
       "    <tr>\n",
       "      <th>MeanTemp</th>\n",
       "      <td>0.078112</td>\n",
       "      <td>0.043855</td>\n",
       "      <td>1.000000</td>\n",
       "      <td>0.010681</td>\n",
       "      <td>0.050769</td>\n",
       "      <td>-0.004153</td>\n",
       "      <td>0.919436</td>\n",
       "      <td>0.917804</td>\n",
       "      <td>0.949449</td>\n",
       "    </tr>\n",
       "    <tr>\n",
       "      <th>YR</th>\n",
       "      <td>0.121408</td>\n",
       "      <td>0.003927</td>\n",
       "      <td>0.010681</td>\n",
       "      <td>1.000000</td>\n",
       "      <td>-0.144360</td>\n",
       "      <td>-0.011196</td>\n",
       "      <td>0.013915</td>\n",
       "      <td>-0.043109</td>\n",
       "      <td>-0.014646</td>\n",
       "    </tr>\n",
       "    <tr>\n",
       "      <th>MO</th>\n",
       "      <td>-0.008592</td>\n",
       "      <td>0.038246</td>\n",
       "      <td>0.050769</td>\n",
       "      <td>-0.144360</td>\n",
       "      <td>1.000000</td>\n",
       "      <td>0.006563</td>\n",
       "      <td>0.034269</td>\n",
       "      <td>0.072338</td>\n",
       "      <td>0.054747</td>\n",
       "    </tr>\n",
       "    <tr>\n",
       "      <th>DA</th>\n",
       "      <td>0.000903</td>\n",
       "      <td>0.000751</td>\n",
       "      <td>-0.004153</td>\n",
       "      <td>-0.011196</td>\n",
       "      <td>0.006563</td>\n",
       "      <td>1.000000</td>\n",
       "      <td>-0.003292</td>\n",
       "      <td>-0.000738</td>\n",
       "      <td>-0.002090</td>\n",
       "    </tr>\n",
       "    <tr>\n",
       "      <th>MAX</th>\n",
       "      <td>0.083798</td>\n",
       "      <td>-0.003676</td>\n",
       "      <td>0.919436</td>\n",
       "      <td>0.013915</td>\n",
       "      <td>0.034269</td>\n",
       "      <td>-0.003292</td>\n",
       "      <td>1.000000</td>\n",
       "      <td>0.873670</td>\n",
       "      <td>0.968215</td>\n",
       "    </tr>\n",
       "    <tr>\n",
       "      <th>MIN</th>\n",
       "      <td>0.050715</td>\n",
       "      <td>0.092629</td>\n",
       "      <td>0.917804</td>\n",
       "      <td>-0.043109</td>\n",
       "      <td>0.072338</td>\n",
       "      <td>-0.000738</td>\n",
       "      <td>0.873670</td>\n",
       "      <td>1.000000</td>\n",
       "      <td>0.966584</td>\n",
       "    </tr>\n",
       "    <tr>\n",
       "      <th>MEA</th>\n",
       "      <td>0.069647</td>\n",
       "      <td>0.045437</td>\n",
       "      <td>0.949449</td>\n",
       "      <td>-0.014646</td>\n",
       "      <td>0.054747</td>\n",
       "      <td>-0.002090</td>\n",
       "      <td>0.968215</td>\n",
       "      <td>0.966584</td>\n",
       "      <td>1.000000</td>\n",
       "    </tr>\n",
       "  </tbody>\n",
       "</table>\n",
       "</div>"
      ],
      "text/plain": [
       "               STA    Precip  MeanTemp        YR        MO        DA  \\\n",
       "STA       1.000000  0.012274  0.078112  0.121408 -0.008592  0.000903   \n",
       "Precip    0.012274  1.000000  0.043855  0.003927  0.038246  0.000751   \n",
       "MeanTemp  0.078112  0.043855  1.000000  0.010681  0.050769 -0.004153   \n",
       "YR        0.121408  0.003927  0.010681  1.000000 -0.144360 -0.011196   \n",
       "MO       -0.008592  0.038246  0.050769 -0.144360  1.000000  0.006563   \n",
       "DA        0.000903  0.000751 -0.004153 -0.011196  0.006563  1.000000   \n",
       "MAX       0.083798 -0.003676  0.919436  0.013915  0.034269 -0.003292   \n",
       "MIN       0.050715  0.092629  0.917804 -0.043109  0.072338 -0.000738   \n",
       "MEA       0.069647  0.045437  0.949449 -0.014646  0.054747 -0.002090   \n",
       "\n",
       "               MAX       MIN       MEA  \n",
       "STA       0.083798  0.050715  0.069647  \n",
       "Precip   -0.003676  0.092629  0.045437  \n",
       "MeanTemp  0.919436  0.917804  0.949449  \n",
       "YR        0.013915 -0.043109 -0.014646  \n",
       "MO        0.034269  0.072338  0.054747  \n",
       "DA       -0.003292 -0.000738 -0.002090  \n",
       "MAX       1.000000  0.873670  0.968215  \n",
       "MIN       0.873670  1.000000  0.966584  \n",
       "MEA       0.968215  0.966584  1.000000  "
      ]
     },
     "execution_count": 36,
     "metadata": {},
     "output_type": "execute_result"
    }
   ],
   "source": [
    "df.corr()"
   ]
  },
  {
   "cell_type": "markdown",
   "metadata": {},
   "source": [
    "    ## Looks like Precipitation has very weak correlation with other variables\n",
    "    ## For the sake of finishing this project I will still complete the next steps."
   ]
  },
  {
   "cell_type": "code",
   "execution_count": 37,
   "metadata": {
    "collapsed": true
   },
   "outputs": [],
   "source": [
    "import seaborn as sns\n",
    "import matplotlib.pyplot as plt\n",
    "\n",
    "%matplotlib inline"
   ]
  },
  {
   "cell_type": "code",
   "execution_count": 38,
   "metadata": {},
   "outputs": [
    {
     "data": {
      "text/plain": [
       "<matplotlib.axes._subplots.AxesSubplot at 0x1bc15831e10>"
      ]
     },
     "execution_count": 38,
     "metadata": {},
     "output_type": "execute_result"
    },
    {
     "data": {
      "image/png": "[encoded data removed]",
      "text/plain": [
       "<matplotlib.figure.Figure at 0x1bc10a43da0>"
      ]
     },
     "metadata": {},
     "output_type": "display_data"
    }
   ],
   "source": [
    "sns.regplot(x='STA', y='Precip', data=df)"
   ]
  },
  {
   "cell_type": "code",
   "execution_count": 39,
   "metadata": {},
   "outputs": [
    {
     "data": {
      "text/plain": [
       "<matplotlib.axes._subplots.AxesSubplot at 0x1bc15bd74e0>"
      ]
     },
     "execution_count": 39,
     "metadata": {},
     "output_type": "execute_result"
    },
    {
     "data": {
      "image/png": "[encoded data removed]",
      "text/plain": [
       "<matplotlib.figure.Figure at 0x1bc15c02780>"
      ]
     },
     "metadata": {},
     "output_type": "display_data"
    }
   ],
   "source": [
    "sns.regplot(x='MeanTemp', y='Precip', data=df)"
   ]
  },
  {
   "cell_type": "code",
   "execution_count": 40,
   "metadata": {},
   "outputs": [
    {
     "data": {
      "text/plain": [
       "<matplotlib.axes._subplots.AxesSubplot at 0x1bc15ed0eb8>"
      ]
     },
     "execution_count": 40,
     "metadata": {},
     "output_type": "execute_result"
    },
    {
     "data": {
      "image/png": "[encoded data removed]",
      "text/plain": [
       "<matplotlib.figure.Figure at 0x1bc111a0438>"
      ]
     },
     "metadata": {},
     "output_type": "display_data"
    }
   ],
   "source": [
    "sns.regplot(x='YR', y='Precip', data=df)"
   ]
  },
  {
   "cell_type": "code",
   "execution_count": 41,
   "metadata": {},
   "outputs": [
    {
     "data": {
      "text/plain": [
       "<matplotlib.axes._subplots.AxesSubplot at 0x1bc169efdd8>"
      ]
     },
     "execution_count": 41,
     "metadata": {},
     "output_type": "execute_result"
    },
    {
     "data": {
      "image/png": "[encoded data removed]",
      "text/plain": [
       "<matplotlib.figure.Figure at 0x1bc16bea978>"
      ]
     },
     "metadata": {},
     "output_type": "display_data"
    }
   ],
   "source": [
    "sns.regplot(x='MO', y='Precip', data=df)"
   ]
  },
  {
   "cell_type": "code",
   "execution_count": 42,
   "metadata": {},
   "outputs": [
    {
     "data": {
      "text/plain": [
       "<matplotlib.axes._subplots.AxesSubplot at 0x1bc16c12c88>"
      ]
     },
     "execution_count": 42,
     "metadata": {},
     "output_type": "execute_result"
    },
    {
     "data": {
      "image/png": "[encoded data removed]",
      "text/plain": [
       "<matplotlib.figure.Figure at 0x1bc10ce1f98>"
      ]
     },
     "metadata": {},
     "output_type": "display_data"
    }
   ],
   "source": [
    "sns.regplot(x='DA', y='Precip', data=df)"
   ]
  },
  {
   "cell_type": "code",
   "execution_count": 43,
   "metadata": {},
   "outputs": [
    {
     "data": {
      "text/plain": [
       "<matplotlib.axes._subplots.AxesSubplot at 0x1bc181a8278>"
      ]
     },
     "execution_count": 43,
     "metadata": {},
     "output_type": "execute_result"
    },
    {
     "data": {
      "image/png": "[encoded data removed]",
      "text/plain": [
       "<matplotlib.figure.Figure at 0x1bc155e0710>"
      ]
     },
     "metadata": {},
     "output_type": "display_data"
    }
   ],
   "source": [
    "sns.regplot(x='MAX', y='Precip', data=df)"
   ]
  },
  {
   "cell_type": "code",
   "execution_count": 44,
   "metadata": {},
   "outputs": [
    {
     "data": {
      "text/plain": [
       "<matplotlib.axes._subplots.AxesSubplot at 0x1bc17f89c18>"
      ]
     },
     "execution_count": 44,
     "metadata": {},
     "output_type": "execute_result"
    },
    {
     "data": {
      "image/png": "[encoded data removed]",
      "text/plain": [
       "<matplotlib.figure.Figure at 0x1bc16bfbc18>"
      ]
     },
     "metadata": {},
     "output_type": "display_data"
    }
   ],
   "source": [
    "sns.regplot(x='MIN', y='Precip', data=df)"
   ]
  },
  {
   "cell_type": "code",
   "execution_count": 45,
   "metadata": {},
   "outputs": [
    {
     "data": {
      "text/plain": [
       "<matplotlib.axes._subplots.AxesSubplot at 0x1bc182bad68>"
      ]
     },
     "execution_count": 45,
     "metadata": {},
     "output_type": "execute_result"
    },
    {
     "data": {
      "image/png": "[encoded data removed]",
      "text/plain": [
       "<matplotlib.figure.Figure at 0x1bc182e1080>"
      ]
     },
     "metadata": {},
     "output_type": "display_data"
    }
   ],
   "source": [
    "sns.regplot(x='MEA', y='Precip', data=df)"
   ]
  },
  {
   "cell_type": "markdown",
   "metadata": {},
   "source": [
    "    ## Spliting into Features and Target (Precipitation) "
   ]
  },
  {
   "cell_type": "code",
   "execution_count": 46,
   "metadata": {
    "collapsed": true
   },
   "outputs": [],
   "source": [
    "feature = df[['MIN', 'MAX', 'MeanTemp', 'MEA']]"
   ]
  },
  {
   "cell_type": "code",
   "execution_count": 47,
   "metadata": {
    "collapsed": true
   },
   "outputs": [],
   "source": [
    "label = df['Precip']"
   ]
  },
  {
   "cell_type": "code",
   "execution_count": 48,
   "metadata": {},
   "outputs": [
    {
     "data": {
      "text/html": [
       "<div>\n",
       "<style>\n",
       "    .dataframe thead tr:only-child th {\n",
       "        text-align: right;\n",
       "    }\n",
       "\n",
       "    .dataframe thead th {\n",
       "        text-align: left;\n",
       "    }\n",
       "\n",
       "    .dataframe tbody tr th {\n",
       "        vertical-align: top;\n",
       "    }\n",
       "</style>\n",
       "<table border=\"1\" class=\"dataframe\">\n",
       "  <thead>\n",
       "    <tr style=\"text-align: right;\">\n",
       "      <th></th>\n",
       "      <th>MIN</th>\n",
       "      <th>MAX</th>\n",
       "      <th>MeanTemp</th>\n",
       "      <th>MEA</th>\n",
       "    </tr>\n",
       "  </thead>\n",
       "  <tbody>\n",
       "    <tr>\n",
       "      <th>0</th>\n",
       "      <td>72.0</td>\n",
       "      <td>78.0</td>\n",
       "      <td>23.888889</td>\n",
       "      <td>75.0</td>\n",
       "    </tr>\n",
       "    <tr>\n",
       "      <th>1</th>\n",
       "      <td>71.0</td>\n",
       "      <td>84.0</td>\n",
       "      <td>25.555556</td>\n",
       "      <td>78.0</td>\n",
       "    </tr>\n",
       "    <tr>\n",
       "      <th>2</th>\n",
       "      <td>72.0</td>\n",
       "      <td>79.0</td>\n",
       "      <td>24.444444</td>\n",
       "      <td>76.0</td>\n",
       "    </tr>\n",
       "    <tr>\n",
       "      <th>3</th>\n",
       "      <td>72.0</td>\n",
       "      <td>80.0</td>\n",
       "      <td>24.444444</td>\n",
       "      <td>76.0</td>\n",
       "    </tr>\n",
       "    <tr>\n",
       "      <th>4</th>\n",
       "      <td>71.0</td>\n",
       "      <td>80.0</td>\n",
       "      <td>24.444444</td>\n",
       "      <td>76.0</td>\n",
       "    </tr>\n",
       "  </tbody>\n",
       "</table>\n",
       "</div>"
      ],
      "text/plain": [
       "    MIN   MAX   MeanTemp   MEA\n",
       "0  72.0  78.0  23.888889  75.0\n",
       "1  71.0  84.0  25.555556  78.0\n",
       "2  72.0  79.0  24.444444  76.0\n",
       "3  72.0  80.0  24.444444  76.0\n",
       "4  71.0  80.0  24.444444  76.0"
      ]
     },
     "execution_count": 48,
     "metadata": {},
     "output_type": "execute_result"
    }
   ],
   "source": [
    "feature.head()"
   ]
  },
  {
   "cell_type": "code",
   "execution_count": 49,
   "metadata": {},
   "outputs": [
    {
     "data": {
      "text/plain": [
       "0    1.016\n",
       "1    0.000\n",
       "2    2.540\n",
       "3    2.540\n",
       "4    0.000\n",
       "Name: Precip, dtype: float64"
      ]
     },
     "execution_count": 49,
     "metadata": {},
     "output_type": "execute_result"
    }
   ],
   "source": [
    "label.head()"
   ]
  },
  {
   "cell_type": "markdown",
   "metadata": {},
   "source": [
    "    ## Train Test Data Set"
   ]
  },
  {
   "cell_type": "code",
   "execution_count": 50,
   "metadata": {
    "collapsed": true
   },
   "outputs": [],
   "source": [
    "from sklearn.model_selection import train_test_split"
   ]
  },
  {
   "cell_type": "code",
   "execution_count": 51,
   "metadata": {
    "collapsed": true
   },
   "outputs": [],
   "source": [
    "X_train, X_test, y_train, y_test = train_test_split(feature, label, test_size=0.33, random_state=101)"
   ]
  },
  {
   "cell_type": "code",
   "execution_count": 52,
   "metadata": {},
   "outputs": [
    {
     "name": "stdout",
     "output_type": "stream",
     "text": [
      "(79756, 4)\n",
      "(39284, 4)\n",
      "(79756,)\n",
      "(39284,)\n"
     ]
    }
   ],
   "source": [
    "print(X_train.shape)\n",
    "print(X_test.shape)\n",
    "print(y_train.shape)\n",
    "print(y_test.shape)"
   ]
  },
  {
   "cell_type": "markdown",
   "metadata": {},
   "source": [
    "    ## Processing data"
   ]
  },
  {
   "cell_type": "code",
   "execution_count": 53,
   "metadata": {
    "collapsed": true
   },
   "outputs": [],
   "source": [
    "from sklearn.preprocessing import MinMaxScaler\n",
    "scaler = MinMaxScaler()\n",
    "X_train = scaler.fit_transform(X_train)\n",
    "X_test = scaler.transform(X_test)"
   ]
  },
  {
   "cell_type": "markdown",
   "metadata": {},
   "source": [
    "    ## Regression Model"
   ]
  },
  {
   "cell_type": "code",
   "execution_count": 55,
   "metadata": {
    "collapsed": true
   },
   "outputs": [],
   "source": [
    "from sklearn.linear_model import LinearRegression"
   ]
  },
  {
   "cell_type": "code",
   "execution_count": 56,
   "metadata": {},
   "outputs": [],
   "source": [
    "#instance\n",
    "regr = LinearRegression()"
   ]
  },
  {
   "cell_type": "code",
   "execution_count": 57,
   "metadata": {},
   "outputs": [
    {
     "data": {
      "text/plain": [
       "LinearRegression(copy_X=True, fit_intercept=True, n_jobs=1, normalize=False)"
      ]
     },
     "execution_count": 57,
     "metadata": {},
     "output_type": "execute_result"
    }
   ],
   "source": [
    "#Fit the data\n",
    "regr.fit(X_train,y_train)"
   ]
  },
  {
   "cell_type": "markdown",
   "metadata": {},
   "source": [
    "    ## Predictions"
   ]
  },
  {
   "cell_type": "code",
   "execution_count": 58,
   "metadata": {
    "collapsed": true
   },
   "outputs": [],
   "source": [
    "y_hat = regr.predict(X_test)"
   ]
  },
  {
   "cell_type": "markdown",
   "metadata": {},
   "source": [
    "    ## Evaluation of the model"
   ]
  },
  {
   "cell_type": "code",
   "execution_count": 59,
   "metadata": {
    "collapsed": true
   },
   "outputs": [],
   "source": [
    "from sklearn.metrics import r2_score"
   ]
  },
  {
   "cell_type": "code",
   "execution_count": 60,
   "metadata": {},
   "outputs": [
    {
     "name": "stdout",
     "output_type": "stream",
     "text": [
      "Mean absolute error: 4.82\n",
      "Residual sum of squares (MSE): %.2f 114.90673744751895\n",
      "R2-score: -25.47\n"
     ]
    }
   ],
   "source": [
    "print(\"Mean absolute error: %.2f\" % np.mean(np.absolute(y_hat - y_test)))\n",
    "print(\"Residual sum of squares (MSE): %.2f\", np.mean((y_hat - y_test) ** 2))\n",
    "print(\"R2-score: %.2f\" % r2_score(y_hat, y_test))"
   ]
  }
 ],
 "metadata": {
  "kernelspec": {
   "display_name": "Python 3",
   "language": "python",
   "name": "python3"
  },
  "language_info": {
   "codemirror_mode": {
    "name": "ipython",
    "version": 3
   },
   "file_extension": ".py",
   "mimetype": "text/x-python",
   "name": "python",
   "nbconvert_exporter": "python",
   "pygments_lexer": "ipython3",
   "version": "3.6.1"
  }
 },
 "nbformat": 4,
 "nbformat_minor": 2
}
