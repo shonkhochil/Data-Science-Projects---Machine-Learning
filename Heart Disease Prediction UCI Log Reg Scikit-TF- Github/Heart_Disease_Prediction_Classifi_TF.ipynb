{
 "cells": [
  {
   "cell_type": "markdown",
   "metadata": {},
   "source": [
    "## Tensorflow - Classification Implementation\n",
    "\n",
    "    ### Heart disease data - UCI - Kaggle"
   ]
  },
  {
   "cell_type": "code",
   "execution_count": 1,
   "metadata": {
    "collapsed": true
   },
   "outputs": [],
   "source": [
    "import pandas as pd"
   ]
  },
  {
   "cell_type": "code",
   "execution_count": 2,
   "metadata": {
    "collapsed": true
   },
   "outputs": [],
   "source": [
    "#importing data set\n",
    "heart = pd.read_csv('C:\\\\Users\\\\rhasan\\\\Downloads\\\\heart.csv')"
   ]
  },
  {
   "cell_type": "code",
   "execution_count": 3,
   "metadata": {
    "collapsed": true
   },
   "outputs": [],
   "source": [
    "import tensorflow as tf"
   ]
  },
  {
   "cell_type": "code",
   "execution_count": 4,
   "metadata": {},
   "outputs": [
    {
     "data": {
      "text/html": [
       "<div>\n",
       "<style>\n",
       "    .dataframe thead tr:only-child th {\n",
       "        text-align: right;\n",
       "    }\n",
       "\n",
       "    .dataframe thead th {\n",
       "        text-align: left;\n",
       "    }\n",
       "\n",
       "    .dataframe tbody tr th {\n",
       "        vertical-align: top;\n",
       "    }\n",
       "</style>\n",
       "<table border=\"1\" class=\"dataframe\">\n",
       "  <thead>\n",
       "    <tr style=\"text-align: right;\">\n",
       "      <th></th>\n",
       "      <th>age</th>\n",
       "      <th>sex</th>\n",
       "      <th>cp</th>\n",
       "      <th>trestbps</th>\n",
       "      <th>chol</th>\n",
       "      <th>fbs</th>\n",
       "      <th>restecg</th>\n",
       "      <th>thalach</th>\n",
       "      <th>exang</th>\n",
       "      <th>oldpeak</th>\n",
       "      <th>slope</th>\n",
       "      <th>ca</th>\n",
       "      <th>thal</th>\n",
       "      <th>target</th>\n",
       "    </tr>\n",
       "  </thead>\n",
       "  <tbody>\n",
       "    <tr>\n",
       "      <th>0</th>\n",
       "      <td>63</td>\n",
       "      <td>1</td>\n",
       "      <td>3</td>\n",
       "      <td>145</td>\n",
       "      <td>233</td>\n",
       "      <td>1</td>\n",
       "      <td>0</td>\n",
       "      <td>150</td>\n",
       "      <td>0</td>\n",
       "      <td>2.3</td>\n",
       "      <td>0</td>\n",
       "      <td>0</td>\n",
       "      <td>1</td>\n",
       "      <td>1</td>\n",
       "    </tr>\n",
       "    <tr>\n",
       "      <th>1</th>\n",
       "      <td>37</td>\n",
       "      <td>1</td>\n",
       "      <td>2</td>\n",
       "      <td>130</td>\n",
       "      <td>250</td>\n",
       "      <td>0</td>\n",
       "      <td>1</td>\n",
       "      <td>187</td>\n",
       "      <td>0</td>\n",
       "      <td>3.5</td>\n",
       "      <td>0</td>\n",
       "      <td>0</td>\n",
       "      <td>2</td>\n",
       "      <td>1</td>\n",
       "    </tr>\n",
       "    <tr>\n",
       "      <th>2</th>\n",
       "      <td>41</td>\n",
       "      <td>0</td>\n",
       "      <td>1</td>\n",
       "      <td>130</td>\n",
       "      <td>204</td>\n",
       "      <td>0</td>\n",
       "      <td>0</td>\n",
       "      <td>172</td>\n",
       "      <td>0</td>\n",
       "      <td>1.4</td>\n",
       "      <td>2</td>\n",
       "      <td>0</td>\n",
       "      <td>2</td>\n",
       "      <td>1</td>\n",
       "    </tr>\n",
       "    <tr>\n",
       "      <th>3</th>\n",
       "      <td>56</td>\n",
       "      <td>1</td>\n",
       "      <td>1</td>\n",
       "      <td>120</td>\n",
       "      <td>236</td>\n",
       "      <td>0</td>\n",
       "      <td>1</td>\n",
       "      <td>178</td>\n",
       "      <td>0</td>\n",
       "      <td>0.8</td>\n",
       "      <td>2</td>\n",
       "      <td>0</td>\n",
       "      <td>2</td>\n",
       "      <td>1</td>\n",
       "    </tr>\n",
       "    <tr>\n",
       "      <th>4</th>\n",
       "      <td>57</td>\n",
       "      <td>0</td>\n",
       "      <td>0</td>\n",
       "      <td>120</td>\n",
       "      <td>354</td>\n",
       "      <td>0</td>\n",
       "      <td>1</td>\n",
       "      <td>163</td>\n",
       "      <td>1</td>\n",
       "      <td>0.6</td>\n",
       "      <td>2</td>\n",
       "      <td>0</td>\n",
       "      <td>2</td>\n",
       "      <td>1</td>\n",
       "    </tr>\n",
       "  </tbody>\n",
       "</table>\n",
       "</div>"
      ],
      "text/plain": [
       "   age  sex  cp  trestbps  chol  fbs  restecg  thalach  exang  oldpeak  slope  \\\n",
       "0   63    1   3       145   233    1        0      150      0      2.3      0   \n",
       "1   37    1   2       130   250    0        1      187      0      3.5      0   \n",
       "2   41    0   1       130   204    0        0      172      0      1.4      2   \n",
       "3   56    1   1       120   236    0        1      178      0      0.8      2   \n",
       "4   57    0   0       120   354    0        1      163      1      0.6      2   \n",
       "\n",
       "   ca  thal  target  \n",
       "0   0     1       1  \n",
       "1   0     2       1  \n",
       "2   0     2       1  \n",
       "3   0     2       1  \n",
       "4   0     2       1  "
      ]
     },
     "execution_count": 4,
     "metadata": {},
     "output_type": "execute_result"
    }
   ],
   "source": [
    "heart.head()"
   ]
  },
  {
   "cell_type": "code",
   "execution_count": 5,
   "metadata": {},
   "outputs": [
    {
     "data": {
      "text/plain": [
       "Index(['age', 'sex', 'cp', 'trestbps', 'chol', 'fbs', 'restecg', 'thalach',\n",
       "       'exang', 'oldpeak', 'slope', 'ca', 'thal', 'target'],\n",
       "      dtype='object')"
      ]
     },
     "execution_count": 5,
     "metadata": {},
     "output_type": "execute_result"
    }
   ],
   "source": [
    "heart.columns"
   ]
  },
  {
   "cell_type": "markdown",
   "metadata": {},
   "source": [
    "    ## Feature and Labels"
   ]
  },
  {
   "cell_type": "code",
   "execution_count": 22,
   "metadata": {
    "collapsed": true
   },
   "outputs": [],
   "source": [
    "feature = heart[['age', 'sex', 'cp', 'trestbps', 'chol', 'fbs', 'restecg', 'thalach', 'exang', 'oldpeak', 'slope', 'ca', 'thal']]"
   ]
  },
  {
   "cell_type": "code",
   "execution_count": 23,
   "metadata": {
    "collapsed": true
   },
   "outputs": [],
   "source": [
    "label = heart['target']"
   ]
  },
  {
   "cell_type": "markdown",
   "metadata": {},
   "source": [
    "    ## Tensor Flow feature"
   ]
  },
  {
   "cell_type": "code",
   "execution_count": 24,
   "metadata": {
    "collapsed": true
   },
   "outputs": [],
   "source": [
    "age = tf.feature_column.numeric_column('age')\n",
    "sex = tf.feature_column.numeric_column('sex')\n",
    "cp = tf.feature_column.numeric_column('cp')\n",
    "tres = tf.feature_column.numeric_column('trestbps')\n",
    "chol = tf.feature_column.numeric_column('chol')\n",
    "fbs = tf.feature_column.numeric_column('fbs')\n",
    "rest = tf.feature_column.numeric_column('restecg')\n",
    "thal = tf.feature_column.numeric_column('thalach')\n",
    "exan = tf.feature_column.numeric_column('exang')\n",
    "oldp = tf.feature_column.numeric_column('oldpeak')\n",
    "slope = tf.feature_column.numeric_column('slope')\n",
    "ca = tf.feature_column.numeric_column('ca')\n",
    "thal1 = tf.feature_column.numeric_column('thal')"
   ]
  },
  {
   "cell_type": "code",
   "execution_count": 25,
   "metadata": {
    "collapsed": true
   },
   "outputs": [],
   "source": [
    "feat_cols = [age,sex,cp,tres,chol,fbs,rest,thal,exan,oldp,slope,ca,thal1]"
   ]
  },
  {
   "cell_type": "markdown",
   "metadata": {},
   "source": [
    "    ## Split the data set"
   ]
  },
  {
   "cell_type": "code",
   "execution_count": 26,
   "metadata": {
    "collapsed": true
   },
   "outputs": [],
   "source": [
    "from sklearn.model_selection import train_test_split"
   ]
  },
  {
   "cell_type": "code",
   "execution_count": 27,
   "metadata": {
    "collapsed": true
   },
   "outputs": [],
   "source": [
    "X_train, X_test, y_train, y_test = train_test_split(feature, label, test_size=0.3, random_state=101)"
   ]
  },
  {
   "cell_type": "code",
   "execution_count": 28,
   "metadata": {},
   "outputs": [
    {
     "name": "stdout",
     "output_type": "stream",
     "text": [
      "(212, 13)\n",
      "(91, 13)\n",
      "(212,)\n",
      "(91,)\n"
     ]
    }
   ],
   "source": [
    "print(X_train.shape)\n",
    "print(X_test.shape)\n",
    "print(y_train.shape)\n",
    "print(y_test.shape)"
   ]
  },
  {
   "cell_type": "markdown",
   "metadata": {},
   "source": [
    "    ## Generate Input Function"
   ]
  },
  {
   "cell_type": "code",
   "execution_count": 29,
   "metadata": {
    "collapsed": true
   },
   "outputs": [],
   "source": [
    "input_func = tf.estimator.inputs.pandas_input_fn(x=X_train,\n",
    "                                                 y=y_train,\n",
    "                                                 batch_size=100,\n",
    "                                                num_epochs=None,\n",
    "                                                shuffle=True)"
   ]
  },
  {
   "cell_type": "markdown",
   "metadata": {},
   "source": [
    "    ## Generate a Model"
   ]
  },
  {
   "cell_type": "code",
   "execution_count": 30,
   "metadata": {
    "scrolled": true
   },
   "outputs": [
    {
     "name": "stdout",
     "output_type": "stream",
     "text": [
      "INFO:tensorflow:Using default config.\n",
      "WARNING:tensorflow:Using temporary folder as model directory: C:\\Users\\rhasan\\AppData\\Local\\Temp\\tmp9baj87sv\n",
      "INFO:tensorflow:Using config: {'_keep_checkpoint_every_n_hours': 10000, '_tf_random_seed': 1, '_save_checkpoints_steps': None, '_save_summary_steps': 100, '_session_config': None, '_model_dir': 'C:\\\\Users\\\\rhasan\\\\AppData\\\\Local\\\\Temp\\\\tmp9baj87sv', '_save_checkpoints_secs': 600, '_keep_checkpoint_max': 5, '_log_step_count_steps': 100}\n"
     ]
    }
   ],
   "source": [
    "model = tf.estimator.LinearClassifier(feature_columns=feat_cols)"
   ]
  },
  {
   "cell_type": "markdown",
   "metadata": {},
   "source": [
    "    ## Train the Model"
   ]
  },
  {
   "cell_type": "code",
   "execution_count": 32,
   "metadata": {},
   "outputs": [
    {
     "name": "stdout",
     "output_type": "stream",
     "text": [
      "INFO:tensorflow:Create CheckpointSaverHook.\n",
      "INFO:tensorflow:Restoring parameters from C:\\Users\\rhasan\\AppData\\Local\\Temp\\tmp9baj87sv\\model.ckpt-1000\n",
      "INFO:tensorflow:Saving checkpoints for 1001 into C:\\Users\\rhasan\\AppData\\Local\\Temp\\tmp9baj87sv\\model.ckpt.\n",
      "INFO:tensorflow:loss = 32.2151, step = 1001\n",
      "INFO:tensorflow:global_step/sec: 99.0981\n",
      "INFO:tensorflow:loss = 57.724, step = 1101 (1.019 sec)\n",
      "INFO:tensorflow:global_step/sec: 94.3302\n",
      "INFO:tensorflow:loss = 43.6075, step = 1201 (1.060 sec)\n",
      "INFO:tensorflow:global_step/sec: 95.5927\n",
      "INFO:tensorflow:loss = 37.3664, step = 1301 (1.046 sec)\n",
      "INFO:tensorflow:global_step/sec: 99.0981\n",
      "INFO:tensorflow:loss = 43.5641, step = 1401 (1.009 sec)\n",
      "INFO:tensorflow:global_step/sec: 97.8376\n",
      "INFO:tensorflow:loss = 35.5851, step = 1501 (1.023 sec)\n",
      "INFO:tensorflow:global_step/sec: 96.3295\n",
      "INFO:tensorflow:loss = 36.5856, step = 1601 (1.039 sec)\n",
      "INFO:tensorflow:global_step/sec: 94.5085\n",
      "INFO:tensorflow:loss = 60.9865, step = 1701 (1.057 sec)\n",
      "INFO:tensorflow:global_step/sec: 95.7759\n",
      "INFO:tensorflow:loss = 41.8201, step = 1801 (1.043 sec)\n",
      "INFO:tensorflow:global_step/sec: 94.4193\n",
      "INFO:tensorflow:loss = 40.4949, step = 1901 (1.060 sec)\n",
      "INFO:tensorflow:global_step/sec: 99.99\n",
      "INFO:tensorflow:loss = 42.7681, step = 2001 (0.999 sec)\n",
      "INFO:tensorflow:global_step/sec: 99.3936\n",
      "INFO:tensorflow:loss = 30.5731, step = 2101 (1.007 sec)\n",
      "INFO:tensorflow:global_step/sec: 90.3252\n",
      "INFO:tensorflow:loss = 34.2672, step = 2201 (1.106 sec)\n",
      "INFO:tensorflow:global_step/sec: 98.3186\n",
      "INFO:tensorflow:loss = 37.0541, step = 2301 (1.024 sec)\n",
      "INFO:tensorflow:global_step/sec: 96.7021\n",
      "INFO:tensorflow:loss = 41.0352, step = 2401 (1.030 sec)\n",
      "INFO:tensorflow:global_step/sec: 92.4122\n",
      "INFO:tensorflow:loss = 40.3092, step = 2501 (1.080 sec)\n",
      "INFO:tensorflow:global_step/sec: 95.9597\n",
      "INFO:tensorflow:loss = 37.868, step = 2601 (1.042 sec)\n",
      "INFO:tensorflow:global_step/sec: 94.2413\n",
      "INFO:tensorflow:loss = 40.222, step = 2701 (1.062 sec)\n",
      "INFO:tensorflow:global_step/sec: 95.9597\n",
      "INFO:tensorflow:loss = 66.5172, step = 2801 (1.041 sec)\n",
      "INFO:tensorflow:global_step/sec: 74.342\n",
      "INFO:tensorflow:loss = 44.9815, step = 2901 (1.351 sec)\n",
      "INFO:tensorflow:global_step/sec: 84.9533\n",
      "INFO:tensorflow:loss = 28.997, step = 3001 (1.171 sec)\n",
      "INFO:tensorflow:global_step/sec: 111.224\n",
      "INFO:tensorflow:loss = 39.494, step = 3101 (0.897 sec)\n",
      "INFO:tensorflow:global_step/sec: 111.472\n",
      "INFO:tensorflow:loss = 56.8819, step = 3201 (0.899 sec)\n",
      "INFO:tensorflow:global_step/sec: 82.7732\n",
      "INFO:tensorflow:loss = 42.2171, step = 3301 (1.209 sec)\n",
      "INFO:tensorflow:global_step/sec: 95.3194\n",
      "INFO:tensorflow:loss = 36.6311, step = 3401 (1.046 sec)\n",
      "INFO:tensorflow:global_step/sec: 105.922\n",
      "INFO:tensorflow:loss = 33.807, step = 3501 (0.951 sec)\n",
      "INFO:tensorflow:global_step/sec: 113.754\n",
      "INFO:tensorflow:loss = 48.4281, step = 3601 (0.873 sec)\n",
      "INFO:tensorflow:global_step/sec: 98.4154\n",
      "INFO:tensorflow:loss = 39.3532, step = 3701 (1.017 sec)\n",
      "INFO:tensorflow:global_step/sec: 95.7759\n",
      "INFO:tensorflow:loss = 45.7683, step = 3801 (1.045 sec)\n",
      "INFO:tensorflow:global_step/sec: 91.0656\n",
      "INFO:tensorflow:loss = 39.9496, step = 3901 (1.097 sec)\n",
      "INFO:tensorflow:global_step/sec: 92.3269\n",
      "INFO:tensorflow:loss = 34.0075, step = 4001 (1.084 sec)\n",
      "INFO:tensorflow:global_step/sec: 86.124\n",
      "INFO:tensorflow:loss = 39.0905, step = 4101 (1.160 sec)\n",
      "INFO:tensorflow:global_step/sec: 96.5154\n",
      "INFO:tensorflow:loss = 45.073, step = 4201 (1.036 sec)\n",
      "INFO:tensorflow:global_step/sec: 95.3194\n",
      "INFO:tensorflow:loss = 30.9215, step = 4301 (1.050 sec)\n",
      "INFO:tensorflow:global_step/sec: 96.5154\n",
      "INFO:tensorflow:loss = 51.0106, step = 4401 (1.036 sec)\n",
      "INFO:tensorflow:global_step/sec: 88.1746\n",
      "INFO:tensorflow:loss = 32.9571, step = 4501 (1.139 sec)\n",
      "INFO:tensorflow:global_step/sec: 107.056\n",
      "INFO:tensorflow:loss = 37.3095, step = 4601 (0.928 sec)\n",
      "INFO:tensorflow:global_step/sec: 97.4561\n",
      "INFO:tensorflow:loss = 42.0664, step = 4701 (1.033 sec)\n",
      "INFO:tensorflow:global_step/sec: 93.0139\n",
      "INFO:tensorflow:loss = 32.1128, step = 4801 (1.069 sec)\n",
      "INFO:tensorflow:global_step/sec: 92.2417\n",
      "INFO:tensorflow:loss = 48.5836, step = 4901 (1.084 sec)\n",
      "INFO:tensorflow:global_step/sec: 92.1567\n",
      "INFO:tensorflow:loss = 43.8973, step = 5001 (1.084 sec)\n",
      "INFO:tensorflow:global_step/sec: 84.8812\n",
      "INFO:tensorflow:loss = 38.5571, step = 5101 (1.177 sec)\n",
      "INFO:tensorflow:global_step/sec: 98.6095\n",
      "INFO:tensorflow:loss = 28.8793, step = 5201 (1.015 sec)\n",
      "INFO:tensorflow:global_step/sec: 105.81\n",
      "INFO:tensorflow:loss = 26.0613, step = 5301 (0.946 sec)\n",
      "INFO:tensorflow:global_step/sec: 87.4803\n",
      "INFO:tensorflow:loss = 38.3174, step = 5401 (1.147 sec)\n",
      "INFO:tensorflow:global_step/sec: 127.214\n",
      "INFO:tensorflow:loss = 42.8546, step = 5501 (0.776 sec)\n",
      "INFO:tensorflow:global_step/sec: 118.052\n",
      "INFO:tensorflow:loss = 37.633, step = 5601 (0.850 sec)\n",
      "INFO:tensorflow:global_step/sec: 155.023\n",
      "INFO:tensorflow:loss = 44.488, step = 5701 (0.640 sec)\n",
      "INFO:tensorflow:global_step/sec: 176.039\n",
      "INFO:tensorflow:loss = 29.6993, step = 5801 (0.568 sec)\n",
      "INFO:tensorflow:global_step/sec: 249.352\n",
      "INFO:tensorflow:loss = 39.6984, step = 5901 (0.403 sec)\n",
      "INFO:tensorflow:Saving checkpoints for 6000 into C:\\Users\\rhasan\\AppData\\Local\\Temp\\tmp9baj87sv\\model.ckpt.\n",
      "INFO:tensorflow:Loss for final step: 35.3533.\n"
     ]
    },
    {
     "data": {
      "text/plain": [
       "<tensorflow.python.estimator.canned.linear.LinearClassifier at 0xc4472e8>"
      ]
     },
     "execution_count": 32,
     "metadata": {},
     "output_type": "execute_result"
    }
   ],
   "source": [
    "model.train(input_fn=input_func,steps=5000)"
   ]
  },
  {
   "cell_type": "markdown",
   "metadata": {},
   "source": [
    "    ## Prediction Function "
   ]
  },
  {
   "cell_type": "code",
   "execution_count": 33,
   "metadata": {
    "collapsed": true
   },
   "outputs": [],
   "source": [
    "pred_fn = tf.estimator.inputs.pandas_input_fn(x=X_test,\n",
    "                                              batch_size=len(X_test),\n",
    "                                             shuffle=False)"
   ]
  },
  {
   "cell_type": "code",
   "execution_count": 34,
   "metadata": {},
   "outputs": [
    {
     "name": "stdout",
     "output_type": "stream",
     "text": [
      "INFO:tensorflow:Restoring parameters from C:\\Users\\rhasan\\AppData\\Local\\Temp\\tmp9baj87sv\\model.ckpt-6000\n"
     ]
    }
   ],
   "source": [
    "predictions = list(model.predict(input_fn=pred_fn))"
   ]
  },
  {
   "cell_type": "code",
   "execution_count": 35,
   "metadata": {},
   "outputs": [
    {
     "data": {
      "text/plain": [
       "[{'class_ids': array([0], dtype=int64),\n",
       "  'classes': array([b'0'], dtype=object),\n",
       "  'logistic': array([ 0.00351843], dtype=float32),\n",
       "  'logits': array([-5.64621639], dtype=float32),\n",
       "  'probabilities': array([ 0.99648154,  0.00351843], dtype=float32)},\n",
       " {'class_ids': array([1], dtype=int64),\n",
       "  'classes': array([b'1'], dtype=object),\n",
       "  'logistic': array([ 0.93516356], dtype=float32),\n",
       "  'logits': array([ 2.66885328], dtype=float32),\n",
       "  'probabilities': array([ 0.06483646,  0.93516356], dtype=float32)},\n",
       " {'class_ids': array([1], dtype=int64),\n",
       "  'classes': array([b'1'], dtype=object),\n",
       "  'logistic': array([ 0.69179451], dtype=float32),\n",
       "  'logits': array([ 0.80852211], dtype=float32),\n",
       "  'probabilities': array([ 0.30820552,  0.69179451], dtype=float32)},\n",
       " {'class_ids': array([1], dtype=int64),\n",
       "  'classes': array([b'1'], dtype=object),\n",
       "  'logistic': array([ 0.98260272], dtype=float32),\n",
       "  'logits': array([ 4.03388786], dtype=float32),\n",
       "  'probabilities': array([ 0.01739733,  0.98260272], dtype=float32)},\n",
       " {'class_ids': array([0], dtype=int64),\n",
       "  'classes': array([b'0'], dtype=object),\n",
       "  'logistic': array([ 0.01918328], dtype=float32),\n",
       "  'logits': array([-3.93434668], dtype=float32),\n",
       "  'probabilities': array([ 0.98081678,  0.01918328], dtype=float32)},\n",
       " {'class_ids': array([1], dtype=int64),\n",
       "  'classes': array([b'1'], dtype=object),\n",
       "  'logistic': array([ 0.92209488], dtype=float32),\n",
       "  'logits': array([ 2.47115707], dtype=float32),\n",
       "  'probabilities': array([ 0.07790507,  0.92209488], dtype=float32)},\n",
       " {'class_ids': array([1], dtype=int64),\n",
       "  'classes': array([b'1'], dtype=object),\n",
       "  'logistic': array([ 0.95920879], dtype=float32),\n",
       "  'logits': array([ 3.15764284], dtype=float32),\n",
       "  'probabilities': array([ 0.04079118,  0.95920879], dtype=float32)},\n",
       " {'class_ids': array([0], dtype=int64),\n",
       "  'classes': array([b'0'], dtype=object),\n",
       "  'logistic': array([ 0.01008311], dtype=float32),\n",
       "  'logits': array([-4.58675957], dtype=float32),\n",
       "  'probabilities': array([ 0.98991686,  0.01008311], dtype=float32)},\n",
       " {'class_ids': array([0], dtype=int64),\n",
       "  'classes': array([b'0'], dtype=object),\n",
       "  'logistic': array([ 0.05183021], dtype=float32),\n",
       "  'logits': array([-2.90656042], dtype=float32),\n",
       "  'probabilities': array([ 0.94816977,  0.05183021], dtype=float32)},\n",
       " {'class_ids': array([1], dtype=int64),\n",
       "  'classes': array([b'1'], dtype=object),\n",
       "  'logistic': array([ 0.84774971], dtype=float32),\n",
       "  'logits': array([ 1.71705985], dtype=float32),\n",
       "  'probabilities': array([ 0.15225026,  0.84774971], dtype=float32)},\n",
       " {'class_ids': array([0], dtype=int64),\n",
       "  'classes': array([b'0'], dtype=object),\n",
       "  'logistic': array([ 0.02757484], dtype=float32),\n",
       "  'logits': array([-3.56288958], dtype=float32),\n",
       "  'probabilities': array([ 0.97242516,  0.02757484], dtype=float32)},\n",
       " {'class_ids': array([1], dtype=int64),\n",
       "  'classes': array([b'1'], dtype=object),\n",
       "  'logistic': array([ 0.82611465], dtype=float32),\n",
       "  'logits': array([ 1.55833745], dtype=float32),\n",
       "  'probabilities': array([ 0.17388535,  0.82611465], dtype=float32)},\n",
       " {'class_ids': array([0], dtype=int64),\n",
       "  'classes': array([b'0'], dtype=object),\n",
       "  'logistic': array([ 0.05396533], dtype=float32),\n",
       "  'logits': array([-2.86393738], dtype=float32),\n",
       "  'probabilities': array([ 0.94603473,  0.05396534], dtype=float32)},\n",
       " {'class_ids': array([1], dtype=int64),\n",
       "  'classes': array([b'1'], dtype=object),\n",
       "  'logistic': array([ 0.56779432], dtype=float32),\n",
       "  'logits': array([ 0.27285773], dtype=float32),\n",
       "  'probabilities': array([ 0.43220565,  0.56779432], dtype=float32)},\n",
       " {'class_ids': array([1], dtype=int64),\n",
       "  'classes': array([b'1'], dtype=object),\n",
       "  'logistic': array([ 0.96114188], dtype=float32),\n",
       "  'logits': array([ 3.20820379], dtype=float32),\n",
       "  'probabilities': array([ 0.03885817,  0.96114188], dtype=float32)},\n",
       " {'class_ids': array([1], dtype=int64),\n",
       "  'classes': array([b'1'], dtype=object),\n",
       "  'logistic': array([ 0.84842414], dtype=float32),\n",
       "  'logits': array([ 1.72229481], dtype=float32),\n",
       "  'probabilities': array([ 0.1515758 ,  0.84842414], dtype=float32)},\n",
       " {'class_ids': array([1], dtype=int64),\n",
       "  'classes': array([b'1'], dtype=object),\n",
       "  'logistic': array([ 0.99502289], dtype=float32),\n",
       "  'logits': array([ 5.29791784], dtype=float32),\n",
       "  'probabilities': array([ 0.0049771 ,  0.99502289], dtype=float32)},\n",
       " {'class_ids': array([1], dtype=int64),\n",
       "  'classes': array([b'1'], dtype=object),\n",
       "  'logistic': array([ 0.88163972], dtype=float32),\n",
       "  'logits': array([ 2.00805068], dtype=float32),\n",
       "  'probabilities': array([ 0.11836024,  0.88163972], dtype=float32)},\n",
       " {'class_ids': array([1], dtype=int64),\n",
       "  'classes': array([b'1'], dtype=object),\n",
       "  'logistic': array([ 0.87473118], dtype=float32),\n",
       "  'logits': array([ 1.94345474], dtype=float32),\n",
       "  'probabilities': array([ 0.12526882,  0.87473118], dtype=float32)},\n",
       " {'class_ids': array([0], dtype=int64),\n",
       "  'classes': array([b'0'], dtype=object),\n",
       "  'logistic': array([ 0.01500914], dtype=float32),\n",
       "  'logits': array([-4.18397284], dtype=float32),\n",
       "  'probabilities': array([ 0.98499089,  0.01500914], dtype=float32)},\n",
       " {'class_ids': array([0], dtype=int64),\n",
       "  'classes': array([b'0'], dtype=object),\n",
       "  'logistic': array([ 0.00814741], dtype=float32),\n",
       "  'logits': array([-4.80187416], dtype=float32),\n",
       "  'probabilities': array([ 0.99185258,  0.00814741], dtype=float32)},\n",
       " {'class_ids': array([1], dtype=int64),\n",
       "  'classes': array([b'1'], dtype=object),\n",
       "  'logistic': array([ 0.64566118], dtype=float32),\n",
       "  'logits': array([ 0.6000213], dtype=float32),\n",
       "  'probabilities': array([ 0.35433879,  0.64566118], dtype=float32)},\n",
       " {'class_ids': array([1], dtype=int64),\n",
       "  'classes': array([b'1'], dtype=object),\n",
       "  'logistic': array([ 0.75980687], dtype=float32),\n",
       "  'logits': array([ 1.15162086], dtype=float32),\n",
       "  'probabilities': array([ 0.24019316,  0.75980687], dtype=float32)},\n",
       " {'class_ids': array([1], dtype=int64),\n",
       "  'classes': array([b'1'], dtype=object),\n",
       "  'logistic': array([ 0.82258785], dtype=float32),\n",
       "  'logits': array([ 1.53397989], dtype=float32),\n",
       "  'probabilities': array([ 0.17741212,  0.82258785], dtype=float32)},\n",
       " {'class_ids': array([0], dtype=int64),\n",
       "  'classes': array([b'0'], dtype=object),\n",
       "  'logistic': array([ 0.38056937], dtype=float32),\n",
       "  'logits': array([-0.48713225], dtype=float32),\n",
       "  'probabilities': array([ 0.6194306 ,  0.38056937], dtype=float32)},\n",
       " {'class_ids': array([1], dtype=int64),\n",
       "  'classes': array([b'1'], dtype=object),\n",
       "  'logistic': array([ 0.97609055], dtype=float32),\n",
       "  'logits': array([ 3.70928144], dtype=float32),\n",
       "  'probabilities': array([ 0.02390945,  0.97609055], dtype=float32)},\n",
       " {'class_ids': array([0], dtype=int64),\n",
       "  'classes': array([b'0'], dtype=object),\n",
       "  'logistic': array([ 0.02357016], dtype=float32),\n",
       "  'logits': array([-3.7239213], dtype=float32),\n",
       "  'probabilities': array([ 0.97642982,  0.02357016], dtype=float32)},\n",
       " {'class_ids': array([1], dtype=int64),\n",
       "  'classes': array([b'1'], dtype=object),\n",
       "  'logistic': array([ 0.82703161], dtype=float32),\n",
       "  'logits': array([ 1.56473374], dtype=float32),\n",
       "  'probabilities': array([ 0.17296845,  0.82703161], dtype=float32)},\n",
       " {'class_ids': array([0], dtype=int64),\n",
       "  'classes': array([b'0'], dtype=object),\n",
       "  'logistic': array([ 0.01904305], dtype=float32),\n",
       "  'logits': array([-3.94182634], dtype=float32),\n",
       "  'probabilities': array([ 0.98095691,  0.01904305], dtype=float32)},\n",
       " {'class_ids': array([0], dtype=int64),\n",
       "  'classes': array([b'0'], dtype=object),\n",
       "  'logistic': array([ 0.07335978], dtype=float32),\n",
       "  'logits': array([-2.53618956], dtype=float32),\n",
       "  'probabilities': array([ 0.92664021,  0.07335977], dtype=float32)},\n",
       " {'class_ids': array([0], dtype=int64),\n",
       "  'classes': array([b'0'], dtype=object),\n",
       "  'logistic': array([ 0.00744041], dtype=float32),\n",
       "  'logits': array([-4.89336061], dtype=float32),\n",
       "  'probabilities': array([ 0.99255955,  0.00744041], dtype=float32)},\n",
       " {'class_ids': array([1], dtype=int64),\n",
       "  'classes': array([b'1'], dtype=object),\n",
       "  'logistic': array([ 0.78178519], dtype=float32),\n",
       "  'logits': array([ 1.27609992], dtype=float32),\n",
       "  'probabilities': array([ 0.21821484,  0.78178519], dtype=float32)},\n",
       " {'class_ids': array([0], dtype=int64),\n",
       "  'classes': array([b'0'], dtype=object),\n",
       "  'logistic': array([ 0.2042838], dtype=float32),\n",
       "  'logits': array([-1.35973239], dtype=float32),\n",
       "  'probabilities': array([ 0.79571617,  0.2042838 ], dtype=float32)},\n",
       " {'class_ids': array([1], dtype=int64),\n",
       "  'classes': array([b'1'], dtype=object),\n",
       "  'logistic': array([ 0.59819072], dtype=float32),\n",
       "  'logits': array([ 0.39793214], dtype=float32),\n",
       "  'probabilities': array([ 0.40180928,  0.59819072], dtype=float32)},\n",
       " {'class_ids': array([1], dtype=int64),\n",
       "  'classes': array([b'1'], dtype=object),\n",
       "  'logistic': array([ 0.98277503], dtype=float32),\n",
       "  'logits': array([ 4.04401731], dtype=float32),\n",
       "  'probabilities': array([ 0.01722502,  0.98277503], dtype=float32)},\n",
       " {'class_ids': array([1], dtype=int64),\n",
       "  'classes': array([b'1'], dtype=object),\n",
       "  'logistic': array([ 0.67622608], dtype=float32),\n",
       "  'logits': array([ 0.73648185], dtype=float32),\n",
       "  'probabilities': array([ 0.32377395,  0.67622608], dtype=float32)},\n",
       " {'class_ids': array([1], dtype=int64),\n",
       "  'classes': array([b'1'], dtype=object),\n",
       "  'logistic': array([ 0.92958599], dtype=float32),\n",
       "  'logits': array([ 2.58034611], dtype=float32),\n",
       "  'probabilities': array([ 0.07041407,  0.92958599], dtype=float32)},\n",
       " {'class_ids': array([1], dtype=int64),\n",
       "  'classes': array([b'1'], dtype=object),\n",
       "  'logistic': array([ 0.82465506], dtype=float32),\n",
       "  'logits': array([ 1.54821014], dtype=float32),\n",
       "  'probabilities': array([ 0.17534493,  0.82465506], dtype=float32)},\n",
       " {'class_ids': array([1], dtype=int64),\n",
       "  'classes': array([b'1'], dtype=object),\n",
       "  'logistic': array([ 0.95394427], dtype=float32),\n",
       "  'logits': array([ 3.03075171], dtype=float32),\n",
       "  'probabilities': array([ 0.04605579,  0.95394427], dtype=float32)},\n",
       " {'class_ids': array([1], dtype=int64),\n",
       "  'classes': array([b'1'], dtype=object),\n",
       "  'logistic': array([ 0.95731556], dtype=float32),\n",
       "  'logits': array([ 3.11030054], dtype=float32),\n",
       "  'probabilities': array([ 0.04268436,  0.95731556], dtype=float32)},\n",
       " {'class_ids': array([0], dtype=int64),\n",
       "  'classes': array([b'0'], dtype=object),\n",
       "  'logistic': array([ 0.15950614], dtype=float32),\n",
       "  'logits': array([-1.6619072], dtype=float32),\n",
       "  'probabilities': array([ 0.84049386,  0.15950614], dtype=float32)},\n",
       " {'class_ids': array([1], dtype=int64),\n",
       "  'classes': array([b'1'], dtype=object),\n",
       "  'logistic': array([ 0.94247872], dtype=float32),\n",
       "  'logits': array([ 2.79635763], dtype=float32),\n",
       "  'probabilities': array([ 0.05752132,  0.94247872], dtype=float32)},\n",
       " {'class_ids': array([1], dtype=int64),\n",
       "  'classes': array([b'1'], dtype=object),\n",
       "  'logistic': array([ 0.9590205], dtype=float32),\n",
       "  'logits': array([ 3.15283966], dtype=float32),\n",
       "  'probabilities': array([ 0.04097953,  0.9590205 ], dtype=float32)},\n",
       " {'class_ids': array([1], dtype=int64),\n",
       "  'classes': array([b'1'], dtype=object),\n",
       "  'logistic': array([ 0.71772712], dtype=float32),\n",
       "  'logits': array([ 0.93321508], dtype=float32),\n",
       "  'probabilities': array([ 0.28227293,  0.71772712], dtype=float32)},\n",
       " {'class_ids': array([0], dtype=int64),\n",
       "  'classes': array([b'0'], dtype=object),\n",
       "  'logistic': array([ 0.46149299], dtype=float32),\n",
       "  'logits': array([-0.15433377], dtype=float32),\n",
       "  'probabilities': array([ 0.53850704,  0.46149296], dtype=float32)},\n",
       " {'class_ids': array([0], dtype=int64),\n",
       "  'classes': array([b'0'], dtype=object),\n",
       "  'logistic': array([ 0.39912298], dtype=float32),\n",
       "  'logits': array([-0.40912074], dtype=float32),\n",
       "  'probabilities': array([ 0.60087705,  0.39912298], dtype=float32)},\n",
       " {'class_ids': array([0], dtype=int64),\n",
       "  'classes': array([b'0'], dtype=object),\n",
       "  'logistic': array([ 0.25507343], dtype=float32),\n",
       "  'logits': array([-1.07173419], dtype=float32),\n",
       "  'probabilities': array([ 0.74492657,  0.25507343], dtype=float32)},\n",
       " {'class_ids': array([1], dtype=int64),\n",
       "  'classes': array([b'1'], dtype=object),\n",
       "  'logistic': array([ 0.9832896], dtype=float32),\n",
       "  'logits': array([ 4.07487679], dtype=float32),\n",
       "  'probabilities': array([ 0.01671033,  0.9832896 ], dtype=float32)},\n",
       " {'class_ids': array([1], dtype=int64),\n",
       "  'classes': array([b'1'], dtype=object),\n",
       "  'logistic': array([ 0.99790442], dtype=float32),\n",
       "  'logits': array([ 6.16581583], dtype=float32),\n",
       "  'probabilities': array([ 0.0020956 ,  0.99790442], dtype=float32)},\n",
       " {'class_ids': array([0], dtype=int64),\n",
       "  'classes': array([b'0'], dtype=object),\n",
       "  'logistic': array([ 0.33302009], dtype=float32),\n",
       "  'logits': array([-0.69455713], dtype=float32),\n",
       "  'probabilities': array([ 0.66697991,  0.33302009], dtype=float32)},\n",
       " {'class_ids': array([0], dtype=int64),\n",
       "  'classes': array([b'0'], dtype=object),\n",
       "  'logistic': array([ 0.01064822], dtype=float32),\n",
       "  'logits': array([-4.53165674], dtype=float32),\n",
       "  'probabilities': array([ 0.98935181,  0.01064823], dtype=float32)},\n",
       " {'class_ids': array([1], dtype=int64),\n",
       "  'classes': array([b'1'], dtype=object),\n",
       "  'logistic': array([ 0.75757903], dtype=float32),\n",
       "  'logits': array([ 1.13945198], dtype=float32),\n",
       "  'probabilities': array([ 0.242421  ,  0.75757903], dtype=float32)},\n",
       " {'class_ids': array([0], dtype=int64),\n",
       "  'classes': array([b'0'], dtype=object),\n",
       "  'logistic': array([ 0.03168933], dtype=float32),\n",
       "  'logits': array([-3.41957283], dtype=float32),\n",
       "  'probabilities': array([ 0.96831065,  0.03168933], dtype=float32)},\n",
       " {'class_ids': array([1], dtype=int64),\n",
       "  'classes': array([b'1'], dtype=object),\n",
       "  'logistic': array([ 0.97043556], dtype=float32),\n",
       "  'logits': array([ 3.49117231], dtype=float32),\n",
       "  'probabilities': array([ 0.02956445,  0.97043556], dtype=float32)},\n",
       " {'class_ids': array([1], dtype=int64),\n",
       "  'classes': array([b'1'], dtype=object),\n",
       "  'logistic': array([ 0.85033715], dtype=float32),\n",
       "  'logits': array([ 1.73724771], dtype=float32),\n",
       "  'probabilities': array([ 0.14966285,  0.85033715], dtype=float32)},\n",
       " {'class_ids': array([0], dtype=int64),\n",
       "  'classes': array([b'0'], dtype=object),\n",
       "  'logistic': array([ 0.09532589], dtype=float32),\n",
       "  'logits': array([-2.25027323], dtype=float32),\n",
       "  'probabilities': array([ 0.90467411,  0.0953259 ], dtype=float32)},\n",
       " {'class_ids': array([0], dtype=int64),\n",
       "  'classes': array([b'0'], dtype=object),\n",
       "  'logistic': array([ 0.06087025], dtype=float32),\n",
       "  'logits': array([-2.73620915], dtype=float32),\n",
       "  'probabilities': array([ 0.93912971,  0.06087025], dtype=float32)},\n",
       " {'class_ids': array([1], dtype=int64),\n",
       "  'classes': array([b'1'], dtype=object),\n",
       "  'logistic': array([ 0.99225676], dtype=float32),\n",
       "  'logits': array([ 4.85316038], dtype=float32),\n",
       "  'probabilities': array([ 0.00774325,  0.99225676], dtype=float32)},\n",
       " {'class_ids': array([0], dtype=int64),\n",
       "  'classes': array([b'0'], dtype=object),\n",
       "  'logistic': array([ 0.01277815], dtype=float32),\n",
       "  'logits': array([-4.34715843], dtype=float32),\n",
       "  'probabilities': array([ 0.9872219 ,  0.01277815], dtype=float32)},\n",
       " {'class_ids': array([0], dtype=int64),\n",
       "  'classes': array([b'0'], dtype=object),\n",
       "  'logistic': array([ 0.03243238], dtype=float32),\n",
       "  'logits': array([-3.39562798], dtype=float32),\n",
       "  'probabilities': array([ 0.96756762,  0.03243238], dtype=float32)},\n",
       " {'class_ids': array([1], dtype=int64),\n",
       "  'classes': array([b'1'], dtype=object),\n",
       "  'logistic': array([ 0.92606902], dtype=float32),\n",
       "  'logits': array([ 2.52781701], dtype=float32),\n",
       "  'probabilities': array([ 0.07393096,  0.92606902], dtype=float32)},\n",
       " {'class_ids': array([1], dtype=int64),\n",
       "  'classes': array([b'1'], dtype=object),\n",
       "  'logistic': array([ 0.7798785], dtype=float32),\n",
       "  'logits': array([ 1.26495838], dtype=float32),\n",
       "  'probabilities': array([ 0.2201215,  0.7798785], dtype=float32)},\n",
       " {'class_ids': array([0], dtype=int64),\n",
       "  'classes': array([b'0'], dtype=object),\n",
       "  'logistic': array([ 0.28637856], dtype=float32),\n",
       "  'logits': array([-0.91303807], dtype=float32),\n",
       "  'probabilities': array([ 0.71362144,  0.28637853], dtype=float32)},\n",
       " {'class_ids': array([1], dtype=int64),\n",
       "  'classes': array([b'1'], dtype=object),\n",
       "  'logistic': array([ 0.9821583], dtype=float32),\n",
       "  'logits': array([ 4.00821304], dtype=float32),\n",
       "  'probabilities': array([ 0.01784172,  0.9821583 ], dtype=float32)},\n",
       " {'class_ids': array([0], dtype=int64),\n",
       "  'classes': array([b'0'], dtype=object),\n",
       "  'logistic': array([ 0.43344811], dtype=float32),\n",
       "  'logits': array([-0.2677967], dtype=float32),\n",
       "  'probabilities': array([ 0.56655192,  0.43344808], dtype=float32)},\n",
       " {'class_ids': array([0], dtype=int64),\n",
       "  'classes': array([b'0'], dtype=object),\n",
       "  'logistic': array([ 0.00589614], dtype=float32),\n",
       "  'logits': array([-5.12754345], dtype=float32),\n",
       "  'probabilities': array([ 0.99410385,  0.00589614], dtype=float32)},\n",
       " {'class_ids': array([1], dtype=int64),\n",
       "  'classes': array([b'1'], dtype=object),\n",
       "  'logistic': array([ 0.95198143], dtype=float32),\n",
       "  'logits': array([ 2.9869566], dtype=float32),\n",
       "  'probabilities': array([ 0.04801862,  0.95198143], dtype=float32)},\n",
       " {'class_ids': array([1], dtype=int64),\n",
       "  'classes': array([b'1'], dtype=object),\n",
       "  'logistic': array([ 0.55900937], dtype=float32),\n",
       "  'logits': array([ 0.23714274], dtype=float32),\n",
       "  'probabilities': array([ 0.44099057,  0.55900937], dtype=float32)},\n",
       " {'class_ids': array([1], dtype=int64),\n",
       "  'classes': array([b'1'], dtype=object),\n",
       "  'logistic': array([ 0.99268943], dtype=float32),\n",
       "  'logits': array([ 4.91109085], dtype=float32),\n",
       "  'probabilities': array([ 0.00731061,  0.99268943], dtype=float32)},\n",
       " {'class_ids': array([1], dtype=int64),\n",
       "  'classes': array([b'1'], dtype=object),\n",
       "  'logistic': array([ 0.9009701], dtype=float32),\n",
       "  'logits': array([ 2.20804977], dtype=float32),\n",
       "  'probabilities': array([ 0.09902995,  0.9009701 ], dtype=float32)},\n",
       " {'class_ids': array([1], dtype=int64),\n",
       "  'classes': array([b'1'], dtype=object),\n",
       "  'logistic': array([ 0.98967779], dtype=float32),\n",
       "  'logits': array([ 4.56307745], dtype=float32),\n",
       "  'probabilities': array([ 0.01032225,  0.98967779], dtype=float32)},\n",
       " {'class_ids': array([1], dtype=int64),\n",
       "  'classes': array([b'1'], dtype=object),\n",
       "  'logistic': array([ 0.58790481], dtype=float32),\n",
       "  'logits': array([ 0.35531074], dtype=float32),\n",
       "  'probabilities': array([ 0.41209519,  0.58790481], dtype=float32)},\n",
       " {'class_ids': array([1], dtype=int64),\n",
       "  'classes': array([b'1'], dtype=object),\n",
       "  'logistic': array([ 0.97122955], dtype=float32),\n",
       "  'logits': array([ 3.51921487], dtype=float32),\n",
       "  'probabilities': array([ 0.02877043,  0.97122955], dtype=float32)},\n",
       " {'class_ids': array([0], dtype=int64),\n",
       "  'classes': array([b'0'], dtype=object),\n",
       "  'logistic': array([ 0.03452209], dtype=float32),\n",
       "  'logits': array([-3.33102393], dtype=float32),\n",
       "  'probabilities': array([ 0.96547794,  0.03452209], dtype=float32)},\n",
       " {'class_ids': array([1], dtype=int64),\n",
       "  'classes': array([b'1'], dtype=object),\n",
       "  'logistic': array([ 0.99629337], dtype=float32),\n",
       "  'logits': array([ 5.59392548], dtype=float32),\n",
       "  'probabilities': array([ 0.0037066 ,  0.99629337], dtype=float32)},\n",
       " {'class_ids': array([0], dtype=int64),\n",
       "  'classes': array([b'0'], dtype=object),\n",
       "  'logistic': array([ 0.00391627], dtype=float32),\n",
       "  'logits': array([-5.538692], dtype=float32),\n",
       "  'probabilities': array([ 0.99608374,  0.00391627], dtype=float32)},\n",
       " {'class_ids': array([0], dtype=int64),\n",
       "  'classes': array([b'0'], dtype=object),\n",
       "  'logistic': array([ 0.12731011], dtype=float32),\n",
       "  'logits': array([-1.92495441], dtype=float32),\n",
       "  'probabilities': array([ 0.8726899 ,  0.12731011], dtype=float32)},\n",
       " {'class_ids': array([0], dtype=int64),\n",
       "  'classes': array([b'0'], dtype=object),\n",
       "  'logistic': array([ 0.01582111], dtype=float32),\n",
       "  'logits': array([-4.13046265], dtype=float32),\n",
       "  'probabilities': array([ 0.98417884,  0.01582111], dtype=float32)},\n",
       " {'class_ids': array([1], dtype=int64),\n",
       "  'classes': array([b'1'], dtype=object),\n",
       "  'logistic': array([ 0.70442933], dtype=float32),\n",
       "  'logits': array([ 0.86847991], dtype=float32),\n",
       "  'probabilities': array([ 0.2955707 ,  0.70442933], dtype=float32)},\n",
       " {'class_ids': array([1], dtype=int64),\n",
       "  'classes': array([b'1'], dtype=object),\n",
       "  'logistic': array([ 0.88847804], dtype=float32),\n",
       "  'logits': array([ 2.07528853], dtype=float32),\n",
       "  'probabilities': array([ 0.11152194,  0.88847804], dtype=float32)},\n",
       " {'class_ids': array([1], dtype=int64),\n",
       "  'classes': array([b'1'], dtype=object),\n",
       "  'logistic': array([ 0.96896207], dtype=float32),\n",
       "  'logits': array([ 3.4410162], dtype=float32),\n",
       "  'probabilities': array([ 0.03103791,  0.96896207], dtype=float32)},\n",
       " {'class_ids': array([1], dtype=int64),\n",
       "  'classes': array([b'1'], dtype=object),\n",
       "  'logistic': array([ 0.85759014], dtype=float32),\n",
       "  'logits': array([ 1.79541731], dtype=float32),\n",
       "  'probabilities': array([ 0.14240982,  0.85759014], dtype=float32)},\n",
       " {'class_ids': array([0], dtype=int64),\n",
       "  'classes': array([b'0'], dtype=object),\n",
       "  'logistic': array([ 0.09944955], dtype=float32),\n",
       "  'logits': array([-2.20335579], dtype=float32),\n",
       "  'probabilities': array([ 0.90055048,  0.09944955], dtype=float32)},\n",
       " {'class_ids': array([0], dtype=int64),\n",
       "  'classes': array([b'0'], dtype=object),\n",
       "  'logistic': array([ 0.05704981], dtype=float32),\n",
       "  'logits': array([-2.80508876], dtype=float32),\n",
       "  'probabilities': array([ 0.94295013,  0.0570498 ], dtype=float32)},\n",
       " {'class_ids': array([1], dtype=int64),\n",
       "  'classes': array([b'1'], dtype=object),\n",
       "  'logistic': array([ 0.67485696], dtype=float32),\n",
       "  'logits': array([ 0.73023564], dtype=float32),\n",
       "  'probabilities': array([ 0.32514301,  0.67485696], dtype=float32)},\n",
       " {'class_ids': array([1], dtype=int64),\n",
       "  'classes': array([b'1'], dtype=object),\n",
       "  'logistic': array([ 0.7950266], dtype=float32),\n",
       "  'logits': array([ 1.35549545], dtype=float32),\n",
       "  'probabilities': array([ 0.20497338,  0.7950266 ], dtype=float32)},\n",
       " {'class_ids': array([0], dtype=int64),\n",
       "  'classes': array([b'0'], dtype=object),\n",
       "  'logistic': array([ 0.10941954], dtype=float32),\n",
       "  'logits': array([-2.09668398], dtype=float32),\n",
       "  'probabilities': array([ 0.89058048,  0.10941955], dtype=float32)},\n",
       " {'class_ids': array([1], dtype=int64),\n",
       "  'classes': array([b'1'], dtype=object),\n",
       "  'logistic': array([ 0.83740872], dtype=float32),\n",
       "  'logits': array([ 1.6390729], dtype=float32),\n",
       "  'probabilities': array([ 0.16259125,  0.83740872], dtype=float32)},\n",
       " {'class_ids': array([0], dtype=int64),\n",
       "  'classes': array([b'0'], dtype=object),\n",
       "  'logistic': array([ 0.20219797], dtype=float32),\n",
       "  'logits': array([-1.37261319], dtype=float32),\n",
       "  'probabilities': array([ 0.79780197,  0.20219797], dtype=float32)},\n",
       " {'class_ids': array([1], dtype=int64),\n",
       "  'classes': array([b'1'], dtype=object),\n",
       "  'logistic': array([ 0.60249645], dtype=float32),\n",
       "  'logits': array([ 0.41587788], dtype=float32),\n",
       "  'probabilities': array([ 0.39750355,  0.60249645], dtype=float32)},\n",
       " {'class_ids': array([0], dtype=int64),\n",
       "  'classes': array([b'0'], dtype=object),\n",
       "  'logistic': array([ 0.40344921], dtype=float32),\n",
       "  'logits': array([-0.3911137], dtype=float32),\n",
       "  'probabilities': array([ 0.59655076,  0.40344924], dtype=float32)}]"
      ]
     },
     "execution_count": 35,
     "metadata": {},
     "output_type": "execute_result"
    }
   ],
   "source": [
    "predictions"
   ]
  },
  {
   "cell_type": "code",
   "execution_count": 36,
   "metadata": {
    "collapsed": true
   },
   "outputs": [],
   "source": [
    "#create a list for predictions\n",
    "final_preds = []\n",
    "\n",
    "for pred in predictions:\n",
    "    final_preds.append(pred['class_ids'][0])"
   ]
  },
  {
   "cell_type": "code",
   "execution_count": 38,
   "metadata": {},
   "outputs": [
    {
     "data": {
      "text/plain": [
       "[0, 1, 1, 1, 0, 1, 1, 0, 0, 1]"
      ]
     },
     "execution_count": 38,
     "metadata": {},
     "output_type": "execute_result"
    }
   ],
   "source": [
    "final_preds[:10]"
   ]
  },
  {
   "cell_type": "markdown",
   "metadata": {},
   "source": [
    "    ## Evaluation"
   ]
  },
  {
   "cell_type": "code",
   "execution_count": 41,
   "metadata": {},
   "outputs": [
    {
     "name": "stdout",
     "output_type": "stream",
     "text": [
      "             precision    recall  f1-score   support\n",
      "\n",
      "          0       0.95      0.80      0.86        44\n",
      "          1       0.83      0.96      0.89        47\n",
      "\n",
      "avg / total       0.89      0.88      0.88        91\n",
      "\n",
      "log loss: 4.17509600792\n",
      "Jaccard Score: 0.879120879121\n"
     ]
    }
   ],
   "source": [
    "from sklearn.metrics import classification_report\n",
    "from sklearn.metrics import jaccard_similarity_score\n",
    "from sklearn.metrics import log_loss\n",
    "print(classification_report(y_test,final_preds))\n",
    "print('log loss:', log_loss(y_test, final_preds))\n",
    "print('Jaccard Score:', jaccard_similarity_score(y_test, final_preds))"
   ]
  }
 ],
 "metadata": {
  "kernelspec": {
   "display_name": "Python 3",
   "language": "python",
   "name": "python3"
  },
  "language_info": {
   "codemirror_mode": {
    "name": "ipython",
    "version": 3
   },
   "file_extension": ".py",
   "mimetype": "text/x-python",
   "name": "python",
   "nbconvert_exporter": "python",
   "pygments_lexer": "ipython3",
   "version": "3.6.1"
  }
 },
 "nbformat": 4,
 "nbformat_minor": 2
}
