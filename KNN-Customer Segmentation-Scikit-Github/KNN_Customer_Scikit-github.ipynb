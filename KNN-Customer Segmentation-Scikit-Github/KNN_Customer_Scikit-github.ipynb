{
 "cells": [
  {
   "cell_type": "markdown",
   "metadata": {},
   "source": [
    "### K-Nearest Neighbors - Scikit\n",
    "\n",
    "    ### Customer Data - IBM Coursera Data Science Specialization"
   ]
  },
  {
   "cell_type": "code",
   "execution_count": 1,
   "metadata": {},
   "outputs": [],
   "source": [
    "import pandas as pd"
   ]
  },
  {
   "cell_type": "code",
   "execution_count": 3,
   "metadata": {},
   "outputs": [],
   "source": [
    "df = pd.read_csv('C:\\\\Users\\\\drrak\\\\Downloads\\\\teleCust1000t.csv')"
   ]
  },
  {
   "cell_type": "code",
   "execution_count": 4,
   "metadata": {},
   "outputs": [
    {
     "data": {
      "text/plain": [
       "Index(['region', 'tenure', 'age', 'marital', 'address', 'income', 'ed',\n",
       "       'employ', 'retire', 'gender', 'reside', 'custcat'],\n",
       "      dtype='object')"
      ]
     },
     "execution_count": 4,
     "metadata": {},
     "output_type": "execute_result"
    }
   ],
   "source": [
    "df.columns"
   ]
  },
  {
   "cell_type": "code",
   "execution_count": 5,
   "metadata": {},
   "outputs": [
    {
     "data": {
      "text/html": [
       "<div>\n",
       "<style scoped>\n",
       "    .dataframe tbody tr th:only-of-type {\n",
       "        vertical-align: middle;\n",
       "    }\n",
       "\n",
       "    .dataframe tbody tr th {\n",
       "        vertical-align: top;\n",
       "    }\n",
       "\n",
       "    .dataframe thead th {\n",
       "        text-align: right;\n",
       "    }\n",
       "</style>\n",
       "<table border=\"1\" class=\"dataframe\">\n",
       "  <thead>\n",
       "    <tr style=\"text-align: right;\">\n",
       "      <th></th>\n",
       "      <th>region</th>\n",
       "      <th>tenure</th>\n",
       "      <th>age</th>\n",
       "      <th>marital</th>\n",
       "      <th>address</th>\n",
       "      <th>income</th>\n",
       "      <th>ed</th>\n",
       "      <th>employ</th>\n",
       "      <th>retire</th>\n",
       "      <th>gender</th>\n",
       "      <th>reside</th>\n",
       "      <th>custcat</th>\n",
       "    </tr>\n",
       "  </thead>\n",
       "  <tbody>\n",
       "    <tr>\n",
       "      <th>0</th>\n",
       "      <td>2</td>\n",
       "      <td>13</td>\n",
       "      <td>44</td>\n",
       "      <td>1</td>\n",
       "      <td>9</td>\n",
       "      <td>64.0</td>\n",
       "      <td>4</td>\n",
       "      <td>5</td>\n",
       "      <td>0.0</td>\n",
       "      <td>0</td>\n",
       "      <td>2</td>\n",
       "      <td>1</td>\n",
       "    </tr>\n",
       "    <tr>\n",
       "      <th>1</th>\n",
       "      <td>3</td>\n",
       "      <td>11</td>\n",
       "      <td>33</td>\n",
       "      <td>1</td>\n",
       "      <td>7</td>\n",
       "      <td>136.0</td>\n",
       "      <td>5</td>\n",
       "      <td>5</td>\n",
       "      <td>0.0</td>\n",
       "      <td>0</td>\n",
       "      <td>6</td>\n",
       "      <td>4</td>\n",
       "    </tr>\n",
       "    <tr>\n",
       "      <th>2</th>\n",
       "      <td>3</td>\n",
       "      <td>68</td>\n",
       "      <td>52</td>\n",
       "      <td>1</td>\n",
       "      <td>24</td>\n",
       "      <td>116.0</td>\n",
       "      <td>1</td>\n",
       "      <td>29</td>\n",
       "      <td>0.0</td>\n",
       "      <td>1</td>\n",
       "      <td>2</td>\n",
       "      <td>3</td>\n",
       "    </tr>\n",
       "    <tr>\n",
       "      <th>3</th>\n",
       "      <td>2</td>\n",
       "      <td>33</td>\n",
       "      <td>33</td>\n",
       "      <td>0</td>\n",
       "      <td>12</td>\n",
       "      <td>33.0</td>\n",
       "      <td>2</td>\n",
       "      <td>0</td>\n",
       "      <td>0.0</td>\n",
       "      <td>1</td>\n",
       "      <td>1</td>\n",
       "      <td>1</td>\n",
       "    </tr>\n",
       "    <tr>\n",
       "      <th>4</th>\n",
       "      <td>2</td>\n",
       "      <td>23</td>\n",
       "      <td>30</td>\n",
       "      <td>1</td>\n",
       "      <td>9</td>\n",
       "      <td>30.0</td>\n",
       "      <td>1</td>\n",
       "      <td>2</td>\n",
       "      <td>0.0</td>\n",
       "      <td>0</td>\n",
       "      <td>4</td>\n",
       "      <td>3</td>\n",
       "    </tr>\n",
       "  </tbody>\n",
       "</table>\n",
       "</div>"
      ],
      "text/plain": [
       "   region  tenure  age  marital  address  income  ed  employ  retire  gender  \\\n",
       "0       2      13   44        1        9    64.0   4       5     0.0       0   \n",
       "1       3      11   33        1        7   136.0   5       5     0.0       0   \n",
       "2       3      68   52        1       24   116.0   1      29     0.0       1   \n",
       "3       2      33   33        0       12    33.0   2       0     0.0       1   \n",
       "4       2      23   30        1        9    30.0   1       2     0.0       0   \n",
       "\n",
       "   reside  custcat  \n",
       "0       2        1  \n",
       "1       6        4  \n",
       "2       2        3  \n",
       "3       1        1  \n",
       "4       4        3  "
      ]
     },
     "execution_count": 5,
     "metadata": {},
     "output_type": "execute_result"
    }
   ],
   "source": [
    "df.head()"
   ]
  },
  {
   "cell_type": "code",
   "execution_count": 6,
   "metadata": {},
   "outputs": [
    {
     "data": {
      "text/html": [
       "<div>\n",
       "<style scoped>\n",
       "    .dataframe tbody tr th:only-of-type {\n",
       "        vertical-align: middle;\n",
       "    }\n",
       "\n",
       "    .dataframe tbody tr th {\n",
       "        vertical-align: top;\n",
       "    }\n",
       "\n",
       "    .dataframe thead th {\n",
       "        text-align: right;\n",
       "    }\n",
       "</style>\n",
       "<table border=\"1\" class=\"dataframe\">\n",
       "  <thead>\n",
       "    <tr style=\"text-align: right;\">\n",
       "      <th></th>\n",
       "      <th>region</th>\n",
       "      <th>tenure</th>\n",
       "      <th>age</th>\n",
       "      <th>marital</th>\n",
       "      <th>address</th>\n",
       "      <th>income</th>\n",
       "      <th>ed</th>\n",
       "      <th>employ</th>\n",
       "      <th>retire</th>\n",
       "      <th>gender</th>\n",
       "      <th>reside</th>\n",
       "      <th>custcat</th>\n",
       "    </tr>\n",
       "  </thead>\n",
       "  <tbody>\n",
       "    <tr>\n",
       "      <th>count</th>\n",
       "      <td>1000.0000</td>\n",
       "      <td>1000.000000</td>\n",
       "      <td>1000.000000</td>\n",
       "      <td>1000.000000</td>\n",
       "      <td>1000.000000</td>\n",
       "      <td>1000.000000</td>\n",
       "      <td>1000.000000</td>\n",
       "      <td>1000.000000</td>\n",
       "      <td>1000.000000</td>\n",
       "      <td>1000.000000</td>\n",
       "      <td>1000.000000</td>\n",
       "      <td>1000.000000</td>\n",
       "    </tr>\n",
       "    <tr>\n",
       "      <th>mean</th>\n",
       "      <td>2.0220</td>\n",
       "      <td>35.526000</td>\n",
       "      <td>41.684000</td>\n",
       "      <td>0.495000</td>\n",
       "      <td>11.551000</td>\n",
       "      <td>77.535000</td>\n",
       "      <td>2.671000</td>\n",
       "      <td>10.987000</td>\n",
       "      <td>0.047000</td>\n",
       "      <td>0.517000</td>\n",
       "      <td>2.331000</td>\n",
       "      <td>2.487000</td>\n",
       "    </tr>\n",
       "    <tr>\n",
       "      <th>std</th>\n",
       "      <td>0.8162</td>\n",
       "      <td>21.359812</td>\n",
       "      <td>12.558816</td>\n",
       "      <td>0.500225</td>\n",
       "      <td>10.086681</td>\n",
       "      <td>107.044165</td>\n",
       "      <td>1.222397</td>\n",
       "      <td>10.082087</td>\n",
       "      <td>0.211745</td>\n",
       "      <td>0.499961</td>\n",
       "      <td>1.435793</td>\n",
       "      <td>1.120306</td>\n",
       "    </tr>\n",
       "    <tr>\n",
       "      <th>min</th>\n",
       "      <td>1.0000</td>\n",
       "      <td>1.000000</td>\n",
       "      <td>18.000000</td>\n",
       "      <td>0.000000</td>\n",
       "      <td>0.000000</td>\n",
       "      <td>9.000000</td>\n",
       "      <td>1.000000</td>\n",
       "      <td>0.000000</td>\n",
       "      <td>0.000000</td>\n",
       "      <td>0.000000</td>\n",
       "      <td>1.000000</td>\n",
       "      <td>1.000000</td>\n",
       "    </tr>\n",
       "    <tr>\n",
       "      <th>25%</th>\n",
       "      <td>1.0000</td>\n",
       "      <td>17.000000</td>\n",
       "      <td>32.000000</td>\n",
       "      <td>0.000000</td>\n",
       "      <td>3.000000</td>\n",
       "      <td>29.000000</td>\n",
       "      <td>2.000000</td>\n",
       "      <td>3.000000</td>\n",
       "      <td>0.000000</td>\n",
       "      <td>0.000000</td>\n",
       "      <td>1.000000</td>\n",
       "      <td>1.000000</td>\n",
       "    </tr>\n",
       "    <tr>\n",
       "      <th>50%</th>\n",
       "      <td>2.0000</td>\n",
       "      <td>34.000000</td>\n",
       "      <td>40.000000</td>\n",
       "      <td>0.000000</td>\n",
       "      <td>9.000000</td>\n",
       "      <td>47.000000</td>\n",
       "      <td>3.000000</td>\n",
       "      <td>8.000000</td>\n",
       "      <td>0.000000</td>\n",
       "      <td>1.000000</td>\n",
       "      <td>2.000000</td>\n",
       "      <td>3.000000</td>\n",
       "    </tr>\n",
       "    <tr>\n",
       "      <th>75%</th>\n",
       "      <td>3.0000</td>\n",
       "      <td>54.000000</td>\n",
       "      <td>51.000000</td>\n",
       "      <td>1.000000</td>\n",
       "      <td>18.000000</td>\n",
       "      <td>83.000000</td>\n",
       "      <td>4.000000</td>\n",
       "      <td>17.000000</td>\n",
       "      <td>0.000000</td>\n",
       "      <td>1.000000</td>\n",
       "      <td>3.000000</td>\n",
       "      <td>3.000000</td>\n",
       "    </tr>\n",
       "    <tr>\n",
       "      <th>max</th>\n",
       "      <td>3.0000</td>\n",
       "      <td>72.000000</td>\n",
       "      <td>77.000000</td>\n",
       "      <td>1.000000</td>\n",
       "      <td>55.000000</td>\n",
       "      <td>1668.000000</td>\n",
       "      <td>5.000000</td>\n",
       "      <td>47.000000</td>\n",
       "      <td>1.000000</td>\n",
       "      <td>1.000000</td>\n",
       "      <td>8.000000</td>\n",
       "      <td>4.000000</td>\n",
       "    </tr>\n",
       "  </tbody>\n",
       "</table>\n",
       "</div>"
      ],
      "text/plain": [
       "          region       tenure          age      marital      address  \\\n",
       "count  1000.0000  1000.000000  1000.000000  1000.000000  1000.000000   \n",
       "mean      2.0220    35.526000    41.684000     0.495000    11.551000   \n",
       "std       0.8162    21.359812    12.558816     0.500225    10.086681   \n",
       "min       1.0000     1.000000    18.000000     0.000000     0.000000   \n",
       "25%       1.0000    17.000000    32.000000     0.000000     3.000000   \n",
       "50%       2.0000    34.000000    40.000000     0.000000     9.000000   \n",
       "75%       3.0000    54.000000    51.000000     1.000000    18.000000   \n",
       "max       3.0000    72.000000    77.000000     1.000000    55.000000   \n",
       "\n",
       "            income           ed       employ       retire       gender  \\\n",
       "count  1000.000000  1000.000000  1000.000000  1000.000000  1000.000000   \n",
       "mean     77.535000     2.671000    10.987000     0.047000     0.517000   \n",
       "std     107.044165     1.222397    10.082087     0.211745     0.499961   \n",
       "min       9.000000     1.000000     0.000000     0.000000     0.000000   \n",
       "25%      29.000000     2.000000     3.000000     0.000000     0.000000   \n",
       "50%      47.000000     3.000000     8.000000     0.000000     1.000000   \n",
       "75%      83.000000     4.000000    17.000000     0.000000     1.000000   \n",
       "max    1668.000000     5.000000    47.000000     1.000000     1.000000   \n",
       "\n",
       "            reside      custcat  \n",
       "count  1000.000000  1000.000000  \n",
       "mean      2.331000     2.487000  \n",
       "std       1.435793     1.120306  \n",
       "min       1.000000     1.000000  \n",
       "25%       1.000000     1.000000  \n",
       "50%       2.000000     3.000000  \n",
       "75%       3.000000     3.000000  \n",
       "max       8.000000     4.000000  "
      ]
     },
     "execution_count": 6,
     "metadata": {},
     "output_type": "execute_result"
    }
   ],
   "source": [
    "df.describe()"
   ]
  },
  {
   "cell_type": "code",
   "execution_count": 7,
   "metadata": {},
   "outputs": [
    {
     "name": "stdout",
     "output_type": "stream",
     "text": [
      "<class 'pandas.core.frame.DataFrame'>\n",
      "RangeIndex: 1000 entries, 0 to 999\n",
      "Data columns (total 12 columns):\n",
      "region     1000 non-null int64\n",
      "tenure     1000 non-null int64\n",
      "age        1000 non-null int64\n",
      "marital    1000 non-null int64\n",
      "address    1000 non-null int64\n",
      "income     1000 non-null float64\n",
      "ed         1000 non-null int64\n",
      "employ     1000 non-null int64\n",
      "retire     1000 non-null float64\n",
      "gender     1000 non-null int64\n",
      "reside     1000 non-null int64\n",
      "custcat    1000 non-null int64\n",
      "dtypes: float64(2), int64(10)\n",
      "memory usage: 93.8 KB\n"
     ]
    }
   ],
   "source": [
    "df.info()"
   ]
  },
  {
   "cell_type": "markdown",
   "metadata": {},
   "source": [
    "    ## Just a note: This data set is pretty clean - prepared to go directly into KNN implementation"
   ]
  },
  {
   "cell_type": "code",
   "execution_count": 8,
   "metadata": {},
   "outputs": [],
   "source": [
    "# feature\n",
    "X = df[['region', 'tenure', 'age', 'marital', 'address', 'income', 'ed',\n",
    "       'employ', 'retire', 'gender', 'reside']].values"
   ]
  },
  {
   "cell_type": "code",
   "execution_count": 9,
   "metadata": {},
   "outputs": [],
   "source": [
    "# label \n",
    "y = df['custcat'].values"
   ]
  },
  {
   "cell_type": "code",
   "execution_count": 10,
   "metadata": {},
   "outputs": [
    {
     "data": {
      "text/plain": [
       "array([[ 2., 13., 44., ...,  0.,  0.,  2.],\n",
       "       [ 3., 11., 33., ...,  0.,  0.,  6.],\n",
       "       [ 3., 68., 52., ...,  0.,  1.,  2.],\n",
       "       ...,\n",
       "       [ 3., 67., 59., ...,  0.,  1.,  1.],\n",
       "       [ 3., 70., 49., ...,  0.,  1.,  1.],\n",
       "       [ 3., 50., 36., ...,  0.,  1.,  3.]])"
      ]
     },
     "execution_count": 10,
     "metadata": {},
     "output_type": "execute_result"
    }
   ],
   "source": [
    "X"
   ]
  },
  {
   "cell_type": "code",
   "execution_count": 11,
   "metadata": {},
   "outputs": [
    {
     "data": {
      "text/plain": [
       "array([1, 4, 3, 1, 3, 3, 2, 4, 3, 2, 1, 3, 1, 4, 1, 2, 3, 3, 1, 4, 2, 1,\n",
       "       4, 1, 3, 3, 4, 3, 1, 2, 2, 4, 3, 2, 4, 2, 4, 3, 3, 3, 3, 3, 1, 4,\n",
       "       3, 2, 2, 4, 1, 3, 1, 2, 4, 1, 1, 1, 2, 1, 3, 2, 3, 4, 1, 4, 4, 1,\n",
       "       3, 3, 1, 1, 1, 2, 1, 2, 3, 1, 3, 1, 3, 4, 4, 1, 4, 3, 2, 1, 2, 4,\n",
       "       4, 3, 2, 1, 2, 4, 1, 4, 3, 2, 3, 2, 4, 3, 3, 2, 2, 2, 1, 4, 1, 2,\n",
       "       2, 2, 1, 2, 3, 1, 3, 3, 3, 1, 1, 1, 1, 2, 1, 2, 4, 2, 2, 4, 3, 1,\n",
       "       4, 2, 3, 1, 1, 3, 3, 4, 4, 3, 4, 2, 3, 1, 4, 2, 2, 2, 1, 3, 4, 4,\n",
       "       4, 3, 1, 1, 2, 3, 3, 3, 1, 3, 2, 2, 4, 1, 1, 2, 4, 1, 4, 1, 2, 1,\n",
       "       3, 4, 4, 1, 4, 1, 2, 2, 2, 1, 1, 2, 3, 3, 1, 4, 2, 3, 4, 1, 1, 3,\n",
       "       1, 4, 1, 4, 2, 2, 4, 1, 3, 4, 3, 3, 1, 1, 1, 2, 2, 1, 3, 4, 4, 1,\n",
       "       3, 4, 1, 3, 1, 4, 4, 1, 3, 3, 3, 3, 2, 1, 4, 2, 4, 4, 1, 4, 1, 4,\n",
       "       3, 2, 1, 3, 2, 1, 1, 2, 1, 4, 2, 2, 4, 3, 2, 1, 4, 4, 4, 1, 3, 2,\n",
       "       1, 1, 3, 3, 3, 1, 3, 2, 4, 1, 3, 2, 2, 3, 3, 1, 4, 4, 3, 2, 3, 3,\n",
       "       4, 3, 3, 2, 4, 3, 2, 3, 4, 4, 3, 1, 4, 2, 3, 3, 2, 2, 1, 4, 2, 3,\n",
       "       4, 1, 1, 2, 2, 4, 4, 1, 3, 1, 4, 1, 4, 3, 2, 4, 1, 3, 1, 3, 4, 1,\n",
       "       1, 1, 1, 4, 2, 1, 3, 1, 1, 3, 1, 4, 1, 4, 3, 1, 2, 3, 4, 4, 4, 3,\n",
       "       1, 3, 2, 3, 2, 2, 3, 3, 3, 3, 4, 2, 3, 1, 4, 3, 1, 4, 4, 3, 2, 4,\n",
       "       1, 1, 2, 2, 4, 1, 1, 2, 3, 2, 2, 3, 1, 4, 3, 2, 1, 4, 4, 4, 3, 4,\n",
       "       3, 2, 3, 3, 2, 3, 2, 3, 1, 3, 4, 2, 1, 2, 4, 1, 2, 2, 3, 2, 1, 3,\n",
       "       2, 1, 2, 1, 3, 4, 2, 2, 4, 1, 3, 2, 1, 2, 1, 2, 4, 4, 1, 4, 3, 4,\n",
       "       4, 3, 4, 1, 3, 2, 3, 1, 4, 3, 3, 1, 1, 2, 4, 1, 4, 2, 3, 4, 1, 4,\n",
       "       3, 2, 3, 4, 3, 1, 2, 1, 2, 3, 2, 1, 4, 2, 4, 3, 2, 1, 1, 1, 2, 1,\n",
       "       3, 1, 1, 3, 2, 3, 1, 1, 1, 1, 3, 4, 2, 4, 3, 3, 2, 2, 2, 3, 1, 1,\n",
       "       2, 4, 2, 2, 4, 4, 2, 2, 4, 4, 1, 4, 4, 3, 4, 2, 3, 1, 2, 2, 3, 1,\n",
       "       4, 1, 1, 1, 3, 2, 3, 3, 4, 3, 4, 4, 3, 3, 4, 1, 3, 4, 1, 3, 1, 1,\n",
       "       2, 4, 2, 3, 1, 1, 3, 3, 2, 4, 2, 4, 1, 1, 3, 2, 1, 2, 1, 3, 2, 4,\n",
       "       3, 4, 1, 1, 4, 1, 4, 3, 2, 3, 3, 1, 1, 3, 1, 1, 1, 1, 3, 4, 3, 1,\n",
       "       3, 4, 3, 3, 4, 1, 1, 2, 1, 3, 2, 2, 3, 1, 4, 1, 3, 2, 3, 3, 3, 1,\n",
       "       1, 3, 2, 4, 3, 1, 2, 2, 4, 1, 4, 3, 1, 1, 3, 1, 3, 4, 1, 4, 2, 1,\n",
       "       3, 3, 4, 3, 3, 1, 1, 2, 4, 4, 3, 1, 3, 1, 3, 1, 1, 3, 3, 4, 2, 1,\n",
       "       3, 2, 1, 4, 4, 1, 4, 2, 2, 4, 2, 2, 3, 1, 2, 3, 4, 3, 4, 2, 2, 3,\n",
       "       3, 1, 3, 3, 2, 1, 4, 2, 2, 3, 2, 1, 4, 2, 4, 3, 4, 2, 2, 2, 3, 3,\n",
       "       1, 2, 2, 2, 3, 4, 4, 1, 4, 4, 4, 1, 4, 3, 3, 4, 1, 1, 1, 4, 2, 3,\n",
       "       2, 3, 1, 1, 1, 1, 4, 1, 2, 2, 1, 1, 4, 3, 2, 4, 3, 3, 1, 4, 2, 2,\n",
       "       2, 1, 4, 4, 2, 3, 2, 1, 3, 2, 1, 2, 4, 4, 3, 1, 2, 4, 4, 3, 2, 1,\n",
       "       2, 3, 4, 3, 3, 2, 1, 4, 4, 4, 1, 1, 3, 4, 1, 1, 1, 3, 2, 2, 2, 1,\n",
       "       2, 3, 1, 3, 2, 4, 4, 4, 3, 4, 3, 3, 3, 3, 3, 4, 3, 2, 4, 1, 2, 3,\n",
       "       3, 3, 3, 3, 4, 3, 1, 3, 4, 4, 1, 4, 1, 3, 2, 2, 3, 2, 1, 1, 3, 1,\n",
       "       2, 3, 3, 4, 1, 3, 1, 2, 1, 1, 1, 4, 4, 4, 2, 3, 2, 2, 3, 3, 1, 3,\n",
       "       4, 1, 2, 3, 4, 4, 2, 4, 1, 4, 3, 2, 4, 3, 3, 2, 1, 3, 3, 3, 4, 2,\n",
       "       4, 4, 3, 2, 3, 3, 4, 4, 2, 4, 4, 2, 3, 4, 2, 1, 2, 2, 4, 4, 4, 4,\n",
       "       1, 1, 1, 1, 1, 2, 3, 1, 3, 4, 2, 1, 3, 3, 2, 3, 3, 4, 1, 4, 2, 3,\n",
       "       3, 3, 4, 1, 3, 3, 4, 4, 4, 3, 4, 1, 1, 3, 1, 3, 1, 2, 4, 3, 3, 4,\n",
       "       3, 2, 4, 2, 1, 4, 3, 4, 4, 1, 1, 3, 3, 3, 1, 1, 2, 1, 4, 4, 4, 3,\n",
       "       1, 3, 1, 1, 3, 3, 3, 2, 3, 1, 1, 3, 2, 1, 3, 1, 3, 4, 4, 4, 2, 3,\n",
       "       3, 2, 3, 4, 4, 1, 1, 4, 3, 2], dtype=int64)"
      ]
     },
     "execution_count": 11,
     "metadata": {},
     "output_type": "execute_result"
    }
   ],
   "source": [
    "y"
   ]
  },
  {
   "cell_type": "markdown",
   "metadata": {},
   "source": [
    "    ## Splitting data set into train and test"
   ]
  },
  {
   "cell_type": "code",
   "execution_count": 12,
   "metadata": {},
   "outputs": [],
   "source": [
    "from sklearn.model_selection import train_test_split"
   ]
  },
  {
   "cell_type": "code",
   "execution_count": 13,
   "metadata": {},
   "outputs": [],
   "source": [
    "X_train, X_test, y_train, y_test = train_test_split(X, y, test_size=0.3, random_state=101)"
   ]
  },
  {
   "cell_type": "markdown",
   "metadata": {},
   "source": [
    "    ## Preprocessing data/feature scaling"
   ]
  },
  {
   "cell_type": "code",
   "execution_count": 14,
   "metadata": {},
   "outputs": [],
   "source": [
    "from sklearn.preprocessing import MinMaxScaler"
   ]
  },
  {
   "cell_type": "code",
   "execution_count": 15,
   "metadata": {},
   "outputs": [],
   "source": [
    "scaler = MinMaxScaler()"
   ]
  },
  {
   "cell_type": "code",
   "execution_count": 16,
   "metadata": {},
   "outputs": [],
   "source": [
    "X_train = scaler.fit_transform(X_train)"
   ]
  },
  {
   "cell_type": "code",
   "execution_count": 17,
   "metadata": {},
   "outputs": [],
   "source": [
    "X_test = scaler.transform(X_test)"
   ]
  },
  {
   "cell_type": "code",
   "execution_count": 18,
   "metadata": {},
   "outputs": [
    {
     "name": "stdout",
     "output_type": "stream",
     "text": [
      "(700, 11)\n",
      "(300, 11)\n",
      "(700,)\n",
      "(300,)\n"
     ]
    }
   ],
   "source": [
    "print(X_train.shape)\n",
    "print(X_test.shape)\n",
    "print(y_train.shape)\n",
    "print(y_test.shape)"
   ]
  },
  {
   "cell_type": "markdown",
   "metadata": {},
   "source": [
    "    ### Import KNN Classifier"
   ]
  },
  {
   "cell_type": "code",
   "execution_count": 19,
   "metadata": {},
   "outputs": [],
   "source": [
    "from sklearn.neighbors import KNeighborsClassifier"
   ]
  },
  {
   "cell_type": "code",
   "execution_count": 35,
   "metadata": {},
   "outputs": [
    {
     "data": {
      "text/plain": [
       "KNeighborsClassifier(algorithm='auto', leaf_size=30, metric='minkowski',\n",
       "           metric_params=None, n_jobs=1, n_neighbors=4, p=2,\n",
       "           weights='uniform')"
      ]
     },
     "execution_count": 35,
     "metadata": {},
     "output_type": "execute_result"
    }
   ],
   "source": [
    "# starting with 4 clusters\n",
    "k = 4\n",
    "\n",
    "#Train Model\n",
    "neighbor_4 = KNeighborsClassifier(n_neighbors = k).fit(X_train,y_train)\n",
    "neighbor_4"
   ]
  },
  {
   "cell_type": "code",
   "execution_count": 37,
   "metadata": {},
   "outputs": [
    {
     "data": {
      "text/plain": [
       "array([4, 4, 1, 3, 4, 3, 4, 3, 1, 2], dtype=int64)"
      ]
     },
     "execution_count": 37,
     "metadata": {},
     "output_type": "execute_result"
    }
   ],
   "source": [
    "# Predict\n",
    "yhat_4 = neighbor_4.predict(X_test)\n",
    "yhat_4[0:10]"
   ]
  },
  {
   "cell_type": "code",
   "execution_count": 38,
   "metadata": {},
   "outputs": [
    {
     "name": "stdout",
     "output_type": "stream",
     "text": [
      "Train set Accuracy:  0.5657142857142857\n",
      "Test set Accuracy:  0.33666666666666667\n"
     ]
    }
   ],
   "source": [
    "# Testing accuracy of the model\n",
    "from sklearn import metrics\n",
    "\n",
    "print(\"Train set Accuracy: \", metrics.accuracy_score(y_train, neighbor_4.predict(X_train)))\n",
    "print(\"Test set Accuracy: \", metrics.accuracy_score(y_test, yhat_4))"
   ]
  },
  {
   "cell_type": "markdown",
   "metadata": {},
   "source": [
    "    ## Let's try 6 clusters"
   ]
  },
  {
   "cell_type": "code",
   "execution_count": 39,
   "metadata": {},
   "outputs": [
    {
     "data": {
      "text/plain": [
       "KNeighborsClassifier(algorithm='auto', leaf_size=30, metric='minkowski',\n",
       "           metric_params=None, n_jobs=1, n_neighbors=6, p=2,\n",
       "           weights='uniform')"
      ]
     },
     "execution_count": 39,
     "metadata": {},
     "output_type": "execute_result"
    }
   ],
   "source": [
    "# starting with 6 clusters\n",
    "k = 6\n",
    "\n",
    "#Train Model\n",
    "neighbor_6 = KNeighborsClassifier(n_neighbors = k).fit(X_train,y_train)\n",
    "neighbor_6"
   ]
  },
  {
   "cell_type": "code",
   "execution_count": 40,
   "metadata": {},
   "outputs": [
    {
     "data": {
      "text/plain": [
       "array([4, 4, 1, 3, 4, 3, 4, 3, 1, 2], dtype=int64)"
      ]
     },
     "execution_count": 40,
     "metadata": {},
     "output_type": "execute_result"
    }
   ],
   "source": [
    "#Predict\n",
    "yhat_6 = neighbor.predict(X_test)\n",
    "yhat_6[0:10]"
   ]
  },
  {
   "cell_type": "code",
   "execution_count": 41,
   "metadata": {},
   "outputs": [
    {
     "name": "stdout",
     "output_type": "stream",
     "text": [
      "Train set Accuracy:  0.5328571428571428\n",
      "Test set Accuracy:  0.33666666666666667\n"
     ]
    }
   ],
   "source": [
    "# Accuracy with k = 6\n",
    "print(\"Train set Accuracy: \", metrics.accuracy_score(y_train, neighbor_6.predict(X_train)))\n",
    "print(\"Test set Accuracy: \", metrics.accuracy_score(y_test, yhat_6))"
   ]
  },
  {
   "cell_type": "code",
   "execution_count": 42,
   "metadata": {},
   "outputs": [
    {
     "data": {
      "text/plain": [
       "KNeighborsClassifier(algorithm='auto', leaf_size=30, metric='minkowski',\n",
       "           metric_params=None, n_jobs=1, n_neighbors=8, p=2,\n",
       "           weights='uniform')"
      ]
     },
     "execution_count": 42,
     "metadata": {},
     "output_type": "execute_result"
    }
   ],
   "source": [
    "# Let's try 8 clusters\n",
    "k = 8\n",
    "\n",
    "#Train Model \n",
    "neighbor_8 = KNeighborsClassifier(n_neighbors = k).fit(X_train,y_train)\n",
    "neighbor_8"
   ]
  },
  {
   "cell_type": "code",
   "execution_count": 43,
   "metadata": {},
   "outputs": [
    {
     "data": {
      "text/plain": [
       "array([4, 4, 2, 3, 1, 3, 1, 3, 1, 2], dtype=int64)"
      ]
     },
     "execution_count": 43,
     "metadata": {},
     "output_type": "execute_result"
    }
   ],
   "source": [
    "# Predict\n",
    "yhat_8 = neighbor_8.predict(X_test)\n",
    "yhat_8[0:10]"
   ]
  },
  {
   "cell_type": "code",
   "execution_count": 44,
   "metadata": {},
   "outputs": [
    {
     "name": "stdout",
     "output_type": "stream",
     "text": [
      "Train set Accuracy:  0.4942857142857143\n",
      "Test set Accuracy:  0.36\n"
     ]
    }
   ],
   "source": [
    "# Accuracy when k = 8\n",
    "print(\"Train set Accuracy: \", metrics.accuracy_score(y_train, neighbor_8.predict(X_train)))\n",
    "print(\"Test set Accuracy: \", metrics.accuracy_score(y_test, yhat_8))"
   ]
  },
  {
   "cell_type": "markdown",
   "metadata": {},
   "source": [
    "    ## Looks like accuracy in training set is going down compared to k =6"
   ]
  },
  {
   "cell_type": "markdown",
   "metadata": {},
   "source": [
    "    ## Let's Create a visualization that covers for a range of K values"
   ]
  },
  {
   "cell_type": "code",
   "execution_count": 45,
   "metadata": {},
   "outputs": [],
   "source": [
    "import matplotlib.pyplot as plt\n",
    "%matplotlib inline\n",
    "\n",
    "import numpy as np"
   ]
  },
  {
   "cell_type": "code",
   "execution_count": 46,
   "metadata": {},
   "outputs": [
    {
     "data": {
      "text/plain": [
       "array([0.28666667, 0.30333333, 0.32666667, 0.33666667, 0.37666667,\n",
       "       0.37      , 0.36333333, 0.36      , 0.35666667])"
      ]
     },
     "execution_count": 46,
     "metadata": {},
     "output_type": "execute_result"
    }
   ],
   "source": [
    "Ks = 10\n",
    "mean_acc = np.zeros((Ks-1))\n",
    "std_acc = np.zeros((Ks-1))\n",
    "ConfustionMx = [];\n",
    "for n in range(1,Ks):\n",
    "    \n",
    "    #Train Model and Predict  \n",
    "    neighbor = KNeighborsClassifier(n_neighbors = n).fit(X_train,y_train)\n",
    "    yhat=neighbor.predict(X_test)\n",
    "    mean_acc[n-1] = metrics.accuracy_score(y_test, yhat)\n",
    "\n",
    "    \n",
    "    std_acc[n-1]=np.std(yhat==y_test)/np.sqrt(yhat.shape[0])\n",
    "\n",
    "mean_acc"
   ]
  },
  {
   "cell_type": "code",
   "execution_count": 48,
   "metadata": {},
   "outputs": [
    {
     "data": {
      "image/png": "[encoded data removed]",
      "text/plain": [
       "<Figure size 432x288 with 1 Axes>"
      ]
     },
     "metadata": {
      "needs_background": "light"
     },
     "output_type": "display_data"
    }
   ],
   "source": [
    "#Plot No. of K's to Accuracy\n",
    "plt.plot(range(1,Ks),mean_acc,'g')\n",
    "plt.fill_between(range(1,Ks),mean_acc - 1 * std_acc,mean_acc + 1 * std_acc, alpha=0.10)\n",
    "\n",
    "\n",
    "plt.legend(('Accuracy ', '+/- 3xstd'))\n",
    "plt.ylabel('Accuracy ')\n",
    "plt.xlabel('Number of Neighbors (K)')\n",
    "plt.tight_layout()\n",
    "plt.show()"
   ]
  },
  {
   "cell_type": "markdown",
   "metadata": {},
   "source": [
    "    ## K = 5 is possibly the best number of clusters for this data set"
   ]
  }
 ],
 "metadata": {
  "kernelspec": {
   "display_name": "Python 3",
   "language": "python",
   "name": "python3"
  },
  "language_info": {
   "codemirror_mode": {
    "name": "ipython",
    "version": 3
   },
   "file_extension": ".py",
   "mimetype": "text/x-python",
   "name": "python",
   "nbconvert_exporter": "python",
   "pygments_lexer": "ipython3",
   "version": "3.7.0"
  }
 },
 "nbformat": 4,
 "nbformat_minor": 2
}
