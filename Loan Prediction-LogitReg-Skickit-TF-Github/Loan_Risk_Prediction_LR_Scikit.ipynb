{
 "cells": [
  {
   "cell_type": "markdown",
   "metadata": {},
   "source": [
    "## Predicting Loan Risk - German Credit Data \n",
    "### Logistic Regression - Scikit \n",
    "\n",
    "\n",
    "    ### Data Source: Kaggle, UCI"
   ]
  },
  {
   "cell_type": "code",
   "execution_count": 1,
   "metadata": {
    "collapsed": true
   },
   "outputs": [],
   "source": [
    "import pandas as pd"
   ]
  },
  {
   "cell_type": "code",
   "execution_count": 2,
   "metadata": {
    "collapsed": true
   },
   "outputs": [],
   "source": [
    "credit = pd.read_csv('C:\\\\Users\\\\rhasan\\\\Downloads\\\\creditdata.csv')"
   ]
  },
  {
   "cell_type": "code",
   "execution_count": 3,
   "metadata": {},
   "outputs": [
    {
     "data": {
      "text/html": [
       "<div>\n",
       "<style scoped>\n",
       "    .dataframe tbody tr th:only-of-type {\n",
       "        vertical-align: middle;\n",
       "    }\n",
       "\n",
       "    .dataframe tbody tr th {\n",
       "        vertical-align: top;\n",
       "    }\n",
       "\n",
       "    .dataframe thead th {\n",
       "        text-align: right;\n",
       "    }\n",
       "</style>\n",
       "<table border=\"1\" class=\"dataframe\">\n",
       "  <thead>\n",
       "    <tr style=\"text-align: right;\">\n",
       "      <th></th>\n",
       "      <th>Unnamed: 0</th>\n",
       "      <th>Age</th>\n",
       "      <th>Sex</th>\n",
       "      <th>Job</th>\n",
       "      <th>Housing</th>\n",
       "      <th>Saving accounts</th>\n",
       "      <th>Checking account</th>\n",
       "      <th>Credit amount</th>\n",
       "      <th>Duration</th>\n",
       "      <th>Purpose</th>\n",
       "      <th>Risk</th>\n",
       "    </tr>\n",
       "  </thead>\n",
       "  <tbody>\n",
       "    <tr>\n",
       "      <th>0</th>\n",
       "      <td>0</td>\n",
       "      <td>67</td>\n",
       "      <td>male</td>\n",
       "      <td>2</td>\n",
       "      <td>own</td>\n",
       "      <td>NaN</td>\n",
       "      <td>little</td>\n",
       "      <td>1169</td>\n",
       "      <td>6</td>\n",
       "      <td>radio/TV</td>\n",
       "      <td>good</td>\n",
       "    </tr>\n",
       "    <tr>\n",
       "      <th>1</th>\n",
       "      <td>1</td>\n",
       "      <td>22</td>\n",
       "      <td>female</td>\n",
       "      <td>2</td>\n",
       "      <td>own</td>\n",
       "      <td>little</td>\n",
       "      <td>moderate</td>\n",
       "      <td>5951</td>\n",
       "      <td>48</td>\n",
       "      <td>radio/TV</td>\n",
       "      <td>bad</td>\n",
       "    </tr>\n",
       "    <tr>\n",
       "      <th>2</th>\n",
       "      <td>2</td>\n",
       "      <td>49</td>\n",
       "      <td>male</td>\n",
       "      <td>1</td>\n",
       "      <td>own</td>\n",
       "      <td>little</td>\n",
       "      <td>NaN</td>\n",
       "      <td>2096</td>\n",
       "      <td>12</td>\n",
       "      <td>education</td>\n",
       "      <td>good</td>\n",
       "    </tr>\n",
       "    <tr>\n",
       "      <th>3</th>\n",
       "      <td>3</td>\n",
       "      <td>45</td>\n",
       "      <td>male</td>\n",
       "      <td>2</td>\n",
       "      <td>free</td>\n",
       "      <td>little</td>\n",
       "      <td>little</td>\n",
       "      <td>7882</td>\n",
       "      <td>42</td>\n",
       "      <td>furniture/equipment</td>\n",
       "      <td>good</td>\n",
       "    </tr>\n",
       "    <tr>\n",
       "      <th>4</th>\n",
       "      <td>4</td>\n",
       "      <td>53</td>\n",
       "      <td>male</td>\n",
       "      <td>2</td>\n",
       "      <td>free</td>\n",
       "      <td>little</td>\n",
       "      <td>little</td>\n",
       "      <td>4870</td>\n",
       "      <td>24</td>\n",
       "      <td>car</td>\n",
       "      <td>bad</td>\n",
       "    </tr>\n",
       "  </tbody>\n",
       "</table>\n",
       "</div>"
      ],
      "text/plain": [
       "   Unnamed: 0  Age     Sex  Job Housing Saving accounts Checking account  \\\n",
       "0           0   67    male    2     own             NaN           little   \n",
       "1           1   22  female    2     own          little         moderate   \n",
       "2           2   49    male    1     own          little              NaN   \n",
       "3           3   45    male    2    free          little           little   \n",
       "4           4   53    male    2    free          little           little   \n",
       "\n",
       "   Credit amount  Duration              Purpose  Risk  \n",
       "0           1169         6             radio/TV  good  \n",
       "1           5951        48             radio/TV   bad  \n",
       "2           2096        12            education  good  \n",
       "3           7882        42  furniture/equipment  good  \n",
       "4           4870        24                  car   bad  "
      ]
     },
     "execution_count": 3,
     "metadata": {},
     "output_type": "execute_result"
    }
   ],
   "source": [
    "credit.head()"
   ]
  },
  {
   "cell_type": "code",
   "execution_count": 4,
   "metadata": {},
   "outputs": [
    {
     "name": "stdout",
     "output_type": "stream",
     "text": [
      "<class 'pandas.core.frame.DataFrame'>\n",
      "RangeIndex: 1000 entries, 0 to 999\n",
      "Data columns (total 11 columns):\n",
      "Unnamed: 0          1000 non-null int64\n",
      "Age                 1000 non-null int64\n",
      "Sex                 1000 non-null object\n",
      "Job                 1000 non-null int64\n",
      "Housing             1000 non-null object\n",
      "Saving accounts     817 non-null object\n",
      "Checking account    606 non-null object\n",
      "Credit amount       1000 non-null int64\n",
      "Duration            1000 non-null int64\n",
      "Purpose             1000 non-null object\n",
      "Risk                1000 non-null object\n",
      "dtypes: int64(5), object(6)\n",
      "memory usage: 86.0+ KB\n"
     ]
    }
   ],
   "source": [
    "credit.info()"
   ]
  },
  {
   "cell_type": "code",
   "execution_count": 5,
   "metadata": {},
   "outputs": [
    {
     "data": {
      "text/plain": [
       "Index(['Unnamed: 0', 'Age', 'Sex', 'Job', 'Housing', 'Saving accounts',\n",
       "       'Checking account', 'Credit amount', 'Duration', 'Purpose', 'Risk'],\n",
       "      dtype='object')"
      ]
     },
     "execution_count": 5,
     "metadata": {},
     "output_type": "execute_result"
    }
   ],
   "source": [
    "credit.columns"
   ]
  },
  {
   "cell_type": "code",
   "execution_count": 6,
   "metadata": {},
   "outputs": [
    {
     "data": {
      "text/plain": [
       "little      274\n",
       "moderate    269\n",
       "rich         63\n",
       "Name: Checking account, dtype: int64"
      ]
     },
     "execution_count": 6,
     "metadata": {},
     "output_type": "execute_result"
    }
   ],
   "source": [
    "credit['Checking account'].value_counts()"
   ]
  },
  {
   "cell_type": "code",
   "execution_count": 7,
   "metadata": {},
   "outputs": [
    {
     "data": {
      "text/plain": [
       "little        603\n",
       "moderate      103\n",
       "quite rich     63\n",
       "rich           48\n",
       "Name: Saving accounts, dtype: int64"
      ]
     },
     "execution_count": 7,
     "metadata": {},
     "output_type": "execute_result"
    }
   ],
   "source": [
    "credit['Saving accounts'].value_counts()"
   ]
  },
  {
   "cell_type": "code",
   "execution_count": 8,
   "metadata": {},
   "outputs": [
    {
     "data": {
      "text/plain": [
       "male      690\n",
       "female    310\n",
       "Name: Sex, dtype: int64"
      ]
     },
     "execution_count": 8,
     "metadata": {},
     "output_type": "execute_result"
    }
   ],
   "source": [
    "credit['Sex'].value_counts()"
   ]
  },
  {
   "cell_type": "code",
   "execution_count": 9,
   "metadata": {
    "collapsed": true
   },
   "outputs": [],
   "source": [
    "def label_fix1(label):\n",
    "    if label=='male':\n",
    "        return 0\n",
    "    else:\n",
    "        return 1"
   ]
  },
  {
   "cell_type": "code",
   "execution_count": 10,
   "metadata": {
    "collapsed": true
   },
   "outputs": [],
   "source": [
    "credit['Sex'] = credit['Sex'].apply(label_fix1)"
   ]
  },
  {
   "cell_type": "code",
   "execution_count": 11,
   "metadata": {},
   "outputs": [
    {
     "data": {
      "text/plain": [
       "0    690\n",
       "1    310\n",
       "Name: Sex, dtype: int64"
      ]
     },
     "execution_count": 11,
     "metadata": {},
     "output_type": "execute_result"
    }
   ],
   "source": [
    "credit['Sex'].value_counts()"
   ]
  },
  {
   "cell_type": "code",
   "execution_count": 12,
   "metadata": {
    "collapsed": true
   },
   "outputs": [],
   "source": [
    "def label_fix2(label):\n",
    "    if label=='little':\n",
    "        return 0\n",
    "    if label=='moderate':\n",
    "        return 1\n",
    "    if label=='quite rich':\n",
    "        return 2\n",
    "    if label=='rich':\n",
    "        return 3"
   ]
  },
  {
   "cell_type": "code",
   "execution_count": 13,
   "metadata": {
    "collapsed": true
   },
   "outputs": [],
   "source": [
    "credit['Saving accounts'] = credit['Saving accounts'].apply(label_fix2)"
   ]
  },
  {
   "cell_type": "code",
   "execution_count": 14,
   "metadata": {},
   "outputs": [
    {
     "data": {
      "text/plain": [
       "0.0    603\n",
       "1.0    103\n",
       "2.0     63\n",
       "3.0     48\n",
       "Name: Saving accounts, dtype: int64"
      ]
     },
     "execution_count": 14,
     "metadata": {},
     "output_type": "execute_result"
    }
   ],
   "source": [
    "credit['Saving accounts'].value_counts()"
   ]
  },
  {
   "cell_type": "code",
   "execution_count": 15,
   "metadata": {},
   "outputs": [
    {
     "data": {
      "text/plain": [
       "little      274\n",
       "moderate    269\n",
       "rich         63\n",
       "Name: Checking account, dtype: int64"
      ]
     },
     "execution_count": 15,
     "metadata": {},
     "output_type": "execute_result"
    }
   ],
   "source": [
    "credit['Checking account'].value_counts()"
   ]
  },
  {
   "cell_type": "code",
   "execution_count": 16,
   "metadata": {
    "collapsed": true
   },
   "outputs": [],
   "source": [
    "credit['Checking account'] = credit['Checking account'].apply(label_fix2)"
   ]
  },
  {
   "cell_type": "code",
   "execution_count": 17,
   "metadata": {},
   "outputs": [
    {
     "data": {
      "text/plain": [
       "0.0    274\n",
       "1.0    269\n",
       "3.0     63\n",
       "Name: Checking account, dtype: int64"
      ]
     },
     "execution_count": 17,
     "metadata": {},
     "output_type": "execute_result"
    }
   ],
   "source": [
    "credit['Checking account'].value_counts()"
   ]
  },
  {
   "cell_type": "code",
   "execution_count": 21,
   "metadata": {},
   "outputs": [
    {
     "data": {
      "text/plain": [
       "own     713\n",
       "rent    179\n",
       "free    108\n",
       "Name: Housing, dtype: int64"
      ]
     },
     "execution_count": 21,
     "metadata": {},
     "output_type": "execute_result"
    }
   ],
   "source": [
    "credit['Housing'].value_counts()"
   ]
  },
  {
   "cell_type": "code",
   "execution_count": 22,
   "metadata": {
    "collapsed": true
   },
   "outputs": [],
   "source": [
    "def label_fix3(label):\n",
    "    if label=='own':\n",
    "        return 0\n",
    "    if label=='rent':\n",
    "        return 1\n",
    "    if label=='free':\n",
    "        return 2"
   ]
  },
  {
   "cell_type": "code",
   "execution_count": 23,
   "metadata": {
    "collapsed": true
   },
   "outputs": [],
   "source": [
    "credit['Housing'] = credit['Housing'].apply(label_fix3)"
   ]
  },
  {
   "cell_type": "code",
   "execution_count": 24,
   "metadata": {},
   "outputs": [
    {
     "data": {
      "text/plain": [
       "0    713\n",
       "1    179\n",
       "2    108\n",
       "Name: Housing, dtype: int64"
      ]
     },
     "execution_count": 24,
     "metadata": {},
     "output_type": "execute_result"
    }
   ],
   "source": [
    "credit['Housing'].value_counts()"
   ]
  },
  {
   "cell_type": "code",
   "execution_count": 25,
   "metadata": {},
   "outputs": [
    {
     "data": {
      "text/plain": [
       "car                    337\n",
       "radio/TV               280\n",
       "furniture/equipment    181\n",
       "business                97\n",
       "education               59\n",
       "repairs                 22\n",
       "domestic appliances     12\n",
       "vacation/others         12\n",
       "Name: Purpose, dtype: int64"
      ]
     },
     "execution_count": 25,
     "metadata": {},
     "output_type": "execute_result"
    }
   ],
   "source": [
    "credit['Purpose'].value_counts()"
   ]
  },
  {
   "cell_type": "code",
   "execution_count": 26,
   "metadata": {
    "collapsed": true
   },
   "outputs": [],
   "source": [
    "def label_fix4(label):\n",
    "    if label=='car':\n",
    "        return 0\n",
    "    if label=='radio/TV':\n",
    "        return 1\n",
    "    if label=='furniture/equipment':\n",
    "        return 2\n",
    "    if label=='business':\n",
    "        return 3\n",
    "    if label=='education':\n",
    "        return 4\n",
    "    if label=='repairs':\n",
    "        return 5\n",
    "    if label=='vacation/others':\n",
    "        return 6\n",
    "    if label=='domestic appliances':\n",
    "        return 7\n",
    "    "
   ]
  },
  {
   "cell_type": "code",
   "execution_count": 27,
   "metadata": {
    "collapsed": true
   },
   "outputs": [],
   "source": [
    "credit['Purpose'] = credit['Purpose'].apply(label_fix4)"
   ]
  },
  {
   "cell_type": "code",
   "execution_count": 28,
   "metadata": {},
   "outputs": [
    {
     "data": {
      "text/plain": [
       "0    337\n",
       "1    280\n",
       "2    181\n",
       "3     97\n",
       "4     59\n",
       "5     22\n",
       "7     12\n",
       "6     12\n",
       "Name: Purpose, dtype: int64"
      ]
     },
     "execution_count": 28,
     "metadata": {},
     "output_type": "execute_result"
    }
   ],
   "source": [
    "credit['Purpose'].value_counts()"
   ]
  },
  {
   "cell_type": "code",
   "execution_count": 29,
   "metadata": {},
   "outputs": [
    {
     "data": {
      "text/html": [
       "<div>\n",
       "<style scoped>\n",
       "    .dataframe tbody tr th:only-of-type {\n",
       "        vertical-align: middle;\n",
       "    }\n",
       "\n",
       "    .dataframe tbody tr th {\n",
       "        vertical-align: top;\n",
       "    }\n",
       "\n",
       "    .dataframe thead th {\n",
       "        text-align: right;\n",
       "    }\n",
       "</style>\n",
       "<table border=\"1\" class=\"dataframe\">\n",
       "  <thead>\n",
       "    <tr style=\"text-align: right;\">\n",
       "      <th></th>\n",
       "      <th>Unnamed: 0</th>\n",
       "      <th>Age</th>\n",
       "      <th>Sex</th>\n",
       "      <th>Job</th>\n",
       "      <th>Housing</th>\n",
       "      <th>Saving accounts</th>\n",
       "      <th>Checking account</th>\n",
       "      <th>Credit amount</th>\n",
       "      <th>Duration</th>\n",
       "      <th>Purpose</th>\n",
       "      <th>Risk</th>\n",
       "    </tr>\n",
       "  </thead>\n",
       "  <tbody>\n",
       "    <tr>\n",
       "      <th>0</th>\n",
       "      <td>0</td>\n",
       "      <td>67</td>\n",
       "      <td>0</td>\n",
       "      <td>2</td>\n",
       "      <td>0</td>\n",
       "      <td>NaN</td>\n",
       "      <td>0.0</td>\n",
       "      <td>1169</td>\n",
       "      <td>6</td>\n",
       "      <td>1</td>\n",
       "      <td>good</td>\n",
       "    </tr>\n",
       "    <tr>\n",
       "      <th>1</th>\n",
       "      <td>1</td>\n",
       "      <td>22</td>\n",
       "      <td>1</td>\n",
       "      <td>2</td>\n",
       "      <td>0</td>\n",
       "      <td>0.0</td>\n",
       "      <td>1.0</td>\n",
       "      <td>5951</td>\n",
       "      <td>48</td>\n",
       "      <td>1</td>\n",
       "      <td>bad</td>\n",
       "    </tr>\n",
       "    <tr>\n",
       "      <th>2</th>\n",
       "      <td>2</td>\n",
       "      <td>49</td>\n",
       "      <td>0</td>\n",
       "      <td>1</td>\n",
       "      <td>0</td>\n",
       "      <td>0.0</td>\n",
       "      <td>NaN</td>\n",
       "      <td>2096</td>\n",
       "      <td>12</td>\n",
       "      <td>4</td>\n",
       "      <td>good</td>\n",
       "    </tr>\n",
       "    <tr>\n",
       "      <th>3</th>\n",
       "      <td>3</td>\n",
       "      <td>45</td>\n",
       "      <td>0</td>\n",
       "      <td>2</td>\n",
       "      <td>2</td>\n",
       "      <td>0.0</td>\n",
       "      <td>0.0</td>\n",
       "      <td>7882</td>\n",
       "      <td>42</td>\n",
       "      <td>2</td>\n",
       "      <td>good</td>\n",
       "    </tr>\n",
       "    <tr>\n",
       "      <th>4</th>\n",
       "      <td>4</td>\n",
       "      <td>53</td>\n",
       "      <td>0</td>\n",
       "      <td>2</td>\n",
       "      <td>2</td>\n",
       "      <td>0.0</td>\n",
       "      <td>0.0</td>\n",
       "      <td>4870</td>\n",
       "      <td>24</td>\n",
       "      <td>0</td>\n",
       "      <td>bad</td>\n",
       "    </tr>\n",
       "    <tr>\n",
       "      <th>5</th>\n",
       "      <td>5</td>\n",
       "      <td>35</td>\n",
       "      <td>0</td>\n",
       "      <td>1</td>\n",
       "      <td>2</td>\n",
       "      <td>NaN</td>\n",
       "      <td>NaN</td>\n",
       "      <td>9055</td>\n",
       "      <td>36</td>\n",
       "      <td>4</td>\n",
       "      <td>good</td>\n",
       "    </tr>\n",
       "    <tr>\n",
       "      <th>6</th>\n",
       "      <td>6</td>\n",
       "      <td>53</td>\n",
       "      <td>0</td>\n",
       "      <td>2</td>\n",
       "      <td>0</td>\n",
       "      <td>2.0</td>\n",
       "      <td>NaN</td>\n",
       "      <td>2835</td>\n",
       "      <td>24</td>\n",
       "      <td>2</td>\n",
       "      <td>good</td>\n",
       "    </tr>\n",
       "    <tr>\n",
       "      <th>7</th>\n",
       "      <td>7</td>\n",
       "      <td>35</td>\n",
       "      <td>0</td>\n",
       "      <td>3</td>\n",
       "      <td>1</td>\n",
       "      <td>0.0</td>\n",
       "      <td>1.0</td>\n",
       "      <td>6948</td>\n",
       "      <td>36</td>\n",
       "      <td>0</td>\n",
       "      <td>good</td>\n",
       "    </tr>\n",
       "    <tr>\n",
       "      <th>8</th>\n",
       "      <td>8</td>\n",
       "      <td>61</td>\n",
       "      <td>0</td>\n",
       "      <td>1</td>\n",
       "      <td>0</td>\n",
       "      <td>3.0</td>\n",
       "      <td>NaN</td>\n",
       "      <td>3059</td>\n",
       "      <td>12</td>\n",
       "      <td>1</td>\n",
       "      <td>good</td>\n",
       "    </tr>\n",
       "    <tr>\n",
       "      <th>9</th>\n",
       "      <td>9</td>\n",
       "      <td>28</td>\n",
       "      <td>0</td>\n",
       "      <td>3</td>\n",
       "      <td>0</td>\n",
       "      <td>0.0</td>\n",
       "      <td>1.0</td>\n",
       "      <td>5234</td>\n",
       "      <td>30</td>\n",
       "      <td>0</td>\n",
       "      <td>bad</td>\n",
       "    </tr>\n",
       "  </tbody>\n",
       "</table>\n",
       "</div>"
      ],
      "text/plain": [
       "   Unnamed: 0  Age  Sex  Job  Housing  Saving accounts  Checking account  \\\n",
       "0           0   67    0    2        0              NaN               0.0   \n",
       "1           1   22    1    2        0              0.0               1.0   \n",
       "2           2   49    0    1        0              0.0               NaN   \n",
       "3           3   45    0    2        2              0.0               0.0   \n",
       "4           4   53    0    2        2              0.0               0.0   \n",
       "5           5   35    0    1        2              NaN               NaN   \n",
       "6           6   53    0    2        0              2.0               NaN   \n",
       "7           7   35    0    3        1              0.0               1.0   \n",
       "8           8   61    0    1        0              3.0               NaN   \n",
       "9           9   28    0    3        0              0.0               1.0   \n",
       "\n",
       "   Credit amount  Duration  Purpose  Risk  \n",
       "0           1169         6        1  good  \n",
       "1           5951        48        1   bad  \n",
       "2           2096        12        4  good  \n",
       "3           7882        42        2  good  \n",
       "4           4870        24        0   bad  \n",
       "5           9055        36        4  good  \n",
       "6           2835        24        2  good  \n",
       "7           6948        36        0  good  \n",
       "8           3059        12        1  good  \n",
       "9           5234        30        0   bad  "
      ]
     },
     "execution_count": 29,
     "metadata": {},
     "output_type": "execute_result"
    }
   ],
   "source": [
    "credit.head(10)"
   ]
  },
  {
   "cell_type": "code",
   "execution_count": 30,
   "metadata": {
    "collapsed": true
   },
   "outputs": [],
   "source": [
    "credit = credit.drop('Unnamed: 0', axis=1)"
   ]
  },
  {
   "cell_type": "code",
   "execution_count": 32,
   "metadata": {},
   "outputs": [
    {
     "data": {
      "text/plain": [
       "good    700\n",
       "bad     300\n",
       "Name: Risk, dtype: int64"
      ]
     },
     "execution_count": 32,
     "metadata": {},
     "output_type": "execute_result"
    }
   ],
   "source": [
    "credit['Risk'].value_counts()"
   ]
  },
  {
   "cell_type": "code",
   "execution_count": 33,
   "metadata": {
    "collapsed": true
   },
   "outputs": [],
   "source": [
    "def label_fix5(label):\n",
    "    if label=='good':\n",
    "        return 0\n",
    "    else:\n",
    "        return 1"
   ]
  },
  {
   "cell_type": "code",
   "execution_count": 34,
   "metadata": {
    "collapsed": true
   },
   "outputs": [],
   "source": [
    "credit['Risk'] = credit['Risk'].apply(label_fix5)"
   ]
  },
  {
   "cell_type": "code",
   "execution_count": 35,
   "metadata": {},
   "outputs": [
    {
     "data": {
      "text/plain": [
       "0    700\n",
       "1    300\n",
       "Name: Risk, dtype: int64"
      ]
     },
     "execution_count": 35,
     "metadata": {},
     "output_type": "execute_result"
    }
   ],
   "source": [
    "credit['Risk'].value_counts()"
   ]
  },
  {
   "cell_type": "code",
   "execution_count": 36,
   "metadata": {
    "scrolled": true
   },
   "outputs": [
    {
     "data": {
      "text/html": [
       "<div>\n",
       "<style scoped>\n",
       "    .dataframe tbody tr th:only-of-type {\n",
       "        vertical-align: middle;\n",
       "    }\n",
       "\n",
       "    .dataframe tbody tr th {\n",
       "        vertical-align: top;\n",
       "    }\n",
       "\n",
       "    .dataframe thead th {\n",
       "        text-align: right;\n",
       "    }\n",
       "</style>\n",
       "<table border=\"1\" class=\"dataframe\">\n",
       "  <thead>\n",
       "    <tr style=\"text-align: right;\">\n",
       "      <th></th>\n",
       "      <th>count</th>\n",
       "      <th>mean</th>\n",
       "      <th>std</th>\n",
       "      <th>min</th>\n",
       "      <th>25%</th>\n",
       "      <th>50%</th>\n",
       "      <th>75%</th>\n",
       "      <th>max</th>\n",
       "    </tr>\n",
       "  </thead>\n",
       "  <tbody>\n",
       "    <tr>\n",
       "      <th>Age</th>\n",
       "      <td>1000.0</td>\n",
       "      <td>35.546000</td>\n",
       "      <td>11.375469</td>\n",
       "      <td>19.0</td>\n",
       "      <td>27.0</td>\n",
       "      <td>33.0</td>\n",
       "      <td>42.00</td>\n",
       "      <td>75.0</td>\n",
       "    </tr>\n",
       "    <tr>\n",
       "      <th>Sex</th>\n",
       "      <td>1000.0</td>\n",
       "      <td>0.310000</td>\n",
       "      <td>0.462725</td>\n",
       "      <td>0.0</td>\n",
       "      <td>0.0</td>\n",
       "      <td>0.0</td>\n",
       "      <td>1.00</td>\n",
       "      <td>1.0</td>\n",
       "    </tr>\n",
       "    <tr>\n",
       "      <th>Job</th>\n",
       "      <td>1000.0</td>\n",
       "      <td>1.904000</td>\n",
       "      <td>0.653614</td>\n",
       "      <td>0.0</td>\n",
       "      <td>2.0</td>\n",
       "      <td>2.0</td>\n",
       "      <td>2.00</td>\n",
       "      <td>3.0</td>\n",
       "    </tr>\n",
       "    <tr>\n",
       "      <th>Housing</th>\n",
       "      <td>1000.0</td>\n",
       "      <td>0.395000</td>\n",
       "      <td>0.674856</td>\n",
       "      <td>0.0</td>\n",
       "      <td>0.0</td>\n",
       "      <td>0.0</td>\n",
       "      <td>1.00</td>\n",
       "      <td>2.0</td>\n",
       "    </tr>\n",
       "    <tr>\n",
       "      <th>Saving accounts</th>\n",
       "      <td>817.0</td>\n",
       "      <td>0.456548</td>\n",
       "      <td>0.869350</td>\n",
       "      <td>0.0</td>\n",
       "      <td>0.0</td>\n",
       "      <td>0.0</td>\n",
       "      <td>1.00</td>\n",
       "      <td>3.0</td>\n",
       "    </tr>\n",
       "    <tr>\n",
       "      <th>Checking account</th>\n",
       "      <td>606.0</td>\n",
       "      <td>0.755776</td>\n",
       "      <td>0.899821</td>\n",
       "      <td>0.0</td>\n",
       "      <td>0.0</td>\n",
       "      <td>1.0</td>\n",
       "      <td>1.00</td>\n",
       "      <td>3.0</td>\n",
       "    </tr>\n",
       "    <tr>\n",
       "      <th>Credit amount</th>\n",
       "      <td>1000.0</td>\n",
       "      <td>3271.258000</td>\n",
       "      <td>2822.736876</td>\n",
       "      <td>250.0</td>\n",
       "      <td>1365.5</td>\n",
       "      <td>2319.5</td>\n",
       "      <td>3972.25</td>\n",
       "      <td>18424.0</td>\n",
       "    </tr>\n",
       "    <tr>\n",
       "      <th>Duration</th>\n",
       "      <td>1000.0</td>\n",
       "      <td>20.903000</td>\n",
       "      <td>12.058814</td>\n",
       "      <td>4.0</td>\n",
       "      <td>12.0</td>\n",
       "      <td>18.0</td>\n",
       "      <td>24.00</td>\n",
       "      <td>72.0</td>\n",
       "    </tr>\n",
       "    <tr>\n",
       "      <th>Purpose</th>\n",
       "      <td>1000.0</td>\n",
       "      <td>1.435000</td>\n",
       "      <td>1.527779</td>\n",
       "      <td>0.0</td>\n",
       "      <td>0.0</td>\n",
       "      <td>1.0</td>\n",
       "      <td>2.00</td>\n",
       "      <td>7.0</td>\n",
       "    </tr>\n",
       "    <tr>\n",
       "      <th>Risk</th>\n",
       "      <td>1000.0</td>\n",
       "      <td>0.300000</td>\n",
       "      <td>0.458487</td>\n",
       "      <td>0.0</td>\n",
       "      <td>0.0</td>\n",
       "      <td>0.0</td>\n",
       "      <td>1.00</td>\n",
       "      <td>1.0</td>\n",
       "    </tr>\n",
       "  </tbody>\n",
       "</table>\n",
       "</div>"
      ],
      "text/plain": [
       "                   count         mean          std    min     25%     50%  \\\n",
       "Age               1000.0    35.546000    11.375469   19.0    27.0    33.0   \n",
       "Sex               1000.0     0.310000     0.462725    0.0     0.0     0.0   \n",
       "Job               1000.0     1.904000     0.653614    0.0     2.0     2.0   \n",
       "Housing           1000.0     0.395000     0.674856    0.0     0.0     0.0   \n",
       "Saving accounts    817.0     0.456548     0.869350    0.0     0.0     0.0   \n",
       "Checking account   606.0     0.755776     0.899821    0.0     0.0     1.0   \n",
       "Credit amount     1000.0  3271.258000  2822.736876  250.0  1365.5  2319.5   \n",
       "Duration          1000.0    20.903000    12.058814    4.0    12.0    18.0   \n",
       "Purpose           1000.0     1.435000     1.527779    0.0     0.0     1.0   \n",
       "Risk              1000.0     0.300000     0.458487    0.0     0.0     0.0   \n",
       "\n",
       "                      75%      max  \n",
       "Age                 42.00     75.0  \n",
       "Sex                  1.00      1.0  \n",
       "Job                  2.00      3.0  \n",
       "Housing              1.00      2.0  \n",
       "Saving accounts      1.00      3.0  \n",
       "Checking account     1.00      3.0  \n",
       "Credit amount     3972.25  18424.0  \n",
       "Duration            24.00     72.0  \n",
       "Purpose              2.00      7.0  \n",
       "Risk                 1.00      1.0  "
      ]
     },
     "execution_count": 36,
     "metadata": {},
     "output_type": "execute_result"
    }
   ],
   "source": [
    "credit.describe().transpose()"
   ]
  },
  {
   "cell_type": "code",
   "execution_count": 37,
   "metadata": {},
   "outputs": [
    {
     "name": "stdout",
     "output_type": "stream",
     "text": [
      "<class 'pandas.core.frame.DataFrame'>\n",
      "RangeIndex: 1000 entries, 0 to 999\n",
      "Data columns (total 10 columns):\n",
      "Age                 1000 non-null int64\n",
      "Sex                 1000 non-null int64\n",
      "Job                 1000 non-null int64\n",
      "Housing             1000 non-null int64\n",
      "Saving accounts     817 non-null float64\n",
      "Checking account    606 non-null float64\n",
      "Credit amount       1000 non-null int64\n",
      "Duration            1000 non-null int64\n",
      "Purpose             1000 non-null int64\n",
      "Risk                1000 non-null int64\n",
      "dtypes: float64(2), int64(8)\n",
      "memory usage: 78.2 KB\n"
     ]
    }
   ],
   "source": [
    "credit.info()"
   ]
  },
  {
   "cell_type": "markdown",
   "metadata": {},
   "source": [
    "    ## converted all the categorical values into numeric values - could have used pd.get_dummy "
   ]
  },
  {
   "cell_type": "code",
   "execution_count": 38,
   "metadata": {
    "collapsed": true
   },
   "outputs": [],
   "source": [
    "import numpy as np"
   ]
  },
  {
   "cell_type": "code",
   "execution_count": 39,
   "metadata": {},
   "outputs": [
    {
     "data": {
      "text/html": [
       "<div>\n",
       "<style scoped>\n",
       "    .dataframe tbody tr th:only-of-type {\n",
       "        vertical-align: middle;\n",
       "    }\n",
       "\n",
       "    .dataframe tbody tr th {\n",
       "        vertical-align: top;\n",
       "    }\n",
       "\n",
       "    .dataframe thead th {\n",
       "        text-align: right;\n",
       "    }\n",
       "</style>\n",
       "<table border=\"1\" class=\"dataframe\">\n",
       "  <thead>\n",
       "    <tr style=\"text-align: right;\">\n",
       "      <th></th>\n",
       "      <th>Age</th>\n",
       "      <th>Sex</th>\n",
       "      <th>Job</th>\n",
       "      <th>Housing</th>\n",
       "      <th>Saving accounts</th>\n",
       "      <th>Checking account</th>\n",
       "      <th>Credit amount</th>\n",
       "      <th>Duration</th>\n",
       "      <th>Purpose</th>\n",
       "      <th>Risk</th>\n",
       "    </tr>\n",
       "  </thead>\n",
       "  <tbody>\n",
       "    <tr>\n",
       "      <th>0</th>\n",
       "      <td>False</td>\n",
       "      <td>False</td>\n",
       "      <td>False</td>\n",
       "      <td>False</td>\n",
       "      <td>True</td>\n",
       "      <td>False</td>\n",
       "      <td>False</td>\n",
       "      <td>False</td>\n",
       "      <td>False</td>\n",
       "      <td>False</td>\n",
       "    </tr>\n",
       "    <tr>\n",
       "      <th>1</th>\n",
       "      <td>False</td>\n",
       "      <td>False</td>\n",
       "      <td>False</td>\n",
       "      <td>False</td>\n",
       "      <td>False</td>\n",
       "      <td>False</td>\n",
       "      <td>False</td>\n",
       "      <td>False</td>\n",
       "      <td>False</td>\n",
       "      <td>False</td>\n",
       "    </tr>\n",
       "    <tr>\n",
       "      <th>2</th>\n",
       "      <td>False</td>\n",
       "      <td>False</td>\n",
       "      <td>False</td>\n",
       "      <td>False</td>\n",
       "      <td>False</td>\n",
       "      <td>True</td>\n",
       "      <td>False</td>\n",
       "      <td>False</td>\n",
       "      <td>False</td>\n",
       "      <td>False</td>\n",
       "    </tr>\n",
       "    <tr>\n",
       "      <th>3</th>\n",
       "      <td>False</td>\n",
       "      <td>False</td>\n",
       "      <td>False</td>\n",
       "      <td>False</td>\n",
       "      <td>False</td>\n",
       "      <td>False</td>\n",
       "      <td>False</td>\n",
       "      <td>False</td>\n",
       "      <td>False</td>\n",
       "      <td>False</td>\n",
       "    </tr>\n",
       "    <tr>\n",
       "      <th>4</th>\n",
       "      <td>False</td>\n",
       "      <td>False</td>\n",
       "      <td>False</td>\n",
       "      <td>False</td>\n",
       "      <td>False</td>\n",
       "      <td>False</td>\n",
       "      <td>False</td>\n",
       "      <td>False</td>\n",
       "      <td>False</td>\n",
       "      <td>False</td>\n",
       "    </tr>\n",
       "  </tbody>\n",
       "</table>\n",
       "</div>"
      ],
      "text/plain": [
       "     Age    Sex    Job  Housing  Saving accounts  Checking account  \\\n",
       "0  False  False  False    False             True             False   \n",
       "1  False  False  False    False            False             False   \n",
       "2  False  False  False    False            False              True   \n",
       "3  False  False  False    False            False             False   \n",
       "4  False  False  False    False            False             False   \n",
       "\n",
       "   Credit amount  Duration  Purpose   Risk  \n",
       "0          False     False    False  False  \n",
       "1          False     False    False  False  \n",
       "2          False     False    False  False  \n",
       "3          False     False    False  False  \n",
       "4          False     False    False  False  "
      ]
     },
     "execution_count": 39,
     "metadata": {},
     "output_type": "execute_result"
    }
   ],
   "source": [
    "#dealing with missing values\n",
    "missing_data = credit.isnull()\n",
    "missing_data.head()"
   ]
  },
  {
   "cell_type": "code",
   "execution_count": 40,
   "metadata": {},
   "outputs": [
    {
     "name": "stdout",
     "output_type": "stream",
     "text": [
      "Age\n",
      "False    1000\n",
      "Name: Age, dtype: int64\n",
      "\n",
      "Sex\n",
      "False    1000\n",
      "Name: Sex, dtype: int64\n",
      "\n",
      "Job\n",
      "False    1000\n",
      "Name: Job, dtype: int64\n",
      "\n",
      "Housing\n",
      "False    1000\n",
      "Name: Housing, dtype: int64\n",
      "\n",
      "Saving accounts\n",
      "False    817\n",
      "True     183\n",
      "Name: Saving accounts, dtype: int64\n",
      "\n",
      "Checking account\n",
      "False    606\n",
      "True     394\n",
      "Name: Checking account, dtype: int64\n",
      "\n",
      "Credit amount\n",
      "False    1000\n",
      "Name: Credit amount, dtype: int64\n",
      "\n",
      "Duration\n",
      "False    1000\n",
      "Name: Duration, dtype: int64\n",
      "\n",
      "Purpose\n",
      "False    1000\n",
      "Name: Purpose, dtype: int64\n",
      "\n",
      "Risk\n",
      "False    1000\n",
      "Name: Risk, dtype: int64\n",
      "\n"
     ]
    }
   ],
   "source": [
    "for column in missing_data.columns.values.tolist():\n",
    "    print(column)\n",
    "    print(missing_data[column].value_counts())\n",
    "    print(\"\")"
   ]
  },
  {
   "cell_type": "code",
   "execution_count": 41,
   "metadata": {
    "collapsed": true
   },
   "outputs": [],
   "source": [
    "#replacing missing values with mean\n",
    "mean1 = credit['Saving accounts'].astype(float).mean(axis=0)\n",
    "credit['Saving accounts'].replace(np.nan,mean1,inplace=True)"
   ]
  },
  {
   "cell_type": "code",
   "execution_count": 42,
   "metadata": {
    "collapsed": true
   },
   "outputs": [],
   "source": [
    "#replacing missing values with mean\n",
    "mean2 = credit['Checking account'].astype(float).mean(axis=0)\n",
    "credit['Checking account'].replace(np.nan,mean2,inplace=True)"
   ]
  },
  {
   "cell_type": "code",
   "execution_count": 43,
   "metadata": {},
   "outputs": [
    {
     "data": {
      "text/html": [
       "<div>\n",
       "<style scoped>\n",
       "    .dataframe tbody tr th:only-of-type {\n",
       "        vertical-align: middle;\n",
       "    }\n",
       "\n",
       "    .dataframe tbody tr th {\n",
       "        vertical-align: top;\n",
       "    }\n",
       "\n",
       "    .dataframe thead th {\n",
       "        text-align: right;\n",
       "    }\n",
       "</style>\n",
       "<table border=\"1\" class=\"dataframe\">\n",
       "  <thead>\n",
       "    <tr style=\"text-align: right;\">\n",
       "      <th></th>\n",
       "      <th>Age</th>\n",
       "      <th>Sex</th>\n",
       "      <th>Job</th>\n",
       "      <th>Housing</th>\n",
       "      <th>Saving accounts</th>\n",
       "      <th>Checking account</th>\n",
       "      <th>Credit amount</th>\n",
       "      <th>Duration</th>\n",
       "      <th>Purpose</th>\n",
       "      <th>Risk</th>\n",
       "    </tr>\n",
       "  </thead>\n",
       "  <tbody>\n",
       "    <tr>\n",
       "      <th>0</th>\n",
       "      <td>False</td>\n",
       "      <td>False</td>\n",
       "      <td>False</td>\n",
       "      <td>False</td>\n",
       "      <td>False</td>\n",
       "      <td>False</td>\n",
       "      <td>False</td>\n",
       "      <td>False</td>\n",
       "      <td>False</td>\n",
       "      <td>False</td>\n",
       "    </tr>\n",
       "    <tr>\n",
       "      <th>1</th>\n",
       "      <td>False</td>\n",
       "      <td>False</td>\n",
       "      <td>False</td>\n",
       "      <td>False</td>\n",
       "      <td>False</td>\n",
       "      <td>False</td>\n",
       "      <td>False</td>\n",
       "      <td>False</td>\n",
       "      <td>False</td>\n",
       "      <td>False</td>\n",
       "    </tr>\n",
       "    <tr>\n",
       "      <th>2</th>\n",
       "      <td>False</td>\n",
       "      <td>False</td>\n",
       "      <td>False</td>\n",
       "      <td>False</td>\n",
       "      <td>False</td>\n",
       "      <td>False</td>\n",
       "      <td>False</td>\n",
       "      <td>False</td>\n",
       "      <td>False</td>\n",
       "      <td>False</td>\n",
       "    </tr>\n",
       "    <tr>\n",
       "      <th>3</th>\n",
       "      <td>False</td>\n",
       "      <td>False</td>\n",
       "      <td>False</td>\n",
       "      <td>False</td>\n",
       "      <td>False</td>\n",
       "      <td>False</td>\n",
       "      <td>False</td>\n",
       "      <td>False</td>\n",
       "      <td>False</td>\n",
       "      <td>False</td>\n",
       "    </tr>\n",
       "    <tr>\n",
       "      <th>4</th>\n",
       "      <td>False</td>\n",
       "      <td>False</td>\n",
       "      <td>False</td>\n",
       "      <td>False</td>\n",
       "      <td>False</td>\n",
       "      <td>False</td>\n",
       "      <td>False</td>\n",
       "      <td>False</td>\n",
       "      <td>False</td>\n",
       "      <td>False</td>\n",
       "    </tr>\n",
       "  </tbody>\n",
       "</table>\n",
       "</div>"
      ],
      "text/plain": [
       "     Age    Sex    Job  Housing  Saving accounts  Checking account  \\\n",
       "0  False  False  False    False            False             False   \n",
       "1  False  False  False    False            False             False   \n",
       "2  False  False  False    False            False             False   \n",
       "3  False  False  False    False            False             False   \n",
       "4  False  False  False    False            False             False   \n",
       "\n",
       "   Credit amount  Duration  Purpose   Risk  \n",
       "0          False     False    False  False  \n",
       "1          False     False    False  False  \n",
       "2          False     False    False  False  \n",
       "3          False     False    False  False  \n",
       "4          False     False    False  False  "
      ]
     },
     "execution_count": 43,
     "metadata": {},
     "output_type": "execute_result"
    }
   ],
   "source": [
    "missing_data = credit.isnull()\n",
    "missing_data.head()"
   ]
  },
  {
   "cell_type": "code",
   "execution_count": 44,
   "metadata": {},
   "outputs": [
    {
     "name": "stdout",
     "output_type": "stream",
     "text": [
      "Age\n",
      "False    1000\n",
      "Name: Age, dtype: int64\n",
      "\n",
      "Sex\n",
      "False    1000\n",
      "Name: Sex, dtype: int64\n",
      "\n",
      "Job\n",
      "False    1000\n",
      "Name: Job, dtype: int64\n",
      "\n",
      "Housing\n",
      "False    1000\n",
      "Name: Housing, dtype: int64\n",
      "\n",
      "Saving accounts\n",
      "False    1000\n",
      "Name: Saving accounts, dtype: int64\n",
      "\n",
      "Checking account\n",
      "False    1000\n",
      "Name: Checking account, dtype: int64\n",
      "\n",
      "Credit amount\n",
      "False    1000\n",
      "Name: Credit amount, dtype: int64\n",
      "\n",
      "Duration\n",
      "False    1000\n",
      "Name: Duration, dtype: int64\n",
      "\n",
      "Purpose\n",
      "False    1000\n",
      "Name: Purpose, dtype: int64\n",
      "\n",
      "Risk\n",
      "False    1000\n",
      "Name: Risk, dtype: int64\n",
      "\n"
     ]
    }
   ],
   "source": [
    "for column in missing_data.columns.values.tolist():\n",
    "    print(column)\n",
    "    print(missing_data[column].value_counts())\n",
    "    print(\"\")"
   ]
  },
  {
   "cell_type": "markdown",
   "metadata": {},
   "source": [
    "    ## No more missing values"
   ]
  },
  {
   "cell_type": "code",
   "execution_count": 45,
   "metadata": {},
   "outputs": [
    {
     "data": {
      "text/plain": [
       "Index(['Age', 'Sex', 'Job', 'Housing', 'Saving accounts', 'Checking account',\n",
       "       'Credit amount', 'Duration', 'Purpose', 'Risk'],\n",
       "      dtype='object')"
      ]
     },
     "execution_count": 45,
     "metadata": {},
     "output_type": "execute_result"
    }
   ],
   "source": [
    "credit.columns"
   ]
  },
  {
   "cell_type": "code",
   "execution_count": 53,
   "metadata": {
    "collapsed": true
   },
   "outputs": [],
   "source": [
    "feature = np.asanyarray(credit[['Age', 'Sex', 'Job', 'Housing', 'Saving accounts', 'Checking account',\n",
    "       'Credit amount', 'Duration', 'Purpose']])"
   ]
  },
  {
   "cell_type": "code",
   "execution_count": 54,
   "metadata": {
    "collapsed": true
   },
   "outputs": [],
   "source": [
    "label = np.asanyarray(credit['Risk'])"
   ]
  },
  {
   "cell_type": "markdown",
   "metadata": {},
   "source": [
    "### Spliting data set into train and test"
   ]
  },
  {
   "cell_type": "code",
   "execution_count": 60,
   "metadata": {
    "collapsed": true
   },
   "outputs": [],
   "source": [
    "from sklearn.model_selection import train_test_split"
   ]
  },
  {
   "cell_type": "code",
   "execution_count": 61,
   "metadata": {
    "collapsed": true
   },
   "outputs": [],
   "source": [
    "X_train, X_test, y_train, y_test = train_test_split(feature, label, test_size=0.33, random_state=101)"
   ]
  },
  {
   "cell_type": "code",
   "execution_count": 62,
   "metadata": {},
   "outputs": [
    {
     "name": "stdout",
     "output_type": "stream",
     "text": [
      "(670, 9)\n",
      "(330, 9)\n",
      "(670,)\n",
      "(330,)\n"
     ]
    }
   ],
   "source": [
    "print(X_train.shape)\n",
    "print(X_test.shape)\n",
    "print(y_train.shape)\n",
    "print(y_test.shape)"
   ]
  },
  {
   "cell_type": "markdown",
   "metadata": {},
   "source": [
    "## Feature scaling"
   ]
  },
  {
   "cell_type": "code",
   "execution_count": 63,
   "metadata": {
    "collapsed": true
   },
   "outputs": [],
   "source": [
    "from sklearn.preprocessing import MinMaxScaler"
   ]
  },
  {
   "cell_type": "code",
   "execution_count": 64,
   "metadata": {
    "collapsed": true
   },
   "outputs": [],
   "source": [
    "scaler = MinMaxScaler()"
   ]
  },
  {
   "cell_type": "code",
   "execution_count": 65,
   "metadata": {
    "collapsed": true
   },
   "outputs": [],
   "source": [
    "X_train = scaler.fit_transform(X_train)"
   ]
  },
  {
   "cell_type": "code",
   "execution_count": 66,
   "metadata": {
    "collapsed": true
   },
   "outputs": [],
   "source": [
    "X_test = scaler.transform(X_test)"
   ]
  },
  {
   "cell_type": "markdown",
   "metadata": {},
   "source": [
    "    ## Logistic Regression"
   ]
  },
  {
   "cell_type": "code",
   "execution_count": 67,
   "metadata": {
    "collapsed": true
   },
   "outputs": [],
   "source": [
    "from sklearn.linear_model import LogisticRegression"
   ]
  },
  {
   "cell_type": "code",
   "execution_count": 68,
   "metadata": {
    "collapsed": true
   },
   "outputs": [],
   "source": [
    "LR = LogisticRegression()"
   ]
  },
  {
   "cell_type": "code",
   "execution_count": 69,
   "metadata": {},
   "outputs": [
    {
     "data": {
      "text/plain": [
       "LogisticRegression(C=1.0, class_weight=None, dual=False, fit_intercept=True,\n",
       "          intercept_scaling=1, max_iter=100, multi_class='ovr', n_jobs=1,\n",
       "          penalty='l2', random_state=None, solver='liblinear', tol=0.0001,\n",
       "          verbose=0, warm_start=False)"
      ]
     },
     "execution_count": 69,
     "metadata": {},
     "output_type": "execute_result"
    }
   ],
   "source": [
    "LR.fit(X_train,y_train)"
   ]
  },
  {
   "cell_type": "code",
   "execution_count": 70,
   "metadata": {
    "collapsed": true
   },
   "outputs": [],
   "source": [
    "yhat = LR.predict(X_test)"
   ]
  },
  {
   "cell_type": "code",
   "execution_count": 78,
   "metadata": {},
   "outputs": [
    {
     "data": {
      "text/plain": [
       "(330,)"
      ]
     },
     "execution_count": 78,
     "metadata": {},
     "output_type": "execute_result"
    }
   ],
   "source": [
    "yhat.shape"
   ]
  },
  {
   "cell_type": "code",
   "execution_count": 80,
   "metadata": {},
   "outputs": [
    {
     "data": {
      "text/plain": [
       "array([0, 0, 0, 0, 0, 0, 0, 0, 0, 0, 0, 0, 0, 1, 0, 0, 0, 0, 0, 0, 1, 0,\n",
       "       0, 0, 0, 0, 1, 0, 0, 0, 1, 0, 0, 0, 1, 0, 0, 0, 0, 0, 0, 0, 0, 0,\n",
       "       0, 0, 0, 0, 0, 0, 0, 0, 1, 0, 0, 0, 0, 0, 0, 0, 0, 0, 0, 0, 0, 0,\n",
       "       0, 0, 0, 0, 0, 0, 0, 0, 0, 0, 1, 0, 0, 0, 0, 1, 1, 0, 0, 0, 0, 0,\n",
       "       0, 0, 0, 0, 0, 0, 0, 0, 0, 0, 0, 0, 0, 0, 0, 0, 0, 0, 0, 1, 0, 0,\n",
       "       0, 0, 0, 0, 0, 1, 0, 0, 0, 0, 0, 0, 0, 0, 0, 0, 1, 0, 0, 0, 0, 0,\n",
       "       0, 0, 0, 0, 0, 0, 0, 0, 0, 0, 0, 1, 0, 0, 0, 0, 0, 0, 0, 0, 1, 0,\n",
       "       0, 0, 0, 0, 0, 0, 0, 0, 0, 0, 0, 0, 1, 0, 0, 0, 1, 0, 0, 0, 0, 0,\n",
       "       0, 0, 0, 0, 0, 0, 0, 0, 0, 0, 0, 0, 1, 0, 0, 0, 0, 0, 0, 0, 0, 0,\n",
       "       0, 0, 0, 0, 0, 0, 0, 0, 0, 0, 0, 0, 0, 0, 0, 0, 0, 0, 0, 0, 0, 0,\n",
       "       0, 0, 0, 0, 0, 0, 0, 0, 0, 0, 0, 1, 0, 0, 0, 0, 0, 1, 0, 0, 0, 0,\n",
       "       0, 0, 0, 0, 0, 0, 0, 0, 0, 0, 0, 0, 0, 0, 0, 0, 0, 0, 0, 0, 1, 0,\n",
       "       0, 0, 0, 0, 0, 0, 0, 0, 0, 0, 0, 0, 0, 0, 0, 1, 0, 0, 0, 0, 1, 0,\n",
       "       0, 0, 0, 0, 0, 0, 0, 0, 0, 0, 0, 0, 0, 0, 0, 0, 0, 0, 0, 0, 0, 0,\n",
       "       0, 0, 0, 0, 0, 0, 1, 0, 0, 0, 0, 0, 0, 0, 0, 0, 0, 0, 0, 0, 0, 0],\n",
       "      dtype=int64)"
      ]
     },
     "execution_count": 80,
     "metadata": {},
     "output_type": "execute_result"
    }
   ],
   "source": [
    "yhat"
   ]
  },
  {
   "cell_type": "code",
   "execution_count": 71,
   "metadata": {
    "collapsed": true
   },
   "outputs": [],
   "source": [
    "yhat_prob = LR.predict_proba(X_test)"
   ]
  },
  {
   "cell_type": "code",
   "execution_count": 79,
   "metadata": {},
   "outputs": [
    {
     "data": {
      "text/plain": [
       "array([[0.6078313 , 0.3921687 ],\n",
       "       [0.75638906, 0.24361094],\n",
       "       [0.8695414 , 0.1304586 ],\n",
       "       [0.67012871, 0.32987129],\n",
       "       [0.58663853, 0.41336147],\n",
       "       [0.7474619 , 0.2525381 ],\n",
       "       [0.81886891, 0.18113109],\n",
       "       [0.80537335, 0.19462665],\n",
       "       [0.54556637, 0.45443363],\n",
       "       [0.77492725, 0.22507275],\n",
       "       [0.74028238, 0.25971762],\n",
       "       [0.78937689, 0.21062311],\n",
       "       [0.77395042, 0.22604958],\n",
       "       [0.4911103 , 0.5088897 ],\n",
       "       [0.72820756, 0.27179244],\n",
       "       [0.58184922, 0.41815078],\n",
       "       [0.64176844, 0.35823156],\n",
       "       [0.88662953, 0.11337047],\n",
       "       [0.81295392, 0.18704608],\n",
       "       [0.71485981, 0.28514019],\n",
       "       [0.47636645, 0.52363355],\n",
       "       [0.71773267, 0.28226733],\n",
       "       [0.76488091, 0.23511909],\n",
       "       [0.88721217, 0.11278783],\n",
       "       [0.54473294, 0.45526706],\n",
       "       [0.55340548, 0.44659452],\n",
       "       [0.38281987, 0.61718013],\n",
       "       [0.85388801, 0.14611199],\n",
       "       [0.82085876, 0.17914124],\n",
       "       [0.77411326, 0.22588674],\n",
       "       [0.40104679, 0.59895321],\n",
       "       [0.87325168, 0.12674832],\n",
       "       [0.7589777 , 0.2410223 ],\n",
       "       [0.8305566 , 0.1694434 ],\n",
       "       [0.33621008, 0.66378992],\n",
       "       [0.58991582, 0.41008418],\n",
       "       [0.6641654 , 0.3358346 ],\n",
       "       [0.80300452, 0.19699548],\n",
       "       [0.70461784, 0.29538216],\n",
       "       [0.71677669, 0.28322331],\n",
       "       [0.82762369, 0.17237631],\n",
       "       [0.7011947 , 0.2988053 ],\n",
       "       [0.50103743, 0.49896257],\n",
       "       [0.59875077, 0.40124923],\n",
       "       [0.62100208, 0.37899792],\n",
       "       [0.84216621, 0.15783379],\n",
       "       [0.78507784, 0.21492216],\n",
       "       [0.77585355, 0.22414645],\n",
       "       [0.70688394, 0.29311606],\n",
       "       [0.72395822, 0.27604178],\n",
       "       [0.70112147, 0.29887853],\n",
       "       [0.75945325, 0.24054675],\n",
       "       [0.47174638, 0.52825362],\n",
       "       [0.61066099, 0.38933901],\n",
       "       [0.62849892, 0.37150108],\n",
       "       [0.81125574, 0.18874426],\n",
       "       [0.90276594, 0.09723406],\n",
       "       [0.68399045, 0.31600955],\n",
       "       [0.79312724, 0.20687276],\n",
       "       [0.61155784, 0.38844216],\n",
       "       [0.6337736 , 0.3662264 ],\n",
       "       [0.59900111, 0.40099889],\n",
       "       [0.72318664, 0.27681336],\n",
       "       [0.69411505, 0.30588495],\n",
       "       [0.88305347, 0.11694653],\n",
       "       [0.72207799, 0.27792201],\n",
       "       [0.82925765, 0.17074235],\n",
       "       [0.75951529, 0.24048471],\n",
       "       [0.7721244 , 0.2278756 ],\n",
       "       [0.86644669, 0.13355331],\n",
       "       [0.54670693, 0.45329307],\n",
       "       [0.76613512, 0.23386488],\n",
       "       [0.57597494, 0.42402506],\n",
       "       [0.86845189, 0.13154811],\n",
       "       [0.81425012, 0.18574988],\n",
       "       [0.76555211, 0.23444789],\n",
       "       [0.39225518, 0.60774482],\n",
       "       [0.79733273, 0.20266727],\n",
       "       [0.85688365, 0.14311635],\n",
       "       [0.74929758, 0.25070242],\n",
       "       [0.67911578, 0.32088422],\n",
       "       [0.49979218, 0.50020782],\n",
       "       [0.44452095, 0.55547905],\n",
       "       [0.68597459, 0.31402541],\n",
       "       [0.62462818, 0.37537182],\n",
       "       [0.73553308, 0.26446692],\n",
       "       [0.83881982, 0.16118018],\n",
       "       [0.54075677, 0.45924323],\n",
       "       [0.77428627, 0.22571373],\n",
       "       [0.80505227, 0.19494773],\n",
       "       [0.85064676, 0.14935324],\n",
       "       [0.54653105, 0.45346895],\n",
       "       [0.76241897, 0.23758103],\n",
       "       [0.78544235, 0.21455765],\n",
       "       [0.72348458, 0.27651542],\n",
       "       [0.81649723, 0.18350277],\n",
       "       [0.53087691, 0.46912309],\n",
       "       [0.85200774, 0.14799226],\n",
       "       [0.85247245, 0.14752755],\n",
       "       [0.79132403, 0.20867597],\n",
       "       [0.63349684, 0.36650316],\n",
       "       [0.60503019, 0.39496981],\n",
       "       [0.83954121, 0.16045879],\n",
       "       [0.79105679, 0.20894321],\n",
       "       [0.6803739 , 0.3196261 ],\n",
       "       [0.8624632 , 0.1375368 ],\n",
       "       [0.52583403, 0.47416597],\n",
       "       [0.46233387, 0.53766613],\n",
       "       [0.84395899, 0.15604101],\n",
       "       [0.70638489, 0.29361511],\n",
       "       [0.68503408, 0.31496592],\n",
       "       [0.87713029, 0.12286971],\n",
       "       [0.8108647 , 0.1891353 ],\n",
       "       [0.64285561, 0.35714439],\n",
       "       [0.93643183, 0.06356817],\n",
       "       [0.48684187, 0.51315813],\n",
       "       [0.84971402, 0.15028598],\n",
       "       [0.80442054, 0.19557946],\n",
       "       [0.75239699, 0.24760301],\n",
       "       [0.80476082, 0.19523918],\n",
       "       [0.77167275, 0.22832725],\n",
       "       [0.69313732, 0.30686268],\n",
       "       [0.7412005 , 0.2587995 ],\n",
       "       [0.52306685, 0.47693315],\n",
       "       [0.69769044, 0.30230956],\n",
       "       [0.65207985, 0.34792015],\n",
       "       [0.49259721, 0.50740279],\n",
       "       [0.76646059, 0.23353941],\n",
       "       [0.66897193, 0.33102807],\n",
       "       [0.80263782, 0.19736218],\n",
       "       [0.78700407, 0.21299593],\n",
       "       [0.67307094, 0.32692906],\n",
       "       [0.83784174, 0.16215826],\n",
       "       [0.73176585, 0.26823415],\n",
       "       [0.86103512, 0.13896488],\n",
       "       [0.70805639, 0.29194361],\n",
       "       [0.89626203, 0.10373797],\n",
       "       [0.80613706, 0.19386294],\n",
       "       [0.62605842, 0.37394158],\n",
       "       [0.51180823, 0.48819177],\n",
       "       [0.65870155, 0.34129845],\n",
       "       [0.62162432, 0.37837568],\n",
       "       [0.56997814, 0.43002186],\n",
       "       [0.41577514, 0.58422486],\n",
       "       [0.70705161, 0.29294839],\n",
       "       [0.62502647, 0.37497353],\n",
       "       [0.78149096, 0.21850904],\n",
       "       [0.59430146, 0.40569854],\n",
       "       [0.85102714, 0.14897286],\n",
       "       [0.50200154, 0.49799846],\n",
       "       [0.68993889, 0.31006111],\n",
       "       [0.55721008, 0.44278992],\n",
       "       [0.4473023 , 0.5526977 ],\n",
       "       [0.83127116, 0.16872884],\n",
       "       [0.56588425, 0.43411575],\n",
       "       [0.82781199, 0.17218801],\n",
       "       [0.76744816, 0.23255184],\n",
       "       [0.71169413, 0.28830587],\n",
       "       [0.56619216, 0.43380784],\n",
       "       [0.81047032, 0.18952968],\n",
       "       [0.75009342, 0.24990658],\n",
       "       [0.88368392, 0.11631608],\n",
       "       [0.70927189, 0.29072811],\n",
       "       [0.64708281, 0.35291719],\n",
       "       [0.74661027, 0.25338973],\n",
       "       [0.69216631, 0.30783369],\n",
       "       [0.42786527, 0.57213473],\n",
       "       [0.90423602, 0.09576398],\n",
       "       [0.66904717, 0.33095283],\n",
       "       [0.65003777, 0.34996223],\n",
       "       [0.40633328, 0.59366672],\n",
       "       [0.82130087, 0.17869913],\n",
       "       [0.7248083 , 0.2751917 ],\n",
       "       [0.79398224, 0.20601776],\n",
       "       [0.68822771, 0.31177229],\n",
       "       [0.93516232, 0.06483768],\n",
       "       [0.68079953, 0.31920047],\n",
       "       [0.909023  , 0.090977  ],\n",
       "       [0.86964836, 0.13035164],\n",
       "       [0.63250163, 0.36749837],\n",
       "       [0.52003099, 0.47996901],\n",
       "       [0.84705048, 0.15294952],\n",
       "       [0.71042561, 0.28957439],\n",
       "       [0.71767856, 0.28232144],\n",
       "       [0.86821957, 0.13178043],\n",
       "       [0.71818838, 0.28181162],\n",
       "       [0.79395551, 0.20604449],\n",
       "       [0.90541645, 0.09458355],\n",
       "       [0.49486334, 0.50513666],\n",
       "       [0.60938184, 0.39061816],\n",
       "       [0.79180084, 0.20819916],\n",
       "       [0.72048709, 0.27951291],\n",
       "       [0.66455246, 0.33544754],\n",
       "       [0.50077508, 0.49922492],\n",
       "       [0.7784568 , 0.2215432 ],\n",
       "       [0.51669014, 0.48330986],\n",
       "       [0.92538801, 0.07461199],\n",
       "       [0.79016913, 0.20983087],\n",
       "       [0.82535323, 0.17464677],\n",
       "       [0.84330153, 0.15669847],\n",
       "       [0.79022608, 0.20977392],\n",
       "       [0.71484267, 0.28515733],\n",
       "       [0.72494591, 0.27505409],\n",
       "       [0.69978549, 0.30021451],\n",
       "       [0.63114947, 0.36885053],\n",
       "       [0.61537019, 0.38462981],\n",
       "       [0.7353209 , 0.2646791 ],\n",
       "       [0.79031424, 0.20968576],\n",
       "       [0.53071172, 0.46928828],\n",
       "       [0.8399905 , 0.1600095 ],\n",
       "       [0.68656347, 0.31343653],\n",
       "       [0.81149577, 0.18850423],\n",
       "       [0.55822776, 0.44177224],\n",
       "       [0.73980406, 0.26019594],\n",
       "       [0.77259715, 0.22740285],\n",
       "       [0.80438113, 0.19561887],\n",
       "       [0.60150532, 0.39849468],\n",
       "       [0.62035484, 0.37964516],\n",
       "       [0.51771124, 0.48228876],\n",
       "       [0.79703083, 0.20296917],\n",
       "       [0.61010457, 0.38989543],\n",
       "       [0.71323664, 0.28676336],\n",
       "       [0.60899888, 0.39100112],\n",
       "       [0.8046112 , 0.1953888 ],\n",
       "       [0.64571243, 0.35428757],\n",
       "       [0.75765378, 0.24234622],\n",
       "       [0.52660895, 0.47339105],\n",
       "       [0.80433034, 0.19566966],\n",
       "       [0.67775103, 0.32224897],\n",
       "       [0.7717171 , 0.2282829 ],\n",
       "       [0.72841889, 0.27158111],\n",
       "       [0.43343584, 0.56656416],\n",
       "       [0.68205378, 0.31794622],\n",
       "       [0.75568776, 0.24431224],\n",
       "       [0.70944136, 0.29055864],\n",
       "       [0.6631489 , 0.3368511 ],\n",
       "       [0.85570181, 0.14429819],\n",
       "       [0.43819167, 0.56180833],\n",
       "       [0.59747692, 0.40252308],\n",
       "       [0.76803938, 0.23196062],\n",
       "       [0.90600343, 0.09399657],\n",
       "       [0.57013697, 0.42986303],\n",
       "       [0.69565042, 0.30434958],\n",
       "       [0.75641152, 0.24358848],\n",
       "       [0.57203425, 0.42796575],\n",
       "       [0.72792415, 0.27207585],\n",
       "       [0.65388607, 0.34611393],\n",
       "       [0.74794424, 0.25205576],\n",
       "       [0.65796664, 0.34203336],\n",
       "       [0.55680044, 0.44319956],\n",
       "       [0.55901367, 0.44098633],\n",
       "       [0.54079917, 0.45920083],\n",
       "       [0.87422768, 0.12577232],\n",
       "       [0.83191803, 0.16808197],\n",
       "       [0.74270384, 0.25729616],\n",
       "       [0.63183429, 0.36816571],\n",
       "       [0.64861386, 0.35138614],\n",
       "       [0.71808996, 0.28191004],\n",
       "       [0.77503792, 0.22496208],\n",
       "       [0.57825127, 0.42174873],\n",
       "       [0.62738971, 0.37261029],\n",
       "       [0.76965635, 0.23034365],\n",
       "       [0.411873  , 0.588127  ],\n",
       "       [0.78750778, 0.21249222],\n",
       "       [0.70926482, 0.29073518],\n",
       "       [0.68595995, 0.31404005],\n",
       "       [0.76321719, 0.23678281],\n",
       "       [0.85946778, 0.14053222],\n",
       "       [0.8293186 , 0.1706814 ],\n",
       "       [0.74766282, 0.25233718],\n",
       "       [0.77019599, 0.22980401],\n",
       "       [0.58752075, 0.41247925],\n",
       "       [0.75750718, 0.24249282],\n",
       "       [0.72290562, 0.27709438],\n",
       "       [0.88778511, 0.11221489],\n",
       "       [0.94287123, 0.05712877],\n",
       "       [0.70017698, 0.29982302],\n",
       "       [0.79874513, 0.20125487],\n",
       "       [0.85441727, 0.14558273],\n",
       "       [0.40020329, 0.59979671],\n",
       "       [0.6947899 , 0.3052101 ],\n",
       "       [0.93886148, 0.06113852],\n",
       "       [0.63701213, 0.36298787],\n",
       "       [0.68742831, 0.31257169],\n",
       "       [0.38035596, 0.61964404],\n",
       "       [0.68822532, 0.31177468],\n",
       "       [0.74569941, 0.25430059],\n",
       "       [0.63268156, 0.36731844],\n",
       "       [0.67683064, 0.32316936],\n",
       "       [0.52484927, 0.47515073],\n",
       "       [0.69689224, 0.30310776],\n",
       "       [0.66986846, 0.33013154],\n",
       "       [0.94209217, 0.05790783],\n",
       "       [0.89975028, 0.10024972],\n",
       "       [0.65567779, 0.34432221],\n",
       "       [0.70068647, 0.29931353],\n",
       "       [0.75556966, 0.24443034],\n",
       "       [0.73882878, 0.26117122],\n",
       "       [0.7562024 , 0.2437976 ],\n",
       "       [0.78769934, 0.21230066],\n",
       "       [0.73191401, 0.26808599],\n",
       "       [0.86519873, 0.13480127],\n",
       "       [0.81610029, 0.18389971],\n",
       "       [0.6673276 , 0.3326724 ],\n",
       "       [0.62037005, 0.37962995],\n",
       "       [0.86731201, 0.13268799],\n",
       "       [0.60675401, 0.39324599],\n",
       "       [0.89525168, 0.10474832],\n",
       "       [0.7446742 , 0.2553258 ],\n",
       "       [0.73117021, 0.26882979],\n",
       "       [0.69438272, 0.30561728],\n",
       "       [0.74557453, 0.25442547],\n",
       "       [0.52197357, 0.47802643],\n",
       "       [0.74593561, 0.25406439],\n",
       "       [0.46173082, 0.53826918],\n",
       "       [0.5462382 , 0.4537618 ],\n",
       "       [0.91970376, 0.08029624],\n",
       "       [0.77560746, 0.22439254],\n",
       "       [0.66230547, 0.33769453],\n",
       "       [0.63652901, 0.36347099],\n",
       "       [0.81366234, 0.18633766],\n",
       "       [0.86449028, 0.13550972],\n",
       "       [0.67130526, 0.32869474],\n",
       "       [0.7733298 , 0.2266702 ],\n",
       "       [0.78120386, 0.21879614],\n",
       "       [0.59351722, 0.40648278],\n",
       "       [0.6613494 , 0.3386506 ],\n",
       "       [0.54355426, 0.45644574],\n",
       "       [0.85636205, 0.14363795],\n",
       "       [0.52513213, 0.47486787]])"
      ]
     },
     "execution_count": 79,
     "metadata": {},
     "output_type": "execute_result"
    }
   ],
   "source": [
    "yhat_prob"
   ]
  },
  {
   "cell_type": "markdown",
   "metadata": {},
   "source": [
    "## Evaluation"
   ]
  },
  {
   "cell_type": "code",
   "execution_count": 72,
   "metadata": {
    "collapsed": true
   },
   "outputs": [],
   "source": [
    "from sklearn.metrics import classification_report"
   ]
  },
  {
   "cell_type": "code",
   "execution_count": 73,
   "metadata": {},
   "outputs": [
    {
     "name": "stdout",
     "output_type": "stream",
     "text": [
      "             precision    recall  f1-score   support\n",
      "\n",
      "          0       0.72      0.97      0.83       226\n",
      "          1       0.74      0.16      0.27       104\n",
      "\n",
      "avg / total       0.72      0.72      0.65       330\n",
      "\n"
     ]
    }
   ],
   "source": [
    "print(classification_report(y_test, yhat))"
   ]
  },
  {
   "cell_type": "code",
   "execution_count": 74,
   "metadata": {},
   "outputs": [
    {
     "data": {
      "text/plain": [
       "0.7181818181818181"
      ]
     },
     "execution_count": 74,
     "metadata": {},
     "output_type": "execute_result"
    }
   ],
   "source": [
    "from sklearn.metrics import jaccard_similarity_score\n",
    "jaccard_similarity_score(y_test, yhat)"
   ]
  },
  {
   "cell_type": "code",
   "execution_count": 75,
   "metadata": {},
   "outputs": [
    {
     "data": {
      "text/plain": [
       "0.563381747014154"
      ]
     },
     "execution_count": 75,
     "metadata": {},
     "output_type": "execute_result"
    }
   ],
   "source": [
    "from sklearn.metrics import log_loss\n",
    "log_loss(y_test, yhat_prob)"
   ]
  }
 ],
 "metadata": {
  "kernelspec": {
   "display_name": "Python 3",
   "language": "python",
   "name": "python3"
  },
  "language_info": {
   "codemirror_mode": {
    "name": "ipython",
    "version": 3
   },
   "file_extension": ".py",
   "mimetype": "text/x-python",
   "name": "python",
   "nbconvert_exporter": "python",
   "pygments_lexer": "ipython3",
   "version": "3.5.4"
  }
 },
 "nbformat": 4,
 "nbformat_minor": 2
}
