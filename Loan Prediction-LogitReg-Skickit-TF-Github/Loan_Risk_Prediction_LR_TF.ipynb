{
 "cells": [
  {
   "cell_type": "markdown",
   "metadata": {},
   "source": [
    "## Predicting Loan Risk - German Credit Data \n",
    "### Logistic Regression - TensorFlow \n",
    "\n",
    "\n",
    "    ### Data Source: Kaggle, UCI"
   ]
  },
  {
   "cell_type": "markdown",
   "metadata": {},
   "source": [
    "## TensorFlow Classification Implementation "
   ]
  },
  {
   "cell_type": "code",
   "execution_count": 7,
   "metadata": {
    "collapsed": true
   },
   "outputs": [],
   "source": [
    "import pandas as pd"
   ]
  },
  {
   "cell_type": "code",
   "execution_count": 8,
   "metadata": {
    "collapsed": true
   },
   "outputs": [],
   "source": [
    "df = pd.read_csv('C:\\\\Users\\\\Rakib\\\\Downloads\\\\Loan Prediction-LogitReg-Skickit-TF-Github\\\\creditdata.csv')"
   ]
  },
  {
   "cell_type": "code",
   "execution_count": 9,
   "metadata": {},
   "outputs": [
    {
     "data": {
      "text/html": [
       "<div>\n",
       "<style>\n",
       "    .dataframe thead tr:only-child th {\n",
       "        text-align: right;\n",
       "    }\n",
       "\n",
       "    .dataframe thead th {\n",
       "        text-align: left;\n",
       "    }\n",
       "\n",
       "    .dataframe tbody tr th {\n",
       "        vertical-align: top;\n",
       "    }\n",
       "</style>\n",
       "<table border=\"1\" class=\"dataframe\">\n",
       "  <thead>\n",
       "    <tr style=\"text-align: right;\">\n",
       "      <th></th>\n",
       "      <th>Unnamed: 0</th>\n",
       "      <th>Age</th>\n",
       "      <th>Sex</th>\n",
       "      <th>Job</th>\n",
       "      <th>Housing</th>\n",
       "      <th>Saving accounts</th>\n",
       "      <th>Checking account</th>\n",
       "      <th>Credit amount</th>\n",
       "      <th>Duration</th>\n",
       "      <th>Purpose</th>\n",
       "      <th>Risk</th>\n",
       "    </tr>\n",
       "  </thead>\n",
       "  <tbody>\n",
       "    <tr>\n",
       "      <th>0</th>\n",
       "      <td>0</td>\n",
       "      <td>67</td>\n",
       "      <td>male</td>\n",
       "      <td>2</td>\n",
       "      <td>own</td>\n",
       "      <td>NaN</td>\n",
       "      <td>little</td>\n",
       "      <td>1169</td>\n",
       "      <td>6</td>\n",
       "      <td>radio/TV</td>\n",
       "      <td>good</td>\n",
       "    </tr>\n",
       "    <tr>\n",
       "      <th>1</th>\n",
       "      <td>1</td>\n",
       "      <td>22</td>\n",
       "      <td>female</td>\n",
       "      <td>2</td>\n",
       "      <td>own</td>\n",
       "      <td>little</td>\n",
       "      <td>moderate</td>\n",
       "      <td>5951</td>\n",
       "      <td>48</td>\n",
       "      <td>radio/TV</td>\n",
       "      <td>bad</td>\n",
       "    </tr>\n",
       "    <tr>\n",
       "      <th>2</th>\n",
       "      <td>2</td>\n",
       "      <td>49</td>\n",
       "      <td>male</td>\n",
       "      <td>1</td>\n",
       "      <td>own</td>\n",
       "      <td>little</td>\n",
       "      <td>NaN</td>\n",
       "      <td>2096</td>\n",
       "      <td>12</td>\n",
       "      <td>education</td>\n",
       "      <td>good</td>\n",
       "    </tr>\n",
       "    <tr>\n",
       "      <th>3</th>\n",
       "      <td>3</td>\n",
       "      <td>45</td>\n",
       "      <td>male</td>\n",
       "      <td>2</td>\n",
       "      <td>free</td>\n",
       "      <td>little</td>\n",
       "      <td>little</td>\n",
       "      <td>7882</td>\n",
       "      <td>42</td>\n",
       "      <td>furniture/equipment</td>\n",
       "      <td>good</td>\n",
       "    </tr>\n",
       "    <tr>\n",
       "      <th>4</th>\n",
       "      <td>4</td>\n",
       "      <td>53</td>\n",
       "      <td>male</td>\n",
       "      <td>2</td>\n",
       "      <td>free</td>\n",
       "      <td>little</td>\n",
       "      <td>little</td>\n",
       "      <td>4870</td>\n",
       "      <td>24</td>\n",
       "      <td>car</td>\n",
       "      <td>bad</td>\n",
       "    </tr>\n",
       "  </tbody>\n",
       "</table>\n",
       "</div>"
      ],
      "text/plain": [
       "   Unnamed: 0  Age     Sex  Job Housing Saving accounts Checking account  \\\n",
       "0           0   67    male    2     own             NaN           little   \n",
       "1           1   22  female    2     own          little         moderate   \n",
       "2           2   49    male    1     own          little              NaN   \n",
       "3           3   45    male    2    free          little           little   \n",
       "4           4   53    male    2    free          little           little   \n",
       "\n",
       "   Credit amount  Duration              Purpose  Risk  \n",
       "0           1169         6             radio/TV  good  \n",
       "1           5951        48             radio/TV   bad  \n",
       "2           2096        12            education  good  \n",
       "3           7882        42  furniture/equipment  good  \n",
       "4           4870        24                  car   bad  "
      ]
     },
     "execution_count": 9,
     "metadata": {},
     "output_type": "execute_result"
    }
   ],
   "source": [
    "df.head()"
   ]
  },
  {
   "cell_type": "code",
   "execution_count": 10,
   "metadata": {
    "collapsed": true
   },
   "outputs": [],
   "source": [
    "df = df.drop(['Unnamed: 0', 'Checking account','Credit amount','Saving accounts'], axis=1)"
   ]
  },
  {
   "cell_type": "markdown",
   "metadata": {},
   "source": [
    "    ## had to drop off these columns -- were getting error with these columns in model training\n",
    "    ## used tf.feature_column.categorical_column_with_vocabulary_list - did not work for these columns\n",
    "    ## will try to figure out what happened"
   ]
  },
  {
   "cell_type": "code",
   "execution_count": 11,
   "metadata": {},
   "outputs": [
    {
     "data": {
      "text/plain": [
       "Index(['Age', 'Sex', 'Job', 'Housing', 'Duration', 'Purpose', 'Risk'], dtype='object')"
      ]
     },
     "execution_count": 11,
     "metadata": {},
     "output_type": "execute_result"
    }
   ],
   "source": [
    "df.columns"
   ]
  },
  {
   "cell_type": "code",
   "execution_count": 15,
   "metadata": {},
   "outputs": [
    {
     "data": {
      "text/plain": [
       "Index(['Age', 'Sex', 'Job', 'Housing', 'Duration', 'Purpose', 'Risk'], dtype='object')"
      ]
     },
     "execution_count": 15,
     "metadata": {},
     "output_type": "execute_result"
    }
   ],
   "source": [
    "df.columns"
   ]
  },
  {
   "cell_type": "code",
   "execution_count": 16,
   "metadata": {},
   "outputs": [
    {
     "name": "stdout",
     "output_type": "stream",
     "text": [
      "<class 'pandas.core.frame.DataFrame'>\n",
      "RangeIndex: 1000 entries, 0 to 999\n",
      "Data columns (total 7 columns):\n",
      "Age         1000 non-null int64\n",
      "Sex         1000 non-null object\n",
      "Job         1000 non-null int64\n",
      "Housing     1000 non-null object\n",
      "Duration    1000 non-null int64\n",
      "Purpose     1000 non-null object\n",
      "Risk        1000 non-null object\n",
      "dtypes: int64(3), object(4)\n",
      "memory usage: 54.8+ KB\n"
     ]
    }
   ],
   "source": [
    "df.info()"
   ]
  },
  {
   "cell_type": "code",
   "execution_count": 17,
   "metadata": {},
   "outputs": [
    {
     "data": {
      "text/html": [
       "<div>\n",
       "<style>\n",
       "    .dataframe thead tr:only-child th {\n",
       "        text-align: right;\n",
       "    }\n",
       "\n",
       "    .dataframe thead th {\n",
       "        text-align: left;\n",
       "    }\n",
       "\n",
       "    .dataframe tbody tr th {\n",
       "        vertical-align: top;\n",
       "    }\n",
       "</style>\n",
       "<table border=\"1\" class=\"dataframe\">\n",
       "  <thead>\n",
       "    <tr style=\"text-align: right;\">\n",
       "      <th></th>\n",
       "      <th>count</th>\n",
       "      <th>mean</th>\n",
       "      <th>std</th>\n",
       "      <th>min</th>\n",
       "      <th>25%</th>\n",
       "      <th>50%</th>\n",
       "      <th>75%</th>\n",
       "      <th>max</th>\n",
       "    </tr>\n",
       "  </thead>\n",
       "  <tbody>\n",
       "    <tr>\n",
       "      <th>Age</th>\n",
       "      <td>1000.0</td>\n",
       "      <td>35.546</td>\n",
       "      <td>11.375469</td>\n",
       "      <td>19.0</td>\n",
       "      <td>27.0</td>\n",
       "      <td>33.0</td>\n",
       "      <td>42.0</td>\n",
       "      <td>75.0</td>\n",
       "    </tr>\n",
       "    <tr>\n",
       "      <th>Job</th>\n",
       "      <td>1000.0</td>\n",
       "      <td>1.904</td>\n",
       "      <td>0.653614</td>\n",
       "      <td>0.0</td>\n",
       "      <td>2.0</td>\n",
       "      <td>2.0</td>\n",
       "      <td>2.0</td>\n",
       "      <td>3.0</td>\n",
       "    </tr>\n",
       "    <tr>\n",
       "      <th>Duration</th>\n",
       "      <td>1000.0</td>\n",
       "      <td>20.903</td>\n",
       "      <td>12.058814</td>\n",
       "      <td>4.0</td>\n",
       "      <td>12.0</td>\n",
       "      <td>18.0</td>\n",
       "      <td>24.0</td>\n",
       "      <td>72.0</td>\n",
       "    </tr>\n",
       "  </tbody>\n",
       "</table>\n",
       "</div>"
      ],
      "text/plain": [
       "           count    mean        std   min   25%   50%   75%   max\n",
       "Age       1000.0  35.546  11.375469  19.0  27.0  33.0  42.0  75.0\n",
       "Job       1000.0   1.904   0.653614   0.0   2.0   2.0   2.0   3.0\n",
       "Duration  1000.0  20.903  12.058814   4.0  12.0  18.0  24.0  72.0"
      ]
     },
     "execution_count": 17,
     "metadata": {},
     "output_type": "execute_result"
    }
   ],
   "source": [
    "df.describe().transpose()"
   ]
  },
  {
   "cell_type": "markdown",
   "metadata": {},
   "source": [
    "    ## Fixing labels in Data"
   ]
  },
  {
   "cell_type": "code",
   "execution_count": 18,
   "metadata": {},
   "outputs": [
    {
     "data": {
      "text/plain": [
       "array(['good', 'bad'], dtype=object)"
      ]
     },
     "execution_count": 18,
     "metadata": {},
     "output_type": "execute_result"
    }
   ],
   "source": [
    "df['Risk'].unique()"
   ]
  },
  {
   "cell_type": "code",
   "execution_count": 19,
   "metadata": {
    "collapsed": true
   },
   "outputs": [],
   "source": [
    "def label_fix(label):\n",
    "    if label=='bad':\n",
    "        return 0\n",
    "    else:\n",
    "        return 1"
   ]
  },
  {
   "cell_type": "code",
   "execution_count": 20,
   "metadata": {
    "collapsed": true
   },
   "outputs": [],
   "source": [
    "df['Risk'] = df['Risk'].apply(label_fix)"
   ]
  },
  {
   "cell_type": "code",
   "execution_count": 21,
   "metadata": {},
   "outputs": [
    {
     "data": {
      "text/plain": [
       "array([1, 0], dtype=int64)"
      ]
     },
     "execution_count": 21,
     "metadata": {},
     "output_type": "execute_result"
    }
   ],
   "source": [
    "df['Risk'].unique()"
   ]
  },
  {
   "cell_type": "markdown",
   "metadata": {},
   "source": [
    "    ## Splitting data set"
   ]
  },
  {
   "cell_type": "code",
   "execution_count": 22,
   "metadata": {
    "collapsed": true
   },
   "outputs": [],
   "source": [
    "from sklearn.model_selection import train_test_split"
   ]
  },
  {
   "cell_type": "code",
   "execution_count": 23,
   "metadata": {
    "collapsed": true
   },
   "outputs": [],
   "source": [
    "x_data = df.drop('Risk',axis=1)\n",
    "y_labels = df['Risk']\n",
    "X_train, X_test, y_train, y_test = train_test_split(x_data,y_labels,test_size=0.3,random_state=101)"
   ]
  },
  {
   "cell_type": "code",
   "execution_count": 24,
   "metadata": {},
   "outputs": [
    {
     "data": {
      "text/plain": [
       "Index(['Age', 'Sex', 'Job', 'Housing', 'Duration', 'Purpose', 'Risk'], dtype='object')"
      ]
     },
     "execution_count": 24,
     "metadata": {},
     "output_type": "execute_result"
    }
   ],
   "source": [
    "df.columns"
   ]
  },
  {
   "cell_type": "code",
   "execution_count": 25,
   "metadata": {
    "collapsed": true
   },
   "outputs": [],
   "source": [
    "import tensorflow as tf"
   ]
  },
  {
   "cell_type": "code",
   "execution_count": 26,
   "metadata": {},
   "outputs": [
    {
     "name": "stdout",
     "output_type": "stream",
     "text": [
      "<class 'pandas.core.frame.DataFrame'>\n",
      "RangeIndex: 1000 entries, 0 to 999\n",
      "Data columns (total 7 columns):\n",
      "Age         1000 non-null int64\n",
      "Sex         1000 non-null object\n",
      "Job         1000 non-null int64\n",
      "Housing     1000 non-null object\n",
      "Duration    1000 non-null int64\n",
      "Purpose     1000 non-null object\n",
      "Risk        1000 non-null int64\n",
      "dtypes: int64(4), object(3)\n",
      "memory usage: 54.8+ KB\n"
     ]
    }
   ],
   "source": [
    "df.info()"
   ]
  },
  {
   "cell_type": "code",
   "execution_count": 27,
   "metadata": {},
   "outputs": [
    {
     "data": {
      "text/plain": [
       "array(['male', 'female'], dtype=object)"
      ]
     },
     "execution_count": 27,
     "metadata": {},
     "output_type": "execute_result"
    }
   ],
   "source": [
    "df['Sex'].unique()"
   ]
  },
  {
   "cell_type": "code",
   "execution_count": 28,
   "metadata": {},
   "outputs": [
    {
     "data": {
      "text/plain": [
       "array(['own', 'free', 'rent'], dtype=object)"
      ]
     },
     "execution_count": 28,
     "metadata": {},
     "output_type": "execute_result"
    }
   ],
   "source": [
    "df['Housing'].unique()"
   ]
  },
  {
   "cell_type": "code",
   "execution_count": 29,
   "metadata": {},
   "outputs": [
    {
     "data": {
      "text/plain": [
       "array(['radio/TV', 'education', 'furniture/equipment', 'car', 'business',\n",
       "       'domestic appliances', 'repairs', 'vacation/others'], dtype=object)"
      ]
     },
     "execution_count": 29,
     "metadata": {},
     "output_type": "execute_result"
    }
   ],
   "source": [
    "df['Purpose'].unique()"
   ]
  },
  {
   "cell_type": "markdown",
   "metadata": {},
   "source": [
    "    ## Tensor Flow feature columns"
   ]
  },
  {
   "cell_type": "code",
   "execution_count": 30,
   "metadata": {
    "collapsed": true
   },
   "outputs": [],
   "source": [
    "sex = tf.feature_column.categorical_column_with_vocabulary_list(\"Sex\", ['male', 'female'])\n",
    "housing = tf.feature_column.categorical_column_with_vocabulary_list(\"Housing\", ['own', 'free', 'rent'])\n",
    "purpose = tf.feature_column.categorical_column_with_hash_bucket(\"Purpose\", hash_bucket_size=8)"
   ]
  },
  {
   "cell_type": "code",
   "execution_count": 31,
   "metadata": {},
   "outputs": [
    {
     "data": {
      "text/plain": [
       "Index(['Age', 'Sex', 'Job', 'Housing', 'Duration', 'Purpose', 'Risk'], dtype='object')"
      ]
     },
     "execution_count": 31,
     "metadata": {},
     "output_type": "execute_result"
    }
   ],
   "source": [
    "df.columns"
   ]
  },
  {
   "cell_type": "code",
   "execution_count": 32,
   "metadata": {
    "collapsed": true
   },
   "outputs": [],
   "source": [
    "age = tf.feature_column.numeric_column(\"Age\")\n",
    "job = tf.feature_column.numeric_column(\"Job\")\n",
    "duration = tf.feature_column.numeric_column(\"Duration\")"
   ]
  },
  {
   "cell_type": "code",
   "execution_count": 33,
   "metadata": {
    "collapsed": true
   },
   "outputs": [],
   "source": [
    "feat_cols = [age,sex,job,housing,duration,purpose]"
   ]
  },
  {
   "cell_type": "code",
   "execution_count": 34,
   "metadata": {
    "collapsed": true
   },
   "outputs": [],
   "source": [
    "input_func = tf.estimator.inputs.pandas_input_fn(x=X_train,y=y_train,\n",
    "                                                batch_size=1000,\n",
    "                                                num_epochs=None,\n",
    "                                                shuffle=True)"
   ]
  },
  {
   "cell_type": "code",
   "execution_count": 35,
   "metadata": {},
   "outputs": [
    {
     "name": "stdout",
     "output_type": "stream",
     "text": [
      "INFO:tensorflow:Using default config.\n",
      "WARNING:tensorflow:Using temporary folder as model directory: C:\\Users\\Rakib\\AppData\\Local\\Temp\\tmphe38_f07\n",
      "INFO:tensorflow:Using config: {'_tf_random_seed': 1, '_model_dir': 'C:\\\\Users\\\\Rakib\\\\AppData\\\\Local\\\\Temp\\\\tmphe38_f07', '_session_config': None, '_save_checkpoints_steps': None, '_keep_checkpoint_every_n_hours': 10000, '_log_step_count_steps': 100, '_keep_checkpoint_max': 5, '_save_summary_steps': 100, '_save_checkpoints_secs': 600}\n"
     ]
    }
   ],
   "source": [
    "model = tf.estimator.LinearClassifier(feature_columns=feat_cols)"
   ]
  },
  {
   "cell_type": "markdown",
   "metadata": {},
   "source": [
    "    ## Training Model"
   ]
  },
  {
   "cell_type": "code",
   "execution_count": 36,
   "metadata": {},
   "outputs": [
    {
     "name": "stdout",
     "output_type": "stream",
     "text": [
      "INFO:tensorflow:Create CheckpointSaverHook.\n",
      "INFO:tensorflow:Saving checkpoints for 1 into C:\\Users\\Rakib\\AppData\\Local\\Temp\\tmphe38_f07\\model.ckpt.\n",
      "INFO:tensorflow:step = 1, loss = 693.146\n",
      "INFO:tensorflow:global_step/sec: 136.348\n",
      "INFO:tensorflow:step = 101, loss = 570.45 (0.735 sec)\n",
      "INFO:tensorflow:global_step/sec: 127.807\n",
      "INFO:tensorflow:step = 201, loss = 562.203 (0.784 sec)\n",
      "INFO:tensorflow:global_step/sec: 139.598\n",
      "INFO:tensorflow:step = 301, loss = 579.774 (0.714 sec)\n",
      "INFO:tensorflow:global_step/sec: 139.738\n",
      "INFO:tensorflow:step = 401, loss = 564.426 (0.716 sec)\n",
      "INFO:tensorflow:global_step/sec: 139.416\n",
      "INFO:tensorflow:step = 501, loss = 574.872 (0.717 sec)\n",
      "INFO:tensorflow:global_step/sec: 139.326\n",
      "INFO:tensorflow:step = 601, loss = 560.588 (0.720 sec)\n",
      "INFO:tensorflow:global_step/sec: 138.83\n",
      "INFO:tensorflow:step = 701, loss = 551.919 (0.720 sec)\n",
      "INFO:tensorflow:global_step/sec: 139.236\n",
      "INFO:tensorflow:step = 801, loss = 583.306 (0.716 sec)\n",
      "INFO:tensorflow:global_step/sec: 139.964\n",
      "INFO:tensorflow:step = 901, loss = 593.317 (0.714 sec)\n",
      "INFO:tensorflow:global_step/sec: 139.184\n",
      "INFO:tensorflow:step = 1001, loss = 577.305 (0.719 sec)\n",
      "INFO:tensorflow:global_step/sec: 140.814\n",
      "INFO:tensorflow:step = 1101, loss = 568.505 (0.710 sec)\n",
      "INFO:tensorflow:global_step/sec: 138.876\n",
      "INFO:tensorflow:step = 1201, loss = 569.394 (0.721 sec)\n",
      "INFO:tensorflow:global_step/sec: 138.589\n",
      "INFO:tensorflow:step = 1301, loss = 569.061 (0.721 sec)\n",
      "INFO:tensorflow:global_step/sec: 140.715\n",
      "INFO:tensorflow:step = 1401, loss = 561.019 (0.711 sec)\n",
      "INFO:tensorflow:global_step/sec: 139.337\n",
      "INFO:tensorflow:step = 1501, loss = 578.615 (0.718 sec)\n",
      "INFO:tensorflow:global_step/sec: 138.763\n",
      "INFO:tensorflow:step = 1601, loss = 569.756 (0.720 sec)\n",
      "INFO:tensorflow:global_step/sec: 139.65\n",
      "INFO:tensorflow:step = 1701, loss = 581.056 (0.716 sec)\n",
      "INFO:tensorflow:global_step/sec: 138.849\n",
      "INFO:tensorflow:step = 1801, loss = 567.201 (0.720 sec)\n",
      "INFO:tensorflow:global_step/sec: 139.562\n",
      "INFO:tensorflow:step = 1901, loss = 548.236 (0.717 sec)\n",
      "INFO:tensorflow:global_step/sec: 139.176\n",
      "INFO:tensorflow:step = 2001, loss = 572.544 (0.719 sec)\n",
      "INFO:tensorflow:global_step/sec: 138.555\n",
      "INFO:tensorflow:step = 2101, loss = 567.311 (0.722 sec)\n",
      "INFO:tensorflow:global_step/sec: 139.68\n",
      "INFO:tensorflow:step = 2201, loss = 567.427 (0.715 sec)\n",
      "INFO:tensorflow:global_step/sec: 139.186\n",
      "INFO:tensorflow:step = 2301, loss = 583.646 (0.719 sec)\n",
      "INFO:tensorflow:global_step/sec: 138.862\n",
      "INFO:tensorflow:step = 2401, loss = 571.03 (0.722 sec)\n",
      "INFO:tensorflow:global_step/sec: 139.151\n",
      "INFO:tensorflow:step = 2501, loss = 565.639 (0.718 sec)\n",
      "INFO:tensorflow:global_step/sec: 138.908\n",
      "INFO:tensorflow:step = 2601, loss = 561.88 (0.720 sec)\n",
      "INFO:tensorflow:global_step/sec: 138.13\n",
      "INFO:tensorflow:step = 2701, loss = 555.166 (0.724 sec)\n",
      "INFO:tensorflow:global_step/sec: 138.702\n",
      "INFO:tensorflow:step = 2801, loss = 564.113 (0.722 sec)\n",
      "INFO:tensorflow:global_step/sec: 138.445\n",
      "INFO:tensorflow:step = 2901, loss = 576.13 (0.722 sec)\n",
      "INFO:tensorflow:global_step/sec: 139.694\n",
      "INFO:tensorflow:step = 3001, loss = 590.289 (0.715 sec)\n",
      "INFO:tensorflow:global_step/sec: 138.593\n",
      "INFO:tensorflow:step = 3101, loss = 566.947 (0.721 sec)\n",
      "INFO:tensorflow:global_step/sec: 138.283\n",
      "INFO:tensorflow:step = 3201, loss = 556.435 (0.722 sec)\n",
      "INFO:tensorflow:global_step/sec: 139.294\n",
      "INFO:tensorflow:step = 3301, loss = 571.252 (0.718 sec)\n",
      "INFO:tensorflow:global_step/sec: 138.947\n",
      "INFO:tensorflow:step = 3401, loss = 558.409 (0.720 sec)\n",
      "INFO:tensorflow:global_step/sec: 141.711\n",
      "INFO:tensorflow:step = 3501, loss = 561.925 (0.706 sec)\n",
      "INFO:tensorflow:global_step/sec: 141.263\n",
      "INFO:tensorflow:step = 3601, loss = 563.016 (0.709 sec)\n",
      "INFO:tensorflow:global_step/sec: 137.032\n",
      "INFO:tensorflow:step = 3701, loss = 600.495 (0.729 sec)\n",
      "INFO:tensorflow:global_step/sec: 138.91\n",
      "INFO:tensorflow:step = 3801, loss = 583.127 (0.729 sec)\n",
      "INFO:tensorflow:global_step/sec: 138.472\n",
      "INFO:tensorflow:step = 3901, loss = 545.57 (0.713 sec)\n",
      "INFO:tensorflow:global_step/sec: 138.616\n",
      "INFO:tensorflow:step = 4001, loss = 555.02 (0.722 sec)\n",
      "INFO:tensorflow:global_step/sec: 138.204\n",
      "INFO:tensorflow:step = 4101, loss = 552.865 (0.724 sec)\n",
      "INFO:tensorflow:global_step/sec: 138.451\n",
      "INFO:tensorflow:step = 4201, loss = 554.724 (0.721 sec)\n",
      "INFO:tensorflow:global_step/sec: 138.906\n",
      "INFO:tensorflow:step = 4301, loss = 562.534 (0.721 sec)\n",
      "INFO:tensorflow:global_step/sec: 138.746\n",
      "INFO:tensorflow:step = 4401, loss = 564.964 (0.721 sec)\n",
      "INFO:tensorflow:global_step/sec: 137.559\n",
      "INFO:tensorflow:step = 4501, loss = 575.867 (0.727 sec)\n",
      "INFO:tensorflow:global_step/sec: 139.94\n",
      "INFO:tensorflow:step = 4601, loss = 572.162 (0.715 sec)\n",
      "INFO:tensorflow:global_step/sec: 140.151\n",
      "INFO:tensorflow:step = 4701, loss = 580.32 (0.714 sec)\n",
      "INFO:tensorflow:global_step/sec: 138.117\n",
      "INFO:tensorflow:step = 4801, loss = 571.662 (0.725 sec)\n",
      "INFO:tensorflow:global_step/sec: 138.745\n",
      "INFO:tensorflow:step = 4901, loss = 558.331 (0.720 sec)\n",
      "INFO:tensorflow:Saving checkpoints for 5000 into C:\\Users\\Rakib\\AppData\\Local\\Temp\\tmphe38_f07\\model.ckpt.\n",
      "INFO:tensorflow:Loss for final step: 564.818.\n"
     ]
    },
    {
     "data": {
      "text/plain": [
       "<tensorflow.python.estimator.canned.linear.LinearClassifier at 0x2a1e25d60f0>"
      ]
     },
     "execution_count": 36,
     "metadata": {},
     "output_type": "execute_result"
    }
   ],
   "source": [
    "model.train(input_fn=input_func,steps=5000)"
   ]
  },
  {
   "cell_type": "code",
   "execution_count": 37,
   "metadata": {
    "collapsed": true
   },
   "outputs": [],
   "source": [
    "pred_fn = tf.estimator.inputs.pandas_input_fn(x=X_test,\n",
    "                                             batch_size=len(X_test),\n",
    "                                             shuffle=False)"
   ]
  },
  {
   "cell_type": "code",
   "execution_count": 38,
   "metadata": {},
   "outputs": [
    {
     "name": "stdout",
     "output_type": "stream",
     "text": [
      "INFO:tensorflow:Restoring parameters from C:\\Users\\Rakib\\AppData\\Local\\Temp\\tmphe38_f07\\model.ckpt-5000\n"
     ]
    }
   ],
   "source": [
    "prediction = list(model.predict(input_fn=pred_fn))"
   ]
  },
  {
   "cell_type": "code",
   "execution_count": 39,
   "metadata": {},
   "outputs": [
    {
     "data": {
      "text/plain": [
       "{'class_ids': array([1], dtype=int64),\n",
       " 'classes': array([b'1'], dtype=object),\n",
       " 'logistic': array([ 0.70546973], dtype=float32),\n",
       " 'logits': array([ 0.87348199], dtype=float32),\n",
       " 'probabilities': array([ 0.2945303 ,  0.70546973], dtype=float32)}"
      ]
     },
     "execution_count": 39,
     "metadata": {},
     "output_type": "execute_result"
    }
   ],
   "source": [
    "prediction[0]"
   ]
  },
  {
   "cell_type": "code",
   "execution_count": 40,
   "metadata": {
    "collapsed": true
   },
   "outputs": [],
   "source": [
    "final_preds = []\n",
    "for pred in prediction:\n",
    "    final_preds.append(pred['class_ids'][0])"
   ]
  },
  {
   "cell_type": "code",
   "execution_count": 41,
   "metadata": {},
   "outputs": [
    {
     "data": {
      "text/plain": [
       "[1, 1, 1, 1, 0, 1, 1, 1, 1, 1]"
      ]
     },
     "execution_count": 41,
     "metadata": {},
     "output_type": "execute_result"
    }
   ],
   "source": [
    "final_preds[:10]"
   ]
  },
  {
   "cell_type": "markdown",
   "metadata": {},
   "source": [
    "### Evaluation"
   ]
  },
  {
   "cell_type": "code",
   "execution_count": 42,
   "metadata": {
    "collapsed": true
   },
   "outputs": [],
   "source": [
    "from sklearn.metrics import classification_report"
   ]
  },
  {
   "cell_type": "code",
   "execution_count": 43,
   "metadata": {},
   "outputs": [
    {
     "name": "stdout",
     "output_type": "stream",
     "text": [
      "             precision    recall  f1-score   support\n",
      "\n",
      "          0       0.60      0.22      0.32        96\n",
      "          1       0.72      0.93      0.81       204\n",
      "\n",
      "avg / total       0.68      0.70      0.65       300\n",
      "\n"
     ]
    }
   ],
   "source": [
    "print(classification_report(y_test,final_preds))"
   ]
  },
  {
   "cell_type": "code",
   "execution_count": 44,
   "metadata": {},
   "outputs": [
    {
     "data": {
      "text/plain": [
       "0.70333333333333337"
      ]
     },
     "execution_count": 44,
     "metadata": {},
     "output_type": "execute_result"
    }
   ],
   "source": [
    "from sklearn.metrics import jaccard_similarity_score\n",
    "jaccard_similarity_score(y_test, final_preds)"
   ]
  },
  {
   "cell_type": "code",
   "execution_count": 45,
   "metadata": {},
   "outputs": [
    {
     "data": {
      "text/plain": [
       "10.246703563181054"
      ]
     },
     "execution_count": 45,
     "metadata": {},
     "output_type": "execute_result"
    }
   ],
   "source": [
    "from sklearn.metrics import log_loss\n",
    "log_loss(y_test, final_preds)"
   ]
  }
 ],
 "metadata": {
  "kernelspec": {
   "display_name": "Python 3",
   "language": "python",
   "name": "python3"
  },
  "language_info": {
   "codemirror_mode": {
    "name": "ipython",
    "version": 3
   },
   "file_extension": ".py",
   "mimetype": "text/x-python",
   "name": "python",
   "nbconvert_exporter": "python",
   "pygments_lexer": "ipython3",
   "version": "3.5.4"
  }
 },
 "nbformat": 4,
 "nbformat_minor": 2
}
